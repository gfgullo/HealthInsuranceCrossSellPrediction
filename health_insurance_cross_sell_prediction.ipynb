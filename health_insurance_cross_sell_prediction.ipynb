{
  "nbformat": 4,
  "nbformat_minor": 0,
  "metadata": {
    "colab": {
      "name": "health_insurance_cross_sell_prediction.ipynb",
      "provenance": [],
      "collapsed_sections": [
        "TLo1H9qcEo7X"
      ],
      "toc_visible": true
    },
    "kernelspec": {
      "name": "python3",
      "display_name": "Python 3"
    },
    "language_info": {
      "name": "python"
    },
    "accelerator": "GPU"
  },
  "cells": [
    {
      "cell_type": "markdown",
      "metadata": {
        "id": "nTEG8yW5DLIf"
      },
      "source": [
        "# Predizione di opportunità di Cross Sell di assicurazioni\n",
        "\n",
        "Il cliente è una compagnia di assicurazioni che ha fornito un'assicurazione sanitaria ai suoi clienti, adesso hanno bisogno del tuo aiuto per costruire un modello predittivo in grado di prevedere se gli assicurati dell'anno passato potrebbero essere interessati ad acquistare anche un'assicurazione per il proprio veicolo.\n",
        "\n",
        "Il dataset è composto dalle seguenti proprietà:\n",
        "- **id**: id univoco dell'acquirente.\n",
        "- **Gender**: sesso dell'acquirente.\n",
        "- **Age**: età dell'acquirente.\n",
        "- **Driving_License**: 1 se l'utente ha la patente di guida, 0 altrimenti.\n",
        "- **Region_Code**: codice univoco della regione dell'acquirente.\n",
        "- **Previously_Insured**: 1 se l'utente ha già un veicolo assicurato, 0 altrimenti.\n",
        "- **Vehicle_Age**: età del veicolo\n",
        "- **Vehicle_Damage**: 1 se l'utente ha danneggiato il veicolo in passato, 0 altrimenti.\n",
        "- **Annual_Premium**: la cifra che l'utente deve pagare come premio durante l'anno.\n",
        "- **Policy_Sales_Channel**: codice anonimizzato del canale utilizzato per la proposta (es. per email, per telefono, di persona, ecc...)\n",
        "- **Vintage**: numero di giorni dalla quale l'utente è cliente dell'azienda.\n",
        "- **Response**: 1 se l'acquirente ha risposto positivametne alla proposta di vendità, 0 altrimenti.\n",
        "\n",
        "L'obiettivo del modello è prevedere il valore di **Response** in base al valore delle altre proprietà"
      ]
    },
    {
      "cell_type": "markdown",
      "metadata": {
        "id": "RiBeqqy_KxCl"
      },
      "source": [
        "## Dipendenze"
      ]
    },
    {
      "cell_type": "code",
      "metadata": {
        "id": "yWgqUWkSKvsZ"
      },
      "source": [
        "import numpy as np\n",
        "import pandas as pd\n",
        "from sklearn.model_selection import train_test_split\n",
        "from sklearn.preprocessing import StandardScaler\n",
        "import tensorflow as tf\n",
        "from sklearn.feature_selection import mutual_info_classif\n",
        "from tensorboard.plugins.hparams import api as hp\n",
        "from tensorflow.keras.callbacks import Callback\n",
        "from tensorflow.keras.models import load_model\n",
        "import matplotlib.pyplot as plt\n",
        "from sklearn.metrics import confusion_matrix\n",
        "from sklearn.linear_model import LogisticRegression\n",
        "import seaborn as sns\n",
        "from datetime import datetime"
      ],
      "execution_count": 1,
      "outputs": []
    },
    {
      "cell_type": "code",
      "metadata": {
        "id": "u0eejrg0OcJT"
      },
      "source": [
        "pd.set_option('display.max_rows', 300)\n",
        "\n",
        "plt.rcParams[\"figure.figsize\"] = (60,15)\n",
        "plt.rcParams['font.size'] = 16"
      ],
      "execution_count": 2,
      "outputs": []
    },
    {
      "cell_type": "markdown",
      "metadata": {
        "id": "ONa2zi3BKnLM"
      },
      "source": [
        "## Scarichiamo il Dataset\n",
        "Il dataset è disponibile su Kaggle a [questo indirizzo](https://www.kaggle.com/anmolkumar/health-insurance-cross-sell-prediction). Per scaricarlo usiamo direttamente le API di Kaggle. Creiamo il file json di autenticazione con il nostro nome utente Kaggle e la chiave."
      ]
    },
    {
      "cell_type": "code",
      "metadata": {
        "id": "8IOtg-OrJHMp"
      },
      "source": [
        "!mkdir ~/.kaggle/\n",
        "!echo '{\"username\":\"guizard\",\"key\":\"0fb626aa1167c7eeabdda3517aa9d576\"}' > ~/.kaggle/kaggle.json\n",
        "!chmod 600 ~/.kaggle/kaggle.json"
      ],
      "execution_count": 3,
      "outputs": []
    },
    {
      "cell_type": "markdown",
      "metadata": {
        "id": "nmZnrE3HHQIu"
      },
      "source": [
        "Ora scarichiamo il dataset"
      ]
    },
    {
      "cell_type": "code",
      "metadata": {
        "colab": {
          "base_uri": "https://localhost:8080/"
        },
        "id": "vUIkqMDqItnJ",
        "outputId": "dfc9f4fa-731e-45c1-9881-d35f5d67a3c7"
      },
      "source": [
        "!kaggle datasets download anmolkumar/health-insurance-cross-sell-prediction"
      ],
      "execution_count": 4,
      "outputs": [
        {
          "output_type": "stream",
          "text": [
            "Downloading health-insurance-cross-sell-prediction.zip to /content\n",
            " 77% 5.00M/6.47M [00:00<00:00, 9.71MB/s]\n",
            "100% 6.47M/6.47M [00:00<00:00, 12.0MB/s]\n"
          ],
          "name": "stdout"
        }
      ]
    },
    {
      "cell_type": "markdown",
      "metadata": {
        "id": "B9ddSmZhHS06"
      },
      "source": [
        "ed estraiamo lo zip scaricato"
      ]
    },
    {
      "cell_type": "code",
      "metadata": {
        "colab": {
          "base_uri": "https://localhost:8080/"
        },
        "id": "wr87jfP4o22a",
        "outputId": "bbaad9cd-a99b-4818-a12a-01fbb1ac5c3a"
      },
      "source": [
        "!unzip health-insurance-cross-sell-prediction.zip\n",
        "!ls"
      ],
      "execution_count": 5,
      "outputs": [
        {
          "output_type": "stream",
          "text": [
            "Archive:  health-insurance-cross-sell-prediction.zip\n",
            "  inflating: sample_submission.csv   \n",
            "  inflating: test.csv                \n",
            "  inflating: train.csv               \n",
            "health-insurance-cross-sell-prediction.zip  sample_submission.csv  train.csv\n",
            "sample_data\t\t\t\t    test.csv\n"
          ],
          "name": "stdout"
        }
      ]
    },
    {
      "cell_type": "markdown",
      "metadata": {
        "id": "Sz16UC3lKqBo"
      },
      "source": [
        "## Carichiamo il Dataset\n",
        "Per la creazione del nostro modello concentriamoci solo sul file train.csv. Carichiamolo dentro un dataframe di Pandas."
      ]
    },
    {
      "cell_type": "code",
      "metadata": {
        "colab": {
          "base_uri": "https://localhost:8080/",
          "height": 195
        },
        "id": "HnVpSJ-_Krcl",
        "outputId": "3f88a76a-b521-44c2-fd66-06ec2bd3b36f"
      },
      "source": [
        "df = pd.read_csv(\"train.csv\")\n",
        "df.head()"
      ],
      "execution_count": 6,
      "outputs": [
        {
          "output_type": "execute_result",
          "data": {
            "text/html": [
              "<div>\n",
              "<style scoped>\n",
              "    .dataframe tbody tr th:only-of-type {\n",
              "        vertical-align: middle;\n",
              "    }\n",
              "\n",
              "    .dataframe tbody tr th {\n",
              "        vertical-align: top;\n",
              "    }\n",
              "\n",
              "    .dataframe thead th {\n",
              "        text-align: right;\n",
              "    }\n",
              "</style>\n",
              "<table border=\"1\" class=\"dataframe\">\n",
              "  <thead>\n",
              "    <tr style=\"text-align: right;\">\n",
              "      <th></th>\n",
              "      <th>id</th>\n",
              "      <th>Gender</th>\n",
              "      <th>Age</th>\n",
              "      <th>Driving_License</th>\n",
              "      <th>Region_Code</th>\n",
              "      <th>Previously_Insured</th>\n",
              "      <th>Vehicle_Age</th>\n",
              "      <th>Vehicle_Damage</th>\n",
              "      <th>Annual_Premium</th>\n",
              "      <th>Policy_Sales_Channel</th>\n",
              "      <th>Vintage</th>\n",
              "      <th>Response</th>\n",
              "    </tr>\n",
              "  </thead>\n",
              "  <tbody>\n",
              "    <tr>\n",
              "      <th>0</th>\n",
              "      <td>1</td>\n",
              "      <td>Male</td>\n",
              "      <td>44</td>\n",
              "      <td>1</td>\n",
              "      <td>28.0</td>\n",
              "      <td>0</td>\n",
              "      <td>&gt; 2 Years</td>\n",
              "      <td>Yes</td>\n",
              "      <td>40454.0</td>\n",
              "      <td>26.0</td>\n",
              "      <td>217</td>\n",
              "      <td>1</td>\n",
              "    </tr>\n",
              "    <tr>\n",
              "      <th>1</th>\n",
              "      <td>2</td>\n",
              "      <td>Male</td>\n",
              "      <td>76</td>\n",
              "      <td>1</td>\n",
              "      <td>3.0</td>\n",
              "      <td>0</td>\n",
              "      <td>1-2 Year</td>\n",
              "      <td>No</td>\n",
              "      <td>33536.0</td>\n",
              "      <td>26.0</td>\n",
              "      <td>183</td>\n",
              "      <td>0</td>\n",
              "    </tr>\n",
              "    <tr>\n",
              "      <th>2</th>\n",
              "      <td>3</td>\n",
              "      <td>Male</td>\n",
              "      <td>47</td>\n",
              "      <td>1</td>\n",
              "      <td>28.0</td>\n",
              "      <td>0</td>\n",
              "      <td>&gt; 2 Years</td>\n",
              "      <td>Yes</td>\n",
              "      <td>38294.0</td>\n",
              "      <td>26.0</td>\n",
              "      <td>27</td>\n",
              "      <td>1</td>\n",
              "    </tr>\n",
              "    <tr>\n",
              "      <th>3</th>\n",
              "      <td>4</td>\n",
              "      <td>Male</td>\n",
              "      <td>21</td>\n",
              "      <td>1</td>\n",
              "      <td>11.0</td>\n",
              "      <td>1</td>\n",
              "      <td>&lt; 1 Year</td>\n",
              "      <td>No</td>\n",
              "      <td>28619.0</td>\n",
              "      <td>152.0</td>\n",
              "      <td>203</td>\n",
              "      <td>0</td>\n",
              "    </tr>\n",
              "    <tr>\n",
              "      <th>4</th>\n",
              "      <td>5</td>\n",
              "      <td>Female</td>\n",
              "      <td>29</td>\n",
              "      <td>1</td>\n",
              "      <td>41.0</td>\n",
              "      <td>1</td>\n",
              "      <td>&lt; 1 Year</td>\n",
              "      <td>No</td>\n",
              "      <td>27496.0</td>\n",
              "      <td>152.0</td>\n",
              "      <td>39</td>\n",
              "      <td>0</td>\n",
              "    </tr>\n",
              "  </tbody>\n",
              "</table>\n",
              "</div>"
            ],
            "text/plain": [
              "   id  Gender  Age  ...  Policy_Sales_Channel  Vintage  Response\n",
              "0   1    Male   44  ...                  26.0      217         1\n",
              "1   2    Male   76  ...                  26.0      183         0\n",
              "2   3    Male   47  ...                  26.0       27         1\n",
              "3   4    Male   21  ...                 152.0      203         0\n",
              "4   5  Female   29  ...                 152.0       39         0\n",
              "\n",
              "[5 rows x 12 columns]"
            ]
          },
          "metadata": {
            "tags": []
          },
          "execution_count": 6
        }
      ]
    },
    {
      "cell_type": "markdown",
      "metadata": {
        "id": "GGTJw77r5ULC"
      },
      "source": [
        "## EDA Exploratory Data Analysis\n",
        "Diamo un'occhio ai dati ! Iniziamo vedendo quanti esempi abbiamo a disposizione."
      ]
    },
    {
      "cell_type": "code",
      "metadata": {
        "colab": {
          "base_uri": "https://localhost:8080/"
        },
        "id": "qbP6hb_BHt9-",
        "outputId": "b36e2716-f1c2-4a49-9ac8-b178aafee925"
      },
      "source": [
        "df.count()"
      ],
      "execution_count": 7,
      "outputs": [
        {
          "output_type": "execute_result",
          "data": {
            "text/plain": [
              "id                      381109\n",
              "Gender                  381109\n",
              "Age                     381109\n",
              "Driving_License         381109\n",
              "Region_Code             381109\n",
              "Previously_Insured      381109\n",
              "Vehicle_Age             381109\n",
              "Vehicle_Damage          381109\n",
              "Annual_Premium          381109\n",
              "Policy_Sales_Channel    381109\n",
              "Vintage                 381109\n",
              "Response                381109\n",
              "dtype: int64"
            ]
          },
          "metadata": {
            "tags": []
          },
          "execution_count": 7
        }
      ]
    },
    {
      "cell_type": "markdown",
      "metadata": {
        "id": "w-shCsEpH1m-"
      },
      "source": [
        "Accipicchia un bel po' ! Ma saranno tutti dati validi ? Oppure ci saranno NaN e Null in mezzo ? Verifichiamolo."
      ]
    },
    {
      "cell_type": "code",
      "metadata": {
        "colab": {
          "base_uri": "https://localhost:8080/"
        },
        "id": "wbYSbD-9ICMy",
        "outputId": "fd8c3e61-f477-4930-ae49-6803231c81e4"
      },
      "source": [
        "df.isna().sum()"
      ],
      "execution_count": 8,
      "outputs": [
        {
          "output_type": "execute_result",
          "data": {
            "text/plain": [
              "id                      0\n",
              "Gender                  0\n",
              "Age                     0\n",
              "Driving_License         0\n",
              "Region_Code             0\n",
              "Previously_Insured      0\n",
              "Vehicle_Age             0\n",
              "Vehicle_Damage          0\n",
              "Annual_Premium          0\n",
              "Policy_Sales_Channel    0\n",
              "Vintage                 0\n",
              "Response                0\n",
              "dtype: int64"
            ]
          },
          "metadata": {
            "tags": []
          },
          "execution_count": 8
        }
      ]
    },
    {
      "cell_type": "code",
      "metadata": {
        "colab": {
          "base_uri": "https://localhost:8080/"
        },
        "id": "sBsWaqZH5Yn0",
        "outputId": "22b506b5-1ed8-450f-9943-78f507ba40ff"
      },
      "source": [
        "df.isnull().sum()"
      ],
      "execution_count": 9,
      "outputs": [
        {
          "output_type": "execute_result",
          "data": {
            "text/plain": [
              "id                      0\n",
              "Gender                  0\n",
              "Age                     0\n",
              "Driving_License         0\n",
              "Region_Code             0\n",
              "Previously_Insured      0\n",
              "Vehicle_Age             0\n",
              "Vehicle_Damage          0\n",
              "Annual_Premium          0\n",
              "Policy_Sales_Channel    0\n",
              "Vintage                 0\n",
              "Response                0\n",
              "dtype: int64"
            ]
          },
          "metadata": {
            "tags": []
          },
          "execution_count": 9
        }
      ]
    },
    {
      "cell_type": "markdown",
      "metadata": {
        "id": "hB-oJ_rSIEoS"
      },
      "source": [
        "Nessun NaN e nessun Null, fantastico. Diamo uno sguardo al tipo delle diverse colonne."
      ]
    },
    {
      "cell_type": "code",
      "metadata": {
        "colab": {
          "base_uri": "https://localhost:8080/"
        },
        "id": "fr77JPZ7Jrl1",
        "outputId": "4c4bcaea-a27a-4d87-c94b-41122f332279"
      },
      "source": [
        "df.dtypes"
      ],
      "execution_count": 10,
      "outputs": [
        {
          "output_type": "execute_result",
          "data": {
            "text/plain": [
              "id                        int64\n",
              "Gender                   object\n",
              "Age                       int64\n",
              "Driving_License           int64\n",
              "Region_Code             float64\n",
              "Previously_Insured        int64\n",
              "Vehicle_Age              object\n",
              "Vehicle_Damage           object\n",
              "Annual_Premium          float64\n",
              "Policy_Sales_Channel    float64\n",
              "Vintage                   int64\n",
              "Response                  int64\n",
              "dtype: object"
            ]
          },
          "metadata": {
            "tags": []
          },
          "execution_count": 10
        }
      ]
    },
    {
      "cell_type": "markdown",
      "metadata": {
        "id": "JkOcmlONBRgX"
      },
      "source": [
        "## Analisi delle variabili continue\n",
        "Iniziamo guardando le variabili continue, definiamole all'interno di una lista"
      ]
    },
    {
      "cell_type": "code",
      "metadata": {
        "id": "MSrr5NDa5rJz"
      },
      "source": [
        "numerical_columns = [\"Age\",\"Region_Code\", \"Annual_Premium\", \"Policy_Sales_Channel\", \"Vintage\"]"
      ],
      "execution_count": 11,
      "outputs": []
    },
    {
      "cell_type": "markdown",
      "metadata": {
        "id": "1pTD5rJnKEmz"
      },
      "source": [
        "e facciamo un po' di statistica descrittiva."
      ]
    },
    {
      "cell_type": "code",
      "metadata": {
        "colab": {
          "base_uri": "https://localhost:8080/",
          "height": 284
        },
        "id": "Be9OZguD5y6Y",
        "outputId": "ad1c1aad-1a14-4eb0-f2dc-9a32881c90ec"
      },
      "source": [
        "df[numerical_columns].describe()"
      ],
      "execution_count": 12,
      "outputs": [
        {
          "output_type": "execute_result",
          "data": {
            "text/html": [
              "<div>\n",
              "<style scoped>\n",
              "    .dataframe tbody tr th:only-of-type {\n",
              "        vertical-align: middle;\n",
              "    }\n",
              "\n",
              "    .dataframe tbody tr th {\n",
              "        vertical-align: top;\n",
              "    }\n",
              "\n",
              "    .dataframe thead th {\n",
              "        text-align: right;\n",
              "    }\n",
              "</style>\n",
              "<table border=\"1\" class=\"dataframe\">\n",
              "  <thead>\n",
              "    <tr style=\"text-align: right;\">\n",
              "      <th></th>\n",
              "      <th>Age</th>\n",
              "      <th>Region_Code</th>\n",
              "      <th>Annual_Premium</th>\n",
              "      <th>Policy_Sales_Channel</th>\n",
              "      <th>Vintage</th>\n",
              "    </tr>\n",
              "  </thead>\n",
              "  <tbody>\n",
              "    <tr>\n",
              "      <th>count</th>\n",
              "      <td>381109.000000</td>\n",
              "      <td>381109.000000</td>\n",
              "      <td>381109.000000</td>\n",
              "      <td>381109.000000</td>\n",
              "      <td>381109.000000</td>\n",
              "    </tr>\n",
              "    <tr>\n",
              "      <th>mean</th>\n",
              "      <td>38.822584</td>\n",
              "      <td>26.388807</td>\n",
              "      <td>30564.389581</td>\n",
              "      <td>112.034295</td>\n",
              "      <td>154.347397</td>\n",
              "    </tr>\n",
              "    <tr>\n",
              "      <th>std</th>\n",
              "      <td>15.511611</td>\n",
              "      <td>13.229888</td>\n",
              "      <td>17213.155057</td>\n",
              "      <td>54.203995</td>\n",
              "      <td>83.671304</td>\n",
              "    </tr>\n",
              "    <tr>\n",
              "      <th>min</th>\n",
              "      <td>20.000000</td>\n",
              "      <td>0.000000</td>\n",
              "      <td>2630.000000</td>\n",
              "      <td>1.000000</td>\n",
              "      <td>10.000000</td>\n",
              "    </tr>\n",
              "    <tr>\n",
              "      <th>25%</th>\n",
              "      <td>25.000000</td>\n",
              "      <td>15.000000</td>\n",
              "      <td>24405.000000</td>\n",
              "      <td>29.000000</td>\n",
              "      <td>82.000000</td>\n",
              "    </tr>\n",
              "    <tr>\n",
              "      <th>50%</th>\n",
              "      <td>36.000000</td>\n",
              "      <td>28.000000</td>\n",
              "      <td>31669.000000</td>\n",
              "      <td>133.000000</td>\n",
              "      <td>154.000000</td>\n",
              "    </tr>\n",
              "    <tr>\n",
              "      <th>75%</th>\n",
              "      <td>49.000000</td>\n",
              "      <td>35.000000</td>\n",
              "      <td>39400.000000</td>\n",
              "      <td>152.000000</td>\n",
              "      <td>227.000000</td>\n",
              "    </tr>\n",
              "    <tr>\n",
              "      <th>max</th>\n",
              "      <td>85.000000</td>\n",
              "      <td>52.000000</td>\n",
              "      <td>540165.000000</td>\n",
              "      <td>163.000000</td>\n",
              "      <td>299.000000</td>\n",
              "    </tr>\n",
              "  </tbody>\n",
              "</table>\n",
              "</div>"
            ],
            "text/plain": [
              "                 Age    Region_Code  ...  Policy_Sales_Channel        Vintage\n",
              "count  381109.000000  381109.000000  ...         381109.000000  381109.000000\n",
              "mean       38.822584      26.388807  ...            112.034295     154.347397\n",
              "std        15.511611      13.229888  ...             54.203995      83.671304\n",
              "min        20.000000       0.000000  ...              1.000000      10.000000\n",
              "25%        25.000000      15.000000  ...             29.000000      82.000000\n",
              "50%        36.000000      28.000000  ...            133.000000     154.000000\n",
              "75%        49.000000      35.000000  ...            152.000000     227.000000\n",
              "max        85.000000      52.000000  ...            163.000000     299.000000\n",
              "\n",
              "[8 rows x 5 columns]"
            ]
          },
          "metadata": {
            "tags": []
          },
          "execution_count": 12
        }
      ]
    },
    {
      "cell_type": "markdown",
      "metadata": {
        "id": "iNE7QEPDKRfM"
      },
      "source": [
        "Le colonne sono tutte su scale differenti, ci toccherà standardizzare. Diamo uno sguardo alle correlazioni tra le diverse colonne usando l'indice di correlazione di Pearson<sup>[1](#references)</sup>"
      ]
    },
    {
      "cell_type": "code",
      "metadata": {
        "id": "_GYOZNGELnbE",
        "outputId": "4560afe6-eab6-46ee-89b7-5352a19fc623",
        "colab": {
          "base_uri": "https://localhost:8080/",
          "height": 314
        }
      },
      "source": [
        "# In commento dei metodi alternativi\n",
        "# df.corr(method='kendal') # Kendall rank correlation coefficient\n",
        "# df.corr(method='spearman') # Spearman rank correlation\n",
        "df.corr() # Pearson correlation coefficient"
      ],
      "execution_count": 15,
      "outputs": [
        {
          "output_type": "execute_result",
          "data": {
            "text/html": [
              "<div>\n",
              "<style scoped>\n",
              "    .dataframe tbody tr th:only-of-type {\n",
              "        vertical-align: middle;\n",
              "    }\n",
              "\n",
              "    .dataframe tbody tr th {\n",
              "        vertical-align: top;\n",
              "    }\n",
              "\n",
              "    .dataframe thead th {\n",
              "        text-align: right;\n",
              "    }\n",
              "</style>\n",
              "<table border=\"1\" class=\"dataframe\">\n",
              "  <thead>\n",
              "    <tr style=\"text-align: right;\">\n",
              "      <th></th>\n",
              "      <th>id</th>\n",
              "      <th>Age</th>\n",
              "      <th>Driving_License</th>\n",
              "      <th>Region_Code</th>\n",
              "      <th>Previously_Insured</th>\n",
              "      <th>Annual_Premium</th>\n",
              "      <th>Policy_Sales_Channel</th>\n",
              "      <th>Vintage</th>\n",
              "      <th>Response</th>\n",
              "    </tr>\n",
              "  </thead>\n",
              "  <tbody>\n",
              "    <tr>\n",
              "      <th>id</th>\n",
              "      <td>1.000000</td>\n",
              "      <td>0.001561</td>\n",
              "      <td>-0.000564</td>\n",
              "      <td>-0.000572</td>\n",
              "      <td>0.002457</td>\n",
              "      <td>0.003027</td>\n",
              "      <td>-0.002837</td>\n",
              "      <td>-0.000630</td>\n",
              "      <td>-0.001368</td>\n",
              "    </tr>\n",
              "    <tr>\n",
              "      <th>Age</th>\n",
              "      <td>0.001561</td>\n",
              "      <td>1.000000</td>\n",
              "      <td>-0.079782</td>\n",
              "      <td>0.042574</td>\n",
              "      <td>-0.254682</td>\n",
              "      <td>0.067507</td>\n",
              "      <td>-0.577826</td>\n",
              "      <td>-0.001264</td>\n",
              "      <td>0.111147</td>\n",
              "    </tr>\n",
              "    <tr>\n",
              "      <th>Driving_License</th>\n",
              "      <td>-0.000564</td>\n",
              "      <td>-0.079782</td>\n",
              "      <td>1.000000</td>\n",
              "      <td>-0.001081</td>\n",
              "      <td>0.014969</td>\n",
              "      <td>-0.011906</td>\n",
              "      <td>0.043731</td>\n",
              "      <td>-0.000848</td>\n",
              "      <td>0.010155</td>\n",
              "    </tr>\n",
              "    <tr>\n",
              "      <th>Region_Code</th>\n",
              "      <td>-0.000572</td>\n",
              "      <td>0.042574</td>\n",
              "      <td>-0.001081</td>\n",
              "      <td>1.000000</td>\n",
              "      <td>-0.024659</td>\n",
              "      <td>-0.010588</td>\n",
              "      <td>-0.042420</td>\n",
              "      <td>-0.002750</td>\n",
              "      <td>0.010570</td>\n",
              "    </tr>\n",
              "    <tr>\n",
              "      <th>Previously_Insured</th>\n",
              "      <td>0.002457</td>\n",
              "      <td>-0.254682</td>\n",
              "      <td>0.014969</td>\n",
              "      <td>-0.024659</td>\n",
              "      <td>1.000000</td>\n",
              "      <td>0.004269</td>\n",
              "      <td>0.219381</td>\n",
              "      <td>0.002537</td>\n",
              "      <td>-0.341170</td>\n",
              "    </tr>\n",
              "    <tr>\n",
              "      <th>Annual_Premium</th>\n",
              "      <td>0.003027</td>\n",
              "      <td>0.067507</td>\n",
              "      <td>-0.011906</td>\n",
              "      <td>-0.010588</td>\n",
              "      <td>0.004269</td>\n",
              "      <td>1.000000</td>\n",
              "      <td>-0.113247</td>\n",
              "      <td>-0.000608</td>\n",
              "      <td>0.022575</td>\n",
              "    </tr>\n",
              "    <tr>\n",
              "      <th>Policy_Sales_Channel</th>\n",
              "      <td>-0.002837</td>\n",
              "      <td>-0.577826</td>\n",
              "      <td>0.043731</td>\n",
              "      <td>-0.042420</td>\n",
              "      <td>0.219381</td>\n",
              "      <td>-0.113247</td>\n",
              "      <td>1.000000</td>\n",
              "      <td>0.000002</td>\n",
              "      <td>-0.139042</td>\n",
              "    </tr>\n",
              "    <tr>\n",
              "      <th>Vintage</th>\n",
              "      <td>-0.000630</td>\n",
              "      <td>-0.001264</td>\n",
              "      <td>-0.000848</td>\n",
              "      <td>-0.002750</td>\n",
              "      <td>0.002537</td>\n",
              "      <td>-0.000608</td>\n",
              "      <td>0.000002</td>\n",
              "      <td>1.000000</td>\n",
              "      <td>-0.001050</td>\n",
              "    </tr>\n",
              "    <tr>\n",
              "      <th>Response</th>\n",
              "      <td>-0.001368</td>\n",
              "      <td>0.111147</td>\n",
              "      <td>0.010155</td>\n",
              "      <td>0.010570</td>\n",
              "      <td>-0.341170</td>\n",
              "      <td>0.022575</td>\n",
              "      <td>-0.139042</td>\n",
              "      <td>-0.001050</td>\n",
              "      <td>1.000000</td>\n",
              "    </tr>\n",
              "  </tbody>\n",
              "</table>\n",
              "</div>"
            ],
            "text/plain": [
              "                            id       Age  ...   Vintage  Response\n",
              "id                    1.000000  0.001561  ... -0.000630 -0.001368\n",
              "Age                   0.001561  1.000000  ... -0.001264  0.111147\n",
              "Driving_License      -0.000564 -0.079782  ... -0.000848  0.010155\n",
              "Region_Code          -0.000572  0.042574  ... -0.002750  0.010570\n",
              "Previously_Insured    0.002457 -0.254682  ...  0.002537 -0.341170\n",
              "Annual_Premium        0.003027  0.067507  ... -0.000608  0.022575\n",
              "Policy_Sales_Channel -0.002837 -0.577826  ...  0.000002 -0.139042\n",
              "Vintage              -0.000630 -0.001264  ...  1.000000 -0.001050\n",
              "Response             -0.001368  0.111147  ... -0.001050  1.000000\n",
              "\n",
              "[9 rows x 9 columns]"
            ]
          },
          "metadata": {
            "tags": []
          },
          "execution_count": 15
        }
      ]
    },
    {
      "cell_type": "markdown",
      "metadata": {
        "id": "nJIQZGqXL8QI"
      },
      "source": [
        "Il risultato è un dataframe, per una visualizzazione più efficace mettiamolo dentro una heatmap."
      ]
    },
    {
      "cell_type": "code",
      "metadata": {
        "colab": {
          "base_uri": "https://localhost:8080/",
          "height": 728
        },
        "id": "FZSaB0PLsojU",
        "outputId": "328679c0-89c9-43db-8270-3a71b3192bb3"
      },
      "source": [
        "plt.figure(figsize = (10,10))\n",
        "plt.title(\"Correlation Plot\")\n",
        "sns.heatmap(df.corr(), linewidth = 5, annot = True, square = True, annot_kws={'size': 10})"
      ],
      "execution_count": 17,
      "outputs": [
        {
          "output_type": "execute_result",
          "data": {
            "text/plain": [
              "<matplotlib.axes._subplots.AxesSubplot at 0x7f36e7553e50>"
            ]
          },
          "metadata": {
            "tags": []
          },
          "execution_count": 17
        },
        {
          "output_type": "display_data",
          "data": {
            "image/png": "[encoded data removed]",
            "text/plain": [
              "<Figure size 720x720 with 2 Axes>"
            ]
          },
          "metadata": {
            "tags": [],
            "needs_background": "light"
          }
        }
      ]
    },
    {
      "cell_type": "markdown",
      "metadata": {
        "id": "tlovF3XeBWwg"
      },
      "source": [
        "## Analisi delle variabili categoriche\n",
        "Passiamo alle variabili categoriche."
      ]
    },
    {
      "cell_type": "code",
      "metadata": {
        "id": "U4qUA0TjKSpu"
      },
      "source": [
        "categorical_columns = [\"Gender\",\"Driving_License\", 'Previously_Insured', 'Vehicle_Age', 'Vehicle_Damage']"
      ],
      "execution_count": 29,
      "outputs": []
    },
    {
      "cell_type": "markdown",
      "metadata": {
        "id": "zV7C-_2CMLv7"
      },
      "source": [
        "Creiamo un grafico a torta per mostrare la distruzione delle categorie dentro ogni variabile."
      ]
    },
    {
      "cell_type": "code",
      "metadata": {
        "colab": {
          "base_uri": "https://localhost:8080/",
          "height": 438
        },
        "id": "WWF4QjlV59oj",
        "outputId": "7aac137a-77de-49e5-b34c-2273c7c7b5ed"
      },
      "source": [
        "fig = plt.figure()\n",
        "\n",
        "ncols = 3\n",
        "nrows = round(len(categorical_columns)/ncols)\n",
        "\n",
        "for i, column in enumerate(categorical_columns):\n",
        "\n",
        "  plot = fig.add_subplot(nrows, ncols, i+1)\n",
        "\n",
        "  df_uniqdist = df[column].value_counts()\n",
        "\n",
        "  plot.pie(df_uniqdist.values, \n",
        "          labels=df_uniqdist.index.values, \n",
        "          autopct='%1.1f%%',\n",
        "          startangle=90)\n",
        "  \n",
        "  plot.title.set_text(column+\" values distribution\")\n",
        "  plot.axis('equal')\n",
        "\n",
        "  ttl = plot.title\n",
        "  ttl.set_position([.5, 1.06])\n",
        "\n",
        "plt.show()"
      ],
      "execution_count": 35,
      "outputs": [
        {
          "output_type": "display_data",
          "data": {
            "image/png": "[encoded data removed]",
            "text/plain": [
              "<Figure size 4320x1080 with 5 Axes>"
            ]
          },
          "metadata": {
            "tags": []
          }
        }
      ]
    },
    {
      "cell_type": "markdown",
      "metadata": {
        "id": "YGT6IALjMXv0"
      },
      "source": [
        "Vediamo anche, per ogni variabile, quale categoria ha convertito in più vendite."
      ]
    },
    {
      "cell_type": "code",
      "metadata": {
        "colab": {
          "base_uri": "https://localhost:8080/",
          "height": 430
        },
        "id": "8R50SSNrtC0s",
        "outputId": "727ccb7c-ebed-41f2-9698-f98177004f77"
      },
      "source": [
        "fig = plt.figure()\n",
        "#fig.set_size_inches(30, 10)\n",
        "\n",
        "df_count = df.copy()\n",
        "df_count[\"count\"] = 1\n",
        "\n",
        "for i, column in enumerate(categorical_columns):\n",
        "\n",
        "  plot = fig.add_subplot(nrows, ncols, i+1)\n",
        "  df_tmp = df_count.groupby([column,\"Response\"]).count()[\"count\"].to_frame().reset_index()\n",
        "  \n",
        "  plot.pie(df_tmp[df_tmp[\"Response\"]==1][\"count\"].values, \n",
        "        labels=df_tmp[column].unique(), \n",
        "        autopct='%1.1f%%',\n",
        "        startangle=90)\n",
        "  \n",
        "  plot.title.set_text(column)\n",
        "  plot.axis('equal')\n",
        "\n",
        "plt.show()"
      ],
      "execution_count": 39,
      "outputs": [
        {
          "output_type": "display_data",
          "data": {
            "image/png": "[encoded data removed]",
            "text/plain": [
              "<Figure size 4320x1080 with 5 Axes>"
            ]
          },
          "metadata": {
            "tags": []
          }
        }
      ]
    },
    {
      "cell_type": "markdown",
      "metadata": {
        "id": "4fgYo1VqMpek"
      },
      "source": [
        "## Approfondiamo Region Code e Policy Sales Channel\n",
        "Sopra abbiamo trattato Region Code e Policy Sales Channel come variabili continue, è corretto ? No, entrambe hanno un numero di valori unici molto grande, ma rimangono sempre categorie, i valori al loro interno non rappresentano una grandezza."
      ]
    },
    {
      "cell_type": "code",
      "metadata": {
        "id": "KSMYRB0tNEZl",
        "outputId": "28bf02fb-b6e0-43b8-bf59-21d8f3b9d637",
        "colab": {
          "base_uri": "https://localhost:8080/"
        }
      },
      "source": [
        "print(\"Region codes unici: %d\" % df[\"Region_Code\"].unique().shape[0])\n",
        "print(\"Policy Sales Channels unici: %d\" % df[\"Policy_Sales_Channel\"].unique().shape[0])"
      ],
      "execution_count": 16,
      "outputs": [
        {
          "output_type": "stream",
          "text": [
            "Region codes unici: 53\n",
            "Policy Sales Channels unici: 155\n"
          ],
          "name": "stdout"
        }
      ]
    },
    {
      "cell_type": "markdown",
      "metadata": {
        "id": "VrSeCRULM3-W"
      },
      "source": [
        "Quindi andiamo ad analizzarle come le variabili categoriche che sono, realizzando dei grafici ad-hoc per ospitare un numero grande di valori. \n",
        "Nel primo grafico mostriamo la distribuzione delle categorie dentro le due variabili."
      ]
    },
    {
      "cell_type": "code",
      "metadata": {
        "id": "Y7Hk64ExNtrj",
        "outputId": "9465c776-1fd0-4c05-e7a6-225a0b4a5124",
        "colab": {
          "base_uri": "https://localhost:8080/"
        }
      },
      "source": [
        "type(df[\"Region_Code\"].value_counts(sort=False))"
      ],
      "execution_count": 18,
      "outputs": [
        {
          "output_type": "execute_result",
          "data": {
            "text/plain": [
              "pandas.core.series.Series"
            ]
          },
          "metadata": {
            "tags": []
          },
          "execution_count": 18
        }
      ]
    },
    {
      "cell_type": "code",
      "metadata": {
        "colab": {
          "base_uri": "https://localhost:8080/",
          "height": 1000
        },
        "id": "MiTnzxiNO9ga",
        "outputId": "1657694e-0e9b-4b8e-f7ec-891f0a4408f7"
      },
      "source": [
        "def plot_categorical_distribution(df, column, title=None, label=None, ticksize=12, print_first=None):\n",
        "\n",
        "  serie_uniqdist = df[column].value_counts(sort=False) # otteniamo una series con id=categoia valore=conteggio\n",
        "  labels = serie_uniqdist.index.values # otteniamo i nomi delle categorie\n",
        "  y_pos = np.arange(len(labels)) # creiamo un'array di valori equidistanti all'interno dell'intervallo 0,n dove n è il numero di categorie (necessario per il grafico)\n",
        "\n",
        "  plt.bar(y_pos, serie_uniqdist.values) # creiamo il grafico\n",
        "  plt.xticks(y_pos, labels, fontsize=ticksize) # mettiamo i nomi delle corrispondenti categorie sull'asse delle x\n",
        "  plt.ylabel(label) \n",
        "  plt.title(title)\n",
        "  plt.show()\n",
        "\n",
        "  if print_first:\n",
        "    total = serie_uniqdist.sum()\n",
        "    serie_uniqdist = serie_uniqdist.sort_values(ascending=False)\n",
        "    serie_percentage = serie_uniqdist/total # per calcolare la percentuale di presenza dividiamo per il numero totale\n",
        "    print(pd.concat([serie_uniqdist, serie_percentage], axis=1).head(print_first)) # con concat uniamo le due serie come colonne di un dataframe\n",
        "\n",
        "\n",
        "plot_categorical_distribution(df, \"Region_Code\", title=\"Region Code distribution\", label=\"Region code\", ticksize=8, print_first=300)\n",
        "plot_categorical_distribution(df, \"Policy_Sales_Channel\", title=\"Sales Channel distribution\", label=\"Sale Channel\", ticksize=9, print_first=300)"
      ],
      "execution_count": 27,
      "outputs": [
        {
          "output_type": "display_data",
          "data": {
            "image/png": "[encoded data removed]",
            "text/plain": [
              "<Figure size 4320x1080 with 1 Axes>"
            ]
          },
          "metadata": {
            "tags": [],
            "needs_background": "light"
          }
        },
        {
          "output_type": "stream",
          "text": [
            "      Region_Code  Region_Code\n",
            "28.0       106415     0.279225\n",
            "8.0         33877     0.088891\n",
            "46.0        19749     0.051820\n",
            "41.0        18263     0.047921\n",
            "15.0        13308     0.034919\n"
          ],
          "name": "stdout"
        },
        {
          "output_type": "display_data",
          "data": {
            "image/png": "[encoded data removed]",
            "text/plain": [
              "<Figure size 4320x1080 with 1 Axes>"
            ]
          },
          "metadata": {
            "tags": [],
            "needs_background": "light"
          }
        },
        {
          "output_type": "stream",
          "text": [
            "       Policy_Sales_Channel  Policy_Sales_Channel\n",
            "152.0                134784              0.353663\n",
            "26.0                  79700              0.209127\n",
            "124.0                 73995              0.194157\n",
            "160.0                 21779              0.057146\n",
            "156.0                 10661              0.027974\n"
          ],
          "name": "stdout"
        }
      ]
    },
    {
      "cell_type": "code",
      "metadata": {
        "colab": {
          "base_uri": "https://localhost:8080/",
          "height": 1000
        },
        "id": "Vk_ZcQoAXYSd",
        "outputId": "96930d5b-f5ea-4881-ee0d-ec19efc7e122"
      },
      "source": [
        "def plot_categorical_correlation(df, column, target, title=None, label=None, ticksize=12, print_first=None):\n",
        "\n",
        "  df_tmp = df[[column, target]].copy()\n",
        "  df_tmp = df_tmp.groupby([column]) # raggruppiamo in base alla categoria\n",
        "  df_sum = df_tmp.sum()\n",
        "  df_count = df_tmp.count()\n",
        "\n",
        "  df_sum[\"Percentage\"] = df_sum[\"Response\"]/df_count[\"Response\"] # calcoliamo la percentaule di risposte positive e negative\n",
        "\n",
        "  values = df_sum[\"Response\"].values\n",
        "  labels = df_sum.index.values\n",
        "  y_pos = np.arange(len(labels))\n",
        "\n",
        "  plt.bar(y_pos, values)\n",
        "  plt.xticks(y_pos, labels, fontsize=ticksize)\n",
        "  plt.ylabel(label)\n",
        "  plt.title(title)\n",
        "  plt.show()\n",
        "\n",
        "  if print_first:\n",
        "    print(df_sum.sort_values(\"Response\", ascending=False).head(print_first))\n",
        "\n",
        "  \n",
        "plot_categorical_correlation(df, \"Region_Code\", \"Response\", title=\"Region Code distribution\", label=\"Region code\", ticksize=8, print_first=200)\n",
        "plot_categorical_correlation(df, \"Policy_Sales_Channel\", \"Response\", title=\"Sales Channel distribution\", label=\"Sale Channel\", ticksize=6, print_first=200)"
      ],
      "execution_count": 22,
      "outputs": [
        {
          "output_type": "display_data",
          "data": {
            "image/png": "[encoded data removed]",
            "text/plain": [
              "<Figure size 4320x1080 with 1 Axes>"
            ]
          },
          "metadata": {
            "tags": [],
            "needs_background": "light"
          }
        },
        {
          "output_type": "stream",
          "text": [
            "             Response  Percentage\n",
            "Region_Code                      \n",
            "28.0            19917    0.187163\n",
            "8.0              3257    0.096142\n",
            "41.0             2224    0.121776\n",
            "46.0             2032    0.102891\n",
            "29.0             1365    0.123362\n",
            "3.0              1181    0.127662\n",
            "11.0             1041    0.112760\n",
            "15.0              958    0.071987\n",
            "30.0              900    0.073825\n",
            "35.0              865    0.124604\n",
            "33.0              760    0.099294\n",
            "36.0              703    0.079914\n",
            "18.0              678    0.131574\n",
            "47.0              652    0.087682\n",
            "50.0              642    0.062677\n",
            "45.0              615    0.109723\n",
            "39.0              574    0.123600\n",
            "48.0              477    0.101901\n",
            "6.0               439    0.069904\n",
            "37.0              436    0.079258\n",
            "7.0               432    0.131747\n",
            "14.0              422    0.090209\n",
            "38.0              389    0.192004\n",
            "13.0              364    0.090188\n",
            "24.0              342    0.141615\n",
            "12.0              312    0.097561\n",
            "21.0              303    0.071027\n",
            "23.0              300    0.153061\n",
            "2.0               287    0.071075\n",
            "4.0               285    0.158245\n",
            "10.0              263    0.060128\n",
            "9.0               253    0.081587\n",
            "19.0              250    0.162866\n",
            "43.0              244    0.092459\n",
            "32.0              239    0.085755\n",
            "20.0              223    0.115245\n",
            "27.0              209    0.074035\n",
            "31.0              197    0.100510\n",
            "26.0              187    0.072284\n",
            "17.0              184    0.070310\n",
            "0.0               174    0.086096\n",
            "40.0              153    0.118147\n",
            "5.0               148    0.115715\n",
            "49.0              137    0.074782\n",
            "16.0              134    0.066766\n",
            "34.0              126    0.075721\n",
            "1.0               109    0.108135\n",
            "25.0              107    0.042749\n",
            "22.0               83    0.063407\n",
            "42.0               44    0.074450\n",
            "44.0               33    0.040842\n",
            "52.0               33    0.123596\n",
            "51.0               28    0.153005\n"
          ],
          "name": "stdout"
        },
        {
          "output_type": "display_data",
          "data": {
            "image/png": "[encoded data removed]",
            "text/plain": [
              "<Figure size 4320x1080 with 1 Axes>"
            ]
          },
          "metadata": {
            "tags": [],
            "needs_background": "light"
          }
        },
        {
          "output_type": "stream",
          "text": [
            "                      Response  Percentage\n",
            "Policy_Sales_Channel                      \n",
            "26.0                     15891    0.199385\n",
            "124.0                    13996    0.189148\n",
            "152.0                     3858    0.028624\n",
            "156.0                     2297    0.215458\n",
            "157.0                     1794    0.268402\n",
            "122.0                     1720    0.173212\n",
            "154.0                     1474    0.245954\n",
            "163.0                      880    0.304183\n",
            "160.0                      475    0.021810\n",
            "155.0                      395    0.320097\n",
            "25.0                       369    0.199675\n",
            "13.0                       275    0.147453\n",
            "55.0                       189    0.149525\n",
            "7.0                        182    0.113892\n",
            "31.0                       160    0.253566\n",
            "3.0                        159    0.304015\n",
            "30.0                       156    0.110638\n",
            "158.0                      135    0.274390\n",
            "12.0                       132    0.168582\n",
            "125.0                      127    0.123782\n",
            "8.0                        125    0.082508\n",
            "151.0                      122    0.031403\n",
            "52.0                       115    0.109005\n",
            "11.0                       108    0.089776\n",
            "29.0                       106    0.125741\n",
            "4.0                        102    0.200393\n",
            "24.0                        99    0.132000\n",
            "15.0                        78    0.087838\n",
            "150.0                       76    0.243590\n",
            "120.0                       65    0.084525\n",
            "14.0                        63    0.101286\n",
            "23.0                        58    0.137441\n",
            "61.0                        56    0.096718\n",
            "60.0                        53    0.102515\n",
            "10.0                        50    0.189394\n",
            "16.0                        45    0.086042\n",
            "136.0                       40    0.216216\n",
            "153.0                       36    0.059308\n",
            "1.0                         35    0.032588\n",
            "147.0                       34    0.184783\n",
            "91.0                        29    0.183544\n",
            "42.0                        26    0.196970\n",
            "59.0                        25    0.196850\n",
            "145.0                       23    0.132184\n",
            "109.0                       21    0.120000\n",
            "44.0                        20    0.198020\n",
            "121.0                       19    0.296875\n",
            "19.0                        19    0.085586\n",
            "116.0                       18    0.116883\n",
            "22.0                        18    0.054217\n",
            "36.0                        17    0.326923\n",
            "9.0                         17    0.100592\n",
            "54.0                        16    0.160000\n",
            "37.0                        15    0.098684\n",
            "131.0                       14    0.115702\n",
            "128.0                       13    0.094891\n",
            "139.0                       13    0.090909\n",
            "56.0                        12    0.184615\n",
            "138.0                       12    0.096774\n",
            "21.0                        12    0.081081\n",
            "106.0                       12    0.230769\n",
            "35.0                        10    0.133333\n",
            "94.0                         9    0.195652\n",
            "103.0                        9    0.125000\n",
            "111.0                        9    0.132353\n",
            "135.0                        9    0.089109\n",
            "47.0                         8    0.126984\n",
            "148.0                        8    0.103896\n",
            "127.0                        8    0.072727\n",
            "140.0                        7    0.065421\n",
            "53.0                         7    0.218750\n",
            "113.0                        7    0.067308\n",
            "45.0                         7    0.148936\n",
            "90.0                         7    0.269231\n",
            "86.0                         6    0.125000\n",
            "18.0                         6    0.035928\n",
            "64.0                         5    0.056180\n",
            "119.0                        5    0.048544\n",
            "133.0                        4    0.047059\n",
            "81.0                         4    0.285714\n",
            "132.0                        4    0.064516\n",
            "80.0                         4    0.285714\n",
            "65.0                         4    0.067797\n",
            "17.0                         3    0.187500\n",
            "129.0                        3    0.068182\n",
            "92.0                         3    0.125000\n",
            "93.0                         3    0.107143\n",
            "78.0                         3    0.130435\n",
            "114.0                        3    0.130435\n",
            "20.0                         3    0.111111\n",
            "107.0                        2    0.037037\n",
            "130.0                        2    0.090909\n",
            "49.0                         2    0.142857\n",
            "32.0                         2    0.095238\n",
            "40.0                         2    0.133333\n",
            "87.0                         2    0.285714\n",
            "88.0                         2    0.058824\n",
            "89.0                         2    0.142857\n",
            "101.0                        2    0.285714\n",
            "100.0                        2    0.250000\n",
            "73.0                         1    0.076923\n",
            "69.0                         1    0.166667\n",
            "43.0                         1    1.000000\n",
            "28.0                         1    0.333333\n",
            "48.0                         1    0.050000\n",
            "2.0                          1    0.250000\n",
            "27.0                         1    0.333333\n",
            "123.0                        1    1.000000\n",
            "159.0                        1    0.019608\n",
            "51.0                         1    0.083333\n",
            "39.0                         1    0.100000\n",
            "57.0                         1    0.200000\n",
            "58.0                         1    0.111111\n",
            "62.0                         1    0.166667\n",
            "97.0                         1    0.076923\n",
            "63.0                         1    0.052632\n",
            "98.0                         1    0.047619\n",
            "66.0                         1    0.055556\n",
            "110.0                        1    0.090909\n",
            "108.0                        1    0.026316\n",
            "68.0                         1    0.250000\n",
            "137.0                        0    0.000000\n",
            "146.0                        0    0.000000\n",
            "134.0                        0    0.000000\n",
            "6.0                          0    0.000000\n",
            "143.0                        0    0.000000\n",
            "144.0                        0    0.000000\n",
            "149.0                        0    0.000000\n",
            "41.0                         0    0.000000\n",
            "126.0                        0    0.000000\n",
            "33.0                         0    0.000000\n",
            "46.0                         0    0.000000\n",
            "50.0                         0    0.000000\n",
            "38.0                         0    0.000000\n",
            "67.0                         0    0.000000\n",
            "70.0                         0    0.000000\n",
            "71.0                         0    0.000000\n",
            "74.0                         0    0.000000\n",
            "75.0                         0    0.000000\n",
            "76.0                         0    0.000000\n",
            "79.0                         0    0.000000\n",
            "82.0                         0    0.000000\n",
            "83.0                         0    0.000000\n",
            "84.0                         0    0.000000\n",
            "95.0                         0    0.000000\n",
            "96.0                         0    0.000000\n",
            "99.0                         0    0.000000\n",
            "104.0                        0    0.000000\n",
            "105.0                        0    0.000000\n",
            "112.0                        0    0.000000\n",
            "115.0                        0    0.000000\n",
            "117.0                        0    0.000000\n",
            "118.0                        0    0.000000\n",
            "34.0                         0    0.000000\n",
            "102.0                        0    0.000000\n"
          ],
          "name": "stdout"
        }
      ]
    },
    {
      "cell_type": "markdown",
      "metadata": {
        "id": "5RD0v3WK5rrC"
      },
      "source": [
        "## Analisi del target\n",
        "E il target ? Sappiamo che i possibili valori sono 0 e 1, ma quanti 0 e quanti 1 ? Diamo uno sguardo alla distribuzione."
      ]
    },
    {
      "cell_type": "code",
      "metadata": {
        "id": "7pefCpSDBfHP",
        "outputId": "978b50ce-ee16-49fe-8ae4-01eabe0d3128",
        "colab": {
          "base_uri": "https://localhost:8080/",
          "height": 344
        }
      },
      "source": [
        "fig, axis = plt.subplots(1, 2, figsize = (14, 5))\n",
        "\n",
        "df_uniqdist = df[\"Response\"].value_counts()\n",
        "y_pos = np.arange(len(df_uniqdist.index.values))\n",
        "\n",
        "axis[0].bar(y_pos, df_uniqdist.values, align='center', alpha=0.5)\n",
        "axis[0].set_xticks(y_pos)\n",
        "axis[0].set_xticklabels((\"Rejected (0)\",\"Accepted (1)\"))\n",
        "axis[0].set_ylabel('Count')\n",
        "axis[0].set_title('Clients response Count')\n",
        "\n",
        "axis[1].pie(df_uniqdist.values, \n",
        "          labels=df_uniqdist.index.values, \n",
        "          autopct='%1.1f%%',\n",
        "          startangle=90)\n",
        "\n",
        "axis[1].set_title('Clients response Distribution')\n",
        "\n",
        "plt.show()"
      ],
      "execution_count": 52,
      "outputs": [
        {
          "output_type": "display_data",
          "data": {
            "image/png": "[encoded data removed]",
            "text/plain": [
              "<Figure size 1008x360 with 2 Axes>"
            ]
          },
          "metadata": {
            "tags": [],
            "needs_background": "light"
          }
        }
      ]
    },
    {
      "cell_type": "markdown",
      "metadata": {
        "id": "Jq1iXSCDGXeF"
      },
      "source": [
        "## Feature Engineering\n",
        "Tutto bello, passiamo a processare le features, iniziamo droppando l'id che non serve mai a nulla."
      ]
    },
    {
      "cell_type": "code",
      "metadata": {
        "id": "whKS-PUsgIC5"
      },
      "source": [
        "df = df.drop([\"id\"], axis=1)"
      ],
      "execution_count": null,
      "outputs": []
    },
    {
      "cell_type": "markdown",
      "metadata": {
        "id": "1nnwHq3oR__4"
      },
      "source": [
        "Codifichiamo le variabili categoriche da stringhe a numeri."
      ]
    },
    {
      "cell_type": "code",
      "metadata": {
        "colab": {
          "base_uri": "https://localhost:8080/",
          "height": 195
        },
        "id": "OBRa1Dd9K-3f",
        "outputId": "7d50dbb6-5fe9-417e-8367-d6347fecbfbb"
      },
      "source": [
        "df[\"Gender\"] = df[\"Gender\"].map({'Male':1, 'Female':0})\n",
        "df[\"Vehicle_Damage\"] = df[\"Vehicle_Damage\"].map({'Yes':1, 'No':0})\n",
        "df[\"Vehicle_Age\"] = df[\"Vehicle_Age\"].map({'> 2 Years':2, '1-2 Year':1.5, '< 1 Year':1 })\n",
        "df.head()"
      ],
      "execution_count": 25,
      "outputs": [
        {
          "output_type": "execute_result",
          "data": {
            "text/html": [
              "<div>\n",
              "<style scoped>\n",
              "    .dataframe tbody tr th:only-of-type {\n",
              "        vertical-align: middle;\n",
              "    }\n",
              "\n",
              "    .dataframe tbody tr th {\n",
              "        vertical-align: top;\n",
              "    }\n",
              "\n",
              "    .dataframe thead th {\n",
              "        text-align: right;\n",
              "    }\n",
              "</style>\n",
              "<table border=\"1\" class=\"dataframe\">\n",
              "  <thead>\n",
              "    <tr style=\"text-align: right;\">\n",
              "      <th></th>\n",
              "      <th>Gender</th>\n",
              "      <th>Age</th>\n",
              "      <th>Driving_License</th>\n",
              "      <th>Region_Code</th>\n",
              "      <th>Previously_Insured</th>\n",
              "      <th>Vehicle_Age</th>\n",
              "      <th>Vehicle_Damage</th>\n",
              "      <th>Annual_Premium</th>\n",
              "      <th>Policy_Sales_Channel</th>\n",
              "      <th>Vintage</th>\n",
              "      <th>Response</th>\n",
              "    </tr>\n",
              "  </thead>\n",
              "  <tbody>\n",
              "    <tr>\n",
              "      <th>0</th>\n",
              "      <td>1</td>\n",
              "      <td>44</td>\n",
              "      <td>1</td>\n",
              "      <td>28.0</td>\n",
              "      <td>0</td>\n",
              "      <td>2.0</td>\n",
              "      <td>1</td>\n",
              "      <td>40454.0</td>\n",
              "      <td>26.0</td>\n",
              "      <td>217</td>\n",
              "      <td>1</td>\n",
              "    </tr>\n",
              "    <tr>\n",
              "      <th>1</th>\n",
              "      <td>1</td>\n",
              "      <td>76</td>\n",
              "      <td>1</td>\n",
              "      <td>3.0</td>\n",
              "      <td>0</td>\n",
              "      <td>1.5</td>\n",
              "      <td>0</td>\n",
              "      <td>33536.0</td>\n",
              "      <td>26.0</td>\n",
              "      <td>183</td>\n",
              "      <td>0</td>\n",
              "    </tr>\n",
              "    <tr>\n",
              "      <th>2</th>\n",
              "      <td>1</td>\n",
              "      <td>47</td>\n",
              "      <td>1</td>\n",
              "      <td>28.0</td>\n",
              "      <td>0</td>\n",
              "      <td>2.0</td>\n",
              "      <td>1</td>\n",
              "      <td>38294.0</td>\n",
              "      <td>26.0</td>\n",
              "      <td>27</td>\n",
              "      <td>1</td>\n",
              "    </tr>\n",
              "    <tr>\n",
              "      <th>3</th>\n",
              "      <td>1</td>\n",
              "      <td>21</td>\n",
              "      <td>1</td>\n",
              "      <td>11.0</td>\n",
              "      <td>1</td>\n",
              "      <td>1.0</td>\n",
              "      <td>0</td>\n",
              "      <td>28619.0</td>\n",
              "      <td>152.0</td>\n",
              "      <td>203</td>\n",
              "      <td>0</td>\n",
              "    </tr>\n",
              "    <tr>\n",
              "      <th>4</th>\n",
              "      <td>0</td>\n",
              "      <td>29</td>\n",
              "      <td>1</td>\n",
              "      <td>41.0</td>\n",
              "      <td>1</td>\n",
              "      <td>1.0</td>\n",
              "      <td>0</td>\n",
              "      <td>27496.0</td>\n",
              "      <td>152.0</td>\n",
              "      <td>39</td>\n",
              "      <td>0</td>\n",
              "    </tr>\n",
              "  </tbody>\n",
              "</table>\n",
              "</div>"
            ],
            "text/plain": [
              "   Gender  Age  Driving_License  ...  Policy_Sales_Channel  Vintage  Response\n",
              "0       1   44                1  ...                  26.0      217         1\n",
              "1       1   76                1  ...                  26.0      183         0\n",
              "2       1   47                1  ...                  26.0       27         1\n",
              "3       1   21                1  ...                 152.0      203         0\n",
              "4       0   29                1  ...                 152.0       39         0\n",
              "\n",
              "[5 rows x 11 columns]"
            ]
          },
          "metadata": {
            "tags": []
          },
          "execution_count": 25
        }
      ]
    },
    {
      "cell_type": "markdown",
      "metadata": {
        "id": "HsDXRrJTSe_P"
      },
      "source": [
        "Ora che abbiamo tutto codificato in numeri, possiamo calcolare la mutua dipendenza tramite informazione mutua<sup>[2](#references)</sup> tra features e target."
      ]
    },
    {
      "cell_type": "code",
      "metadata": {
        "id": "7DTzM71zSJw1",
        "outputId": "d42e9765-9656-43e1-f5c4-75bf6a435b52",
        "colab": {
          "base_uri": "https://localhost:8080/",
          "height": 343
        }
      },
      "source": [
        "df_features = df.drop(\"Response\", axis=1)\n",
        "mic = mutual_info_classif(df_features, df[\"Response\"])\n",
        "df_mic = pd.DataFrame({'column':df_features.columns, 'correlation':mic})\n",
        "df_mic = df_mic.sort_values(by=['correlation'], ascending=False)\n",
        "df_mic.head(100)"
      ],
      "execution_count": 29,
      "outputs": [
        {
          "output_type": "execute_result",
          "data": {
            "text/html": [
              "<div>\n",
              "<style scoped>\n",
              "    .dataframe tbody tr th:only-of-type {\n",
              "        vertical-align: middle;\n",
              "    }\n",
              "\n",
              "    .dataframe tbody tr th {\n",
              "        vertical-align: top;\n",
              "    }\n",
              "\n",
              "    .dataframe thead th {\n",
              "        text-align: right;\n",
              "    }\n",
              "</style>\n",
              "<table border=\"1\" class=\"dataframe\">\n",
              "  <thead>\n",
              "    <tr style=\"text-align: right;\">\n",
              "      <th></th>\n",
              "      <th>column</th>\n",
              "      <th>correlation</th>\n",
              "    </tr>\n",
              "  </thead>\n",
              "  <tbody>\n",
              "    <tr>\n",
              "      <th>4</th>\n",
              "      <td>Previously_Insured</td>\n",
              "      <td>0.099363</td>\n",
              "    </tr>\n",
              "    <tr>\n",
              "      <th>6</th>\n",
              "      <td>Vehicle_Damage</td>\n",
              "      <td>0.094797</td>\n",
              "    </tr>\n",
              "    <tr>\n",
              "      <th>2</th>\n",
              "      <td>Driving_License</td>\n",
              "      <td>0.073689</td>\n",
              "    </tr>\n",
              "    <tr>\n",
              "      <th>8</th>\n",
              "      <td>Policy_Sales_Channel</td>\n",
              "      <td>0.059142</td>\n",
              "    </tr>\n",
              "    <tr>\n",
              "      <th>5</th>\n",
              "      <td>Vehicle_Age</td>\n",
              "      <td>0.056648</td>\n",
              "    </tr>\n",
              "    <tr>\n",
              "      <th>1</th>\n",
              "      <td>Age</td>\n",
              "      <td>0.031261</td>\n",
              "    </tr>\n",
              "    <tr>\n",
              "      <th>0</th>\n",
              "      <td>Gender</td>\n",
              "      <td>0.022123</td>\n",
              "    </tr>\n",
              "    <tr>\n",
              "      <th>3</th>\n",
              "      <td>Region_Code</td>\n",
              "      <td>0.015167</td>\n",
              "    </tr>\n",
              "    <tr>\n",
              "      <th>7</th>\n",
              "      <td>Annual_Premium</td>\n",
              "      <td>0.004066</td>\n",
              "    </tr>\n",
              "    <tr>\n",
              "      <th>9</th>\n",
              "      <td>Vintage</td>\n",
              "      <td>0.000513</td>\n",
              "    </tr>\n",
              "  </tbody>\n",
              "</table>\n",
              "</div>"
            ],
            "text/plain": [
              "                 column  correlation\n",
              "4    Previously_Insured     0.099363\n",
              "6        Vehicle_Damage     0.094797\n",
              "2       Driving_License     0.073689\n",
              "8  Policy_Sales_Channel     0.059142\n",
              "5           Vehicle_Age     0.056648\n",
              "1                   Age     0.031261\n",
              "0                Gender     0.022123\n",
              "3           Region_Code     0.015167\n",
              "7        Annual_Premium     0.004066\n",
              "9               Vintage     0.000513"
            ]
          },
          "metadata": {
            "tags": []
          },
          "execution_count": 29
        }
      ]
    },
    {
      "cell_type": "markdown",
      "metadata": {
        "id": "LahB08DrS7JM"
      },
      "source": [
        "Il blocco di codice qua sotto ci permette di raggruppare i Policy_Sales_Channel meno presenti in un unico gruppo, questo per ridurre il numero di features che otterremo con il one-hot-encoding. Dato che abbiamo un pozzo di dati, possiamo pure usare una colonna per ogni categoria senza preoccuparci."
      ]
    },
    {
      "cell_type": "code",
      "metadata": {
        "colab": {
          "base_uri": "https://localhost:8080/",
          "height": 197
        },
        "id": "BPlvzkxvf1Af",
        "outputId": "87c1b86d-e94d-4f95-f88a-43720e3d7e9c"
      },
      "source": [
        "\"\"\"\n",
        "def group_channels(channel):\n",
        "  positive_channels = [38., 124., 152., 156., 157., 122.]\n",
        "  return channel if channel in positive_channels else 0\n",
        "\n",
        "df[\"Policy_Sales_Channel\"] = df[\"Policy_Sales_Channel\"].apply(group_channels)\n",
        "df.head()\n",
        "\"\"\""
      ],
      "execution_count": null,
      "outputs": [
        {
          "output_type": "execute_result",
          "data": {
            "text/html": [
              "<div>\n",
              "<style scoped>\n",
              "    .dataframe tbody tr th:only-of-type {\n",
              "        vertical-align: middle;\n",
              "    }\n",
              "\n",
              "    .dataframe tbody tr th {\n",
              "        vertical-align: top;\n",
              "    }\n",
              "\n",
              "    .dataframe thead th {\n",
              "        text-align: right;\n",
              "    }\n",
              "</style>\n",
              "<table border=\"1\" class=\"dataframe\">\n",
              "  <thead>\n",
              "    <tr style=\"text-align: right;\">\n",
              "      <th></th>\n",
              "      <th>id</th>\n",
              "      <th>Gender</th>\n",
              "      <th>Age</th>\n",
              "      <th>Driving_License</th>\n",
              "      <th>Region_Code</th>\n",
              "      <th>Previously_Insured</th>\n",
              "      <th>Vehicle_Age</th>\n",
              "      <th>Vehicle_Damage</th>\n",
              "      <th>Annual_Premium</th>\n",
              "      <th>Policy_Sales_Channel</th>\n",
              "      <th>Vintage</th>\n",
              "      <th>Response</th>\n",
              "    </tr>\n",
              "  </thead>\n",
              "  <tbody>\n",
              "    <tr>\n",
              "      <th>0</th>\n",
              "      <td>1</td>\n",
              "      <td>Male</td>\n",
              "      <td>44</td>\n",
              "      <td>1</td>\n",
              "      <td>28.0</td>\n",
              "      <td>0</td>\n",
              "      <td>&gt; 2 Years</td>\n",
              "      <td>Yes</td>\n",
              "      <td>40454.0</td>\n",
              "      <td>0.0</td>\n",
              "      <td>217</td>\n",
              "      <td>1</td>\n",
              "    </tr>\n",
              "    <tr>\n",
              "      <th>1</th>\n",
              "      <td>2</td>\n",
              "      <td>Male</td>\n",
              "      <td>76</td>\n",
              "      <td>1</td>\n",
              "      <td>3.0</td>\n",
              "      <td>0</td>\n",
              "      <td>1-2 Year</td>\n",
              "      <td>No</td>\n",
              "      <td>33536.0</td>\n",
              "      <td>0.0</td>\n",
              "      <td>183</td>\n",
              "      <td>0</td>\n",
              "    </tr>\n",
              "    <tr>\n",
              "      <th>2</th>\n",
              "      <td>3</td>\n",
              "      <td>Male</td>\n",
              "      <td>47</td>\n",
              "      <td>1</td>\n",
              "      <td>28.0</td>\n",
              "      <td>0</td>\n",
              "      <td>&gt; 2 Years</td>\n",
              "      <td>Yes</td>\n",
              "      <td>38294.0</td>\n",
              "      <td>0.0</td>\n",
              "      <td>27</td>\n",
              "      <td>1</td>\n",
              "    </tr>\n",
              "    <tr>\n",
              "      <th>3</th>\n",
              "      <td>4</td>\n",
              "      <td>Male</td>\n",
              "      <td>21</td>\n",
              "      <td>1</td>\n",
              "      <td>11.0</td>\n",
              "      <td>1</td>\n",
              "      <td>&lt; 1 Year</td>\n",
              "      <td>No</td>\n",
              "      <td>28619.0</td>\n",
              "      <td>152.0</td>\n",
              "      <td>203</td>\n",
              "      <td>0</td>\n",
              "    </tr>\n",
              "    <tr>\n",
              "      <th>4</th>\n",
              "      <td>5</td>\n",
              "      <td>Female</td>\n",
              "      <td>29</td>\n",
              "      <td>1</td>\n",
              "      <td>41.0</td>\n",
              "      <td>1</td>\n",
              "      <td>&lt; 1 Year</td>\n",
              "      <td>No</td>\n",
              "      <td>27496.0</td>\n",
              "      <td>152.0</td>\n",
              "      <td>39</td>\n",
              "      <td>0</td>\n",
              "    </tr>\n",
              "  </tbody>\n",
              "</table>\n",
              "</div>"
            ],
            "text/plain": [
              "   id  Gender  Age  ...  Policy_Sales_Channel  Vintage  Response\n",
              "0   1    Male   44  ...                   0.0      217         1\n",
              "1   2    Male   76  ...                   0.0      183         0\n",
              "2   3    Male   47  ...                   0.0       27         1\n",
              "3   4    Male   21  ...                 152.0      203         0\n",
              "4   5  Female   29  ...                 152.0       39         0\n",
              "\n",
              "[5 rows x 12 columns]"
            ]
          },
          "metadata": {
            "tags": []
          },
          "execution_count": 189
        }
      ]
    },
    {
      "cell_type": "markdown",
      "metadata": {
        "id": "IvJrv8SvTSYZ"
      },
      "source": [
        "Nel caso seguente raggrupperemo l'eta in fasce di età, trasformando la variabile continua Age in una variabile categorica quantitativa. Come sopra, avendo tanti dati, non ci concludiamo nulla a farlo."
      ]
    },
    {
      "cell_type": "code",
      "metadata": {
        "id": "62rJHM4zR0JI"
      },
      "source": [
        "\"\"\"\n",
        "def group_age(age):\n",
        "  if age<=30:\n",
        "    return \"20-30\"\n",
        "  if age<=40:\n",
        "    return \"30-40\"\n",
        "  if age<=50:\n",
        "    return \"40-50\"\n",
        "  if age<=60:\n",
        "    return \"50-60\"\n",
        "  return \"60+\"\n",
        "\n",
        "df[\"Age\"] = df[\"Age\"].apply(group_age)\n",
        "df.head()\n",
        "\"\"\""
      ],
      "execution_count": null,
      "outputs": []
    },
    {
      "cell_type": "markdown",
      "metadata": {
        "id": "lL3gym17TnKF"
      },
      "source": [
        "Eseguiamo il one-hot-econding delle variabili categoriche qualitative non binarie."
      ]
    },
    {
      "cell_type": "code",
      "metadata": {
        "colab": {
          "base_uri": "https://localhost:8080/",
          "height": 244
        },
        "id": "Bc6wgwAfoWeK",
        "outputId": "f89fd1fa-a7cb-4ab2-9e41-d3d8463ac0ef"
      },
      "source": [
        "df = pd.get_dummies(df, columns=[\"Policy_Sales_Channel\", \"Region_Code\"])\n",
        "df.head()"
      ],
      "execution_count": 59,
      "outputs": [
        {
          "output_type": "execute_result",
          "data": {
            "text/html": [
              "<div>\n",
              "<style scoped>\n",
              "    .dataframe tbody tr th:only-of-type {\n",
              "        vertical-align: middle;\n",
              "    }\n",
              "\n",
              "    .dataframe tbody tr th {\n",
              "        vertical-align: top;\n",
              "    }\n",
              "\n",
              "    .dataframe thead th {\n",
              "        text-align: right;\n",
              "    }\n",
              "</style>\n",
              "<table border=\"1\" class=\"dataframe\">\n",
              "  <thead>\n",
              "    <tr style=\"text-align: right;\">\n",
              "      <th></th>\n",
              "      <th>Gender</th>\n",
              "      <th>Age</th>\n",
              "      <th>Driving_License</th>\n",
              "      <th>Previously_Insured</th>\n",
              "      <th>Vehicle_Age</th>\n",
              "      <th>Vehicle_Damage</th>\n",
              "      <th>Annual_Premium</th>\n",
              "      <th>Vintage</th>\n",
              "      <th>Response</th>\n",
              "      <th>Policy_Sales_Channel_1.0</th>\n",
              "      <th>Policy_Sales_Channel_2.0</th>\n",
              "      <th>Policy_Sales_Channel_3.0</th>\n",
              "      <th>Policy_Sales_Channel_4.0</th>\n",
              "      <th>Policy_Sales_Channel_6.0</th>\n",
              "      <th>Policy_Sales_Channel_7.0</th>\n",
              "      <th>Policy_Sales_Channel_8.0</th>\n",
              "      <th>Policy_Sales_Channel_9.0</th>\n",
              "      <th>Policy_Sales_Channel_10.0</th>\n",
              "      <th>Policy_Sales_Channel_11.0</th>\n",
              "      <th>Policy_Sales_Channel_12.0</th>\n",
              "      <th>Policy_Sales_Channel_13.0</th>\n",
              "      <th>Policy_Sales_Channel_14.0</th>\n",
              "      <th>Policy_Sales_Channel_15.0</th>\n",
              "      <th>Policy_Sales_Channel_16.0</th>\n",
              "      <th>Policy_Sales_Channel_17.0</th>\n",
              "      <th>Policy_Sales_Channel_18.0</th>\n",
              "      <th>Policy_Sales_Channel_19.0</th>\n",
              "      <th>Policy_Sales_Channel_20.0</th>\n",
              "      <th>Policy_Sales_Channel_21.0</th>\n",
              "      <th>Policy_Sales_Channel_22.0</th>\n",
              "      <th>Policy_Sales_Channel_23.0</th>\n",
              "      <th>Policy_Sales_Channel_24.0</th>\n",
              "      <th>Policy_Sales_Channel_25.0</th>\n",
              "      <th>Policy_Sales_Channel_26.0</th>\n",
              "      <th>Policy_Sales_Channel_27.0</th>\n",
              "      <th>Policy_Sales_Channel_28.0</th>\n",
              "      <th>Policy_Sales_Channel_29.0</th>\n",
              "      <th>Policy_Sales_Channel_30.0</th>\n",
              "      <th>Policy_Sales_Channel_31.0</th>\n",
              "      <th>Policy_Sales_Channel_32.0</th>\n",
              "      <th>...</th>\n",
              "      <th>Region_Code_13.0</th>\n",
              "      <th>Region_Code_14.0</th>\n",
              "      <th>Region_Code_15.0</th>\n",
              "      <th>Region_Code_16.0</th>\n",
              "      <th>Region_Code_17.0</th>\n",
              "      <th>Region_Code_18.0</th>\n",
              "      <th>Region_Code_19.0</th>\n",
              "      <th>Region_Code_20.0</th>\n",
              "      <th>Region_Code_21.0</th>\n",
              "      <th>Region_Code_22.0</th>\n",
              "      <th>Region_Code_23.0</th>\n",
              "      <th>Region_Code_24.0</th>\n",
              "      <th>Region_Code_25.0</th>\n",
              "      <th>Region_Code_26.0</th>\n",
              "      <th>Region_Code_27.0</th>\n",
              "      <th>Region_Code_28.0</th>\n",
              "      <th>Region_Code_29.0</th>\n",
              "      <th>Region_Code_30.0</th>\n",
              "      <th>Region_Code_31.0</th>\n",
              "      <th>Region_Code_32.0</th>\n",
              "      <th>Region_Code_33.0</th>\n",
              "      <th>Region_Code_34.0</th>\n",
              "      <th>Region_Code_35.0</th>\n",
              "      <th>Region_Code_36.0</th>\n",
              "      <th>Region_Code_37.0</th>\n",
              "      <th>Region_Code_38.0</th>\n",
              "      <th>Region_Code_39.0</th>\n",
              "      <th>Region_Code_40.0</th>\n",
              "      <th>Region_Code_41.0</th>\n",
              "      <th>Region_Code_42.0</th>\n",
              "      <th>Region_Code_43.0</th>\n",
              "      <th>Region_Code_44.0</th>\n",
              "      <th>Region_Code_45.0</th>\n",
              "      <th>Region_Code_46.0</th>\n",
              "      <th>Region_Code_47.0</th>\n",
              "      <th>Region_Code_48.0</th>\n",
              "      <th>Region_Code_49.0</th>\n",
              "      <th>Region_Code_50.0</th>\n",
              "      <th>Region_Code_51.0</th>\n",
              "      <th>Region_Code_52.0</th>\n",
              "    </tr>\n",
              "  </thead>\n",
              "  <tbody>\n",
              "    <tr>\n",
              "      <th>0</th>\n",
              "      <td>1</td>\n",
              "      <td>44</td>\n",
              "      <td>1</td>\n",
              "      <td>0</td>\n",
              "      <td>2.0</td>\n",
              "      <td>1</td>\n",
              "      <td>40454.0</td>\n",
              "      <td>217</td>\n",
              "      <td>1</td>\n",
              "      <td>0</td>\n",
              "      <td>0</td>\n",
              "      <td>0</td>\n",
              "      <td>0</td>\n",
              "      <td>0</td>\n",
              "      <td>0</td>\n",
              "      <td>0</td>\n",
              "      <td>0</td>\n",
              "      <td>0</td>\n",
              "      <td>0</td>\n",
              "      <td>0</td>\n",
              "      <td>0</td>\n",
              "      <td>0</td>\n",
              "      <td>0</td>\n",
              "      <td>0</td>\n",
              "      <td>0</td>\n",
              "      <td>0</td>\n",
              "      <td>0</td>\n",
              "      <td>0</td>\n",
              "      <td>0</td>\n",
              "      <td>0</td>\n",
              "      <td>0</td>\n",
              "      <td>0</td>\n",
              "      <td>0</td>\n",
              "      <td>1</td>\n",
              "      <td>0</td>\n",
              "      <td>0</td>\n",
              "      <td>0</td>\n",
              "      <td>0</td>\n",
              "      <td>0</td>\n",
              "      <td>0</td>\n",
              "      <td>...</td>\n",
              "      <td>0</td>\n",
              "      <td>0</td>\n",
              "      <td>0</td>\n",
              "      <td>0</td>\n",
              "      <td>0</td>\n",
              "      <td>0</td>\n",
              "      <td>0</td>\n",
              "      <td>0</td>\n",
              "      <td>0</td>\n",
              "      <td>0</td>\n",
              "      <td>0</td>\n",
              "      <td>0</td>\n",
              "      <td>0</td>\n",
              "      <td>0</td>\n",
              "      <td>0</td>\n",
              "      <td>1</td>\n",
              "      <td>0</td>\n",
              "      <td>0</td>\n",
              "      <td>0</td>\n",
              "      <td>0</td>\n",
              "      <td>0</td>\n",
              "      <td>0</td>\n",
              "      <td>0</td>\n",
              "      <td>0</td>\n",
              "      <td>0</td>\n",
              "      <td>0</td>\n",
              "      <td>0</td>\n",
              "      <td>0</td>\n",
              "      <td>0</td>\n",
              "      <td>0</td>\n",
              "      <td>0</td>\n",
              "      <td>0</td>\n",
              "      <td>0</td>\n",
              "      <td>0</td>\n",
              "      <td>0</td>\n",
              "      <td>0</td>\n",
              "      <td>0</td>\n",
              "      <td>0</td>\n",
              "      <td>0</td>\n",
              "      <td>0</td>\n",
              "    </tr>\n",
              "    <tr>\n",
              "      <th>1</th>\n",
              "      <td>1</td>\n",
              "      <td>76</td>\n",
              "      <td>1</td>\n",
              "      <td>0</td>\n",
              "      <td>1.5</td>\n",
              "      <td>0</td>\n",
              "      <td>33536.0</td>\n",
              "      <td>183</td>\n",
              "      <td>0</td>\n",
              "      <td>0</td>\n",
              "      <td>0</td>\n",
              "      <td>0</td>\n",
              "      <td>0</td>\n",
              "      <td>0</td>\n",
              "      <td>0</td>\n",
              "      <td>0</td>\n",
              "      <td>0</td>\n",
              "      <td>0</td>\n",
              "      <td>0</td>\n",
              "      <td>0</td>\n",
              "      <td>0</td>\n",
              "      <td>0</td>\n",
              "      <td>0</td>\n",
              "      <td>0</td>\n",
              "      <td>0</td>\n",
              "      <td>0</td>\n",
              "      <td>0</td>\n",
              "      <td>0</td>\n",
              "      <td>0</td>\n",
              "      <td>0</td>\n",
              "      <td>0</td>\n",
              "      <td>0</td>\n",
              "      <td>0</td>\n",
              "      <td>1</td>\n",
              "      <td>0</td>\n",
              "      <td>0</td>\n",
              "      <td>0</td>\n",
              "      <td>0</td>\n",
              "      <td>0</td>\n",
              "      <td>0</td>\n",
              "      <td>...</td>\n",
              "      <td>0</td>\n",
              "      <td>0</td>\n",
              "      <td>0</td>\n",
              "      <td>0</td>\n",
              "      <td>0</td>\n",
              "      <td>0</td>\n",
              "      <td>0</td>\n",
              "      <td>0</td>\n",
              "      <td>0</td>\n",
              "      <td>0</td>\n",
              "      <td>0</td>\n",
              "      <td>0</td>\n",
              "      <td>0</td>\n",
              "      <td>0</td>\n",
              "      <td>0</td>\n",
              "      <td>0</td>\n",
              "      <td>0</td>\n",
              "      <td>0</td>\n",
              "      <td>0</td>\n",
              "      <td>0</td>\n",
              "      <td>0</td>\n",
              "      <td>0</td>\n",
              "      <td>0</td>\n",
              "      <td>0</td>\n",
              "      <td>0</td>\n",
              "      <td>0</td>\n",
              "      <td>0</td>\n",
              "      <td>0</td>\n",
              "      <td>0</td>\n",
              "      <td>0</td>\n",
              "      <td>0</td>\n",
              "      <td>0</td>\n",
              "      <td>0</td>\n",
              "      <td>0</td>\n",
              "      <td>0</td>\n",
              "      <td>0</td>\n",
              "      <td>0</td>\n",
              "      <td>0</td>\n",
              "      <td>0</td>\n",
              "      <td>0</td>\n",
              "    </tr>\n",
              "    <tr>\n",
              "      <th>2</th>\n",
              "      <td>1</td>\n",
              "      <td>47</td>\n",
              "      <td>1</td>\n",
              "      <td>0</td>\n",
              "      <td>2.0</td>\n",
              "      <td>1</td>\n",
              "      <td>38294.0</td>\n",
              "      <td>27</td>\n",
              "      <td>1</td>\n",
              "      <td>0</td>\n",
              "      <td>0</td>\n",
              "      <td>0</td>\n",
              "      <td>0</td>\n",
              "      <td>0</td>\n",
              "      <td>0</td>\n",
              "      <td>0</td>\n",
              "      <td>0</td>\n",
              "      <td>0</td>\n",
              "      <td>0</td>\n",
              "      <td>0</td>\n",
              "      <td>0</td>\n",
              "      <td>0</td>\n",
              "      <td>0</td>\n",
              "      <td>0</td>\n",
              "      <td>0</td>\n",
              "      <td>0</td>\n",
              "      <td>0</td>\n",
              "      <td>0</td>\n",
              "      <td>0</td>\n",
              "      <td>0</td>\n",
              "      <td>0</td>\n",
              "      <td>0</td>\n",
              "      <td>0</td>\n",
              "      <td>1</td>\n",
              "      <td>0</td>\n",
              "      <td>0</td>\n",
              "      <td>0</td>\n",
              "      <td>0</td>\n",
              "      <td>0</td>\n",
              "      <td>0</td>\n",
              "      <td>...</td>\n",
              "      <td>0</td>\n",
              "      <td>0</td>\n",
              "      <td>0</td>\n",
              "      <td>0</td>\n",
              "      <td>0</td>\n",
              "      <td>0</td>\n",
              "      <td>0</td>\n",
              "      <td>0</td>\n",
              "      <td>0</td>\n",
              "      <td>0</td>\n",
              "      <td>0</td>\n",
              "      <td>0</td>\n",
              "      <td>0</td>\n",
              "      <td>0</td>\n",
              "      <td>0</td>\n",
              "      <td>1</td>\n",
              "      <td>0</td>\n",
              "      <td>0</td>\n",
              "      <td>0</td>\n",
              "      <td>0</td>\n",
              "      <td>0</td>\n",
              "      <td>0</td>\n",
              "      <td>0</td>\n",
              "      <td>0</td>\n",
              "      <td>0</td>\n",
              "      <td>0</td>\n",
              "      <td>0</td>\n",
              "      <td>0</td>\n",
              "      <td>0</td>\n",
              "      <td>0</td>\n",
              "      <td>0</td>\n",
              "      <td>0</td>\n",
              "      <td>0</td>\n",
              "      <td>0</td>\n",
              "      <td>0</td>\n",
              "      <td>0</td>\n",
              "      <td>0</td>\n",
              "      <td>0</td>\n",
              "      <td>0</td>\n",
              "      <td>0</td>\n",
              "    </tr>\n",
              "    <tr>\n",
              "      <th>3</th>\n",
              "      <td>1</td>\n",
              "      <td>21</td>\n",
              "      <td>1</td>\n",
              "      <td>1</td>\n",
              "      <td>1.0</td>\n",
              "      <td>0</td>\n",
              "      <td>28619.0</td>\n",
              "      <td>203</td>\n",
              "      <td>0</td>\n",
              "      <td>0</td>\n",
              "      <td>0</td>\n",
              "      <td>0</td>\n",
              "      <td>0</td>\n",
              "      <td>0</td>\n",
              "      <td>0</td>\n",
              "      <td>0</td>\n",
              "      <td>0</td>\n",
              "      <td>0</td>\n",
              "      <td>0</td>\n",
              "      <td>0</td>\n",
              "      <td>0</td>\n",
              "      <td>0</td>\n",
              "      <td>0</td>\n",
              "      <td>0</td>\n",
              "      <td>0</td>\n",
              "      <td>0</td>\n",
              "      <td>0</td>\n",
              "      <td>0</td>\n",
              "      <td>0</td>\n",
              "      <td>0</td>\n",
              "      <td>0</td>\n",
              "      <td>0</td>\n",
              "      <td>0</td>\n",
              "      <td>0</td>\n",
              "      <td>0</td>\n",
              "      <td>0</td>\n",
              "      <td>0</td>\n",
              "      <td>0</td>\n",
              "      <td>0</td>\n",
              "      <td>0</td>\n",
              "      <td>...</td>\n",
              "      <td>0</td>\n",
              "      <td>0</td>\n",
              "      <td>0</td>\n",
              "      <td>0</td>\n",
              "      <td>0</td>\n",
              "      <td>0</td>\n",
              "      <td>0</td>\n",
              "      <td>0</td>\n",
              "      <td>0</td>\n",
              "      <td>0</td>\n",
              "      <td>0</td>\n",
              "      <td>0</td>\n",
              "      <td>0</td>\n",
              "      <td>0</td>\n",
              "      <td>0</td>\n",
              "      <td>0</td>\n",
              "      <td>0</td>\n",
              "      <td>0</td>\n",
              "      <td>0</td>\n",
              "      <td>0</td>\n",
              "      <td>0</td>\n",
              "      <td>0</td>\n",
              "      <td>0</td>\n",
              "      <td>0</td>\n",
              "      <td>0</td>\n",
              "      <td>0</td>\n",
              "      <td>0</td>\n",
              "      <td>0</td>\n",
              "      <td>0</td>\n",
              "      <td>0</td>\n",
              "      <td>0</td>\n",
              "      <td>0</td>\n",
              "      <td>0</td>\n",
              "      <td>0</td>\n",
              "      <td>0</td>\n",
              "      <td>0</td>\n",
              "      <td>0</td>\n",
              "      <td>0</td>\n",
              "      <td>0</td>\n",
              "      <td>0</td>\n",
              "    </tr>\n",
              "    <tr>\n",
              "      <th>4</th>\n",
              "      <td>0</td>\n",
              "      <td>29</td>\n",
              "      <td>1</td>\n",
              "      <td>1</td>\n",
              "      <td>1.0</td>\n",
              "      <td>0</td>\n",
              "      <td>27496.0</td>\n",
              "      <td>39</td>\n",
              "      <td>0</td>\n",
              "      <td>0</td>\n",
              "      <td>0</td>\n",
              "      <td>0</td>\n",
              "      <td>0</td>\n",
              "      <td>0</td>\n",
              "      <td>0</td>\n",
              "      <td>0</td>\n",
              "      <td>0</td>\n",
              "      <td>0</td>\n",
              "      <td>0</td>\n",
              "      <td>0</td>\n",
              "      <td>0</td>\n",
              "      <td>0</td>\n",
              "      <td>0</td>\n",
              "      <td>0</td>\n",
              "      <td>0</td>\n",
              "      <td>0</td>\n",
              "      <td>0</td>\n",
              "      <td>0</td>\n",
              "      <td>0</td>\n",
              "      <td>0</td>\n",
              "      <td>0</td>\n",
              "      <td>0</td>\n",
              "      <td>0</td>\n",
              "      <td>0</td>\n",
              "      <td>0</td>\n",
              "      <td>0</td>\n",
              "      <td>0</td>\n",
              "      <td>0</td>\n",
              "      <td>0</td>\n",
              "      <td>0</td>\n",
              "      <td>...</td>\n",
              "      <td>0</td>\n",
              "      <td>0</td>\n",
              "      <td>0</td>\n",
              "      <td>0</td>\n",
              "      <td>0</td>\n",
              "      <td>0</td>\n",
              "      <td>0</td>\n",
              "      <td>0</td>\n",
              "      <td>0</td>\n",
              "      <td>0</td>\n",
              "      <td>0</td>\n",
              "      <td>0</td>\n",
              "      <td>0</td>\n",
              "      <td>0</td>\n",
              "      <td>0</td>\n",
              "      <td>0</td>\n",
              "      <td>0</td>\n",
              "      <td>0</td>\n",
              "      <td>0</td>\n",
              "      <td>0</td>\n",
              "      <td>0</td>\n",
              "      <td>0</td>\n",
              "      <td>0</td>\n",
              "      <td>0</td>\n",
              "      <td>0</td>\n",
              "      <td>0</td>\n",
              "      <td>0</td>\n",
              "      <td>0</td>\n",
              "      <td>1</td>\n",
              "      <td>0</td>\n",
              "      <td>0</td>\n",
              "      <td>0</td>\n",
              "      <td>0</td>\n",
              "      <td>0</td>\n",
              "      <td>0</td>\n",
              "      <td>0</td>\n",
              "      <td>0</td>\n",
              "      <td>0</td>\n",
              "      <td>0</td>\n",
              "      <td>0</td>\n",
              "    </tr>\n",
              "  </tbody>\n",
              "</table>\n",
              "<p>5 rows × 217 columns</p>\n",
              "</div>"
            ],
            "text/plain": [
              "   Gender  Age  ...  Region_Code_51.0  Region_Code_52.0\n",
              "0       1   44  ...                 0                 0\n",
              "1       1   76  ...                 0                 0\n",
              "2       1   47  ...                 0                 0\n",
              "3       1   21  ...                 0                 0\n",
              "4       0   29  ...                 0                 0\n",
              "\n",
              "[5 rows x 217 columns]"
            ]
          },
          "metadata": {
            "tags": []
          },
          "execution_count": 59
        }
      ]
    },
    {
      "cell_type": "markdown",
      "metadata": {
        "id": "3wyIquiPTvR2"
      },
      "source": [
        "Creiamo gli array per addestramento e test."
      ]
    },
    {
      "cell_type": "code",
      "metadata": {
        "id": "j1aTYCiPqzUH"
      },
      "source": [
        "X = df.drop([\"Response\"], axis=1).values\n",
        "y = df[[\"Response\"]].values\n",
        "\n",
        "X_train, X_test, y_train, y_test = train_test_split(X, y, test_size=0.2)"
      ],
      "execution_count": 60,
      "outputs": []
    },
    {
      "cell_type": "markdown",
      "metadata": {
        "id": "kGrbnfocTz-Y"
      },
      "source": [
        "Applichiamo la standardizzazione per portare i dati su una scala comune.\n"
      ]
    },
    {
      "cell_type": "code",
      "metadata": {
        "id": "IY87J9HwrLQN"
      },
      "source": [
        "ss = StandardScaler()\n",
        "X_train = ss.fit_transform(X_train)\n",
        "X_test = ss.transform(X_test)"
      ],
      "execution_count": 33,
      "outputs": []
    },
    {
      "cell_type": "markdown",
      "metadata": {
        "id": "xGgRDbIlgNVH"
      },
      "source": [
        "## Neural Network\n",
        "Dato che dovremo definire l'architettura della rete neurale più volte, definiamo una funzione per farlo."
      ]
    },
    {
      "cell_type": "code",
      "metadata": {
        "id": "Jhy92wzsrbOT"
      },
      "source": [
        "def build_model():\n",
        "  model = tf.keras.models.Sequential()\n",
        "  model.add(tf.keras.layers.Dense(128, input_dim=X_train.shape[1], activation='relu'))\n",
        "  model.add(tf.keras.layers.Dense(128, activation='relu'))\n",
        "  model.add(tf.keras.layers.Dense(64, activation='relu'))\n",
        "  model.add(tf.keras.layers.Dense(64, activation='relu'))\n",
        "  model.add(tf.keras.layers.Dense(32, activation='relu'))\n",
        "  model.add(tf.keras.layers.Dense(32, activation='relu'))\n",
        "  model.add(tf.keras.layers.Dense(1, activation='sigmoid'))\n",
        "  return model"
      ],
      "execution_count": 48,
      "outputs": []
    },
    {
      "cell_type": "markdown",
      "metadata": {
        "id": "GgS9jp4KWkgL"
      },
      "source": [
        "Configuriamo il modello e avviamo l'addestramento, 5 epoche basteranno."
      ]
    },
    {
      "cell_type": "code",
      "metadata": {
        "id": "L1zVB2K9sErO",
        "outputId": "0e27e7f7-d3f9-49d2-fac7-7b04e1b0104a",
        "colab": {
          "base_uri": "https://localhost:8080/"
        }
      },
      "source": [
        "model = build_model()\n",
        "model.compile(loss='binary_crossentropy', optimizer='adam', metrics=['accuracy'])\n",
        "model.fit(X_train, y_train, epochs=5, batch_size=256, validation_split=0.1)"
      ],
      "execution_count": 49,
      "outputs": [
        {
          "output_type": "stream",
          "text": [
            "Epoch 1/5\n",
            "1072/1072 [==============================] - 7s 4ms/step - loss: 0.2991 - accuracy: 0.8768 - val_loss: 0.2703 - val_accuracy: 0.8784\n",
            "Epoch 2/5\n",
            "1072/1072 [==============================] - 4s 3ms/step - loss: 0.2688 - accuracy: 0.8773 - val_loss: 0.2705 - val_accuracy: 0.8784\n",
            "Epoch 3/5\n",
            "1072/1072 [==============================] - 4s 3ms/step - loss: 0.2669 - accuracy: 0.8775 - val_loss: 0.2679 - val_accuracy: 0.8784\n",
            "Epoch 4/5\n",
            "1072/1072 [==============================] - 4s 3ms/step - loss: 0.2661 - accuracy: 0.8774 - val_loss: 0.2685 - val_accuracy: 0.8784\n",
            "Epoch 5/5\n",
            "1072/1072 [==============================] - 4s 3ms/step - loss: 0.2665 - accuracy: 0.8765 - val_loss: 0.2673 - val_accuracy: 0.8784\n"
          ],
          "name": "stdout"
        },
        {
          "output_type": "execute_result",
          "data": {
            "text/plain": [
              "<tensorflow.python.keras.callbacks.History at 0x7f36d9e7d550>"
            ]
          },
          "metadata": {
            "tags": []
          },
          "execution_count": 49
        }
      ]
    },
    {
      "cell_type": "code",
      "metadata": {
        "id": "iEJbWmCfsW5a",
        "outputId": "bdfcf83d-a75e-4249-9465-3cb393d4115e",
        "colab": {
          "base_uri": "https://localhost:8080/"
        }
      },
      "source": [
        "model.evaluate(X_test, y_test)"
      ],
      "execution_count": 50,
      "outputs": [
        {
          "output_type": "stream",
          "text": [
            "2382/2382 [==============================] - 4s 2ms/step - loss: 0.2684 - accuracy: 0.8765\n"
          ],
          "name": "stdout"
        },
        {
          "output_type": "execute_result",
          "data": {
            "text/plain": [
              "[0.268436461687088, 0.8765186071395874]"
            ]
          },
          "metadata": {
            "tags": []
          },
          "execution_count": 50
        }
      ]
    },
    {
      "cell_type": "markdown",
      "metadata": {
        "id": "U9LbraIBWqAk"
      },
      "source": [
        "Il risultato è buono su train, validation e test. Troppo buono, essendo il dataset sbilanciato verso la classe negativa, è molto probabile che il modello non stia facendo altro che predire sempre la classe negativa. Verifichiamolo stampando una matrice di confusione e calcolando presion e recall<sup>[3](#references)</sup>"
      ]
    },
    {
      "cell_type": "code",
      "metadata": {
        "id": "hm7HIZImNPHI",
        "outputId": "ccb51215-3658-4c60-8bdd-dfc5c59e51b0",
        "colab": {
          "base_uri": "https://localhost:8080/",
          "height": 370
        }
      },
      "source": [
        "def plot_confusion_matrix(model, labels=[\"Negative\", \"Positive\"], threeshold=0.5, show_precision=True, show_recall=True):\n",
        "\n",
        "  y_proba = model.predict(X_test)\n",
        "  y_pred = np.where(y_proba>threeshold,1,0)\n",
        "  cm = confusion_matrix(y_test, y_pred) # tn, fp, fn, tp \n",
        "\n",
        "  df_cm = pd.DataFrame(cm, index = labels,\n",
        "                    columns = [\"Predicted \"+labels[0],\"Predicted \"+labels[1]])\n",
        "  sns.heatmap(df_cm, annot=True, fmt='g')\n",
        "\n",
        "  if show_precision:\n",
        "    # Quale percentuale di classificazione positive erano effettivamente positive ?\n",
        "    print(\"Precision: %.2f\" % (cm[1][1]/(cm[1][1]+cm[0][1])))\n",
        "  if show_recall:\n",
        "    # Quale percentuale di osservazioni positive sono state classificate come positive ?\n",
        "    print(\"Recall: %.2f\" % (cm[1][1]/(cm[1][1]+cm[1][0])))\n",
        "\n",
        "plot_confusion_matrix(model, [\"Rejected\", \"Accepted\"])"
      ],
      "execution_count": 67,
      "outputs": [
        {
          "output_type": "stream",
          "text": [
            "Precision: 0.77\n",
            "Recall: 0.95\n"
          ],
          "name": "stdout"
        },
        {
          "output_type": "display_data",
          "data": {
            "image/png": "[encoded data removed]",
            "text/plain": [
              "<Figure size 4320x1080 with 2 Axes>"
            ]
          },
          "metadata": {
            "tags": [],
            "needs_background": "light"
          }
        }
      ]
    },
    {
      "cell_type": "markdown",
      "metadata": {
        "id": "pOQBInNJaIH1"
      },
      "source": [
        "Proprio così ! Vediamo alcune tecniche per poter lavorare su un dataset fortemente sbilanciato"
      ]
    },
    {
      "cell_type": "markdown",
      "metadata": {
        "id": "GGlGgFupPhfu"
      },
      "source": [
        "## Tecnica 1: Class Weighting\n",
        "La prima tecnica consiste nel applicare un peso positivo a classe più debole, ed eventualmente un peso positivo alla classe più forte. Nel nostro caso ho verificato che applicare anche un peso negativo va a penalizzare eccessivamente la classe negativa."
      ]
    },
    {
      "cell_type": "code",
      "metadata": {
        "id": "oNP6Nxq3U5Ae"
      },
      "source": [
        "total = y.shape[0]\n",
        "pos = y[y==1].shape[0]\n",
        "pos_weight = (1 / pos)*(total)/2.0\n",
        "\n",
        "# Non applichiamo un peso negativo\n",
        "# perchè penalizza troppo la classe negativa\n",
        "# neg = y[y==0].shape[0]\n",
        "# neg_weight = (1 / neg)*(total)/2.0\n",
        "\n",
        "class_weight = {0: 1, 1: pos_weight}"
      ],
      "execution_count": 34,
      "outputs": []
    },
    {
      "cell_type": "markdown",
      "metadata": {
        "id": "v4DnEUmXaoKg"
      },
      "source": [
        "Per applicare i pesi posiamo usare il parametro *class_weight* del metodo *fit*."
      ]
    },
    {
      "cell_type": "code",
      "metadata": {
        "colab": {
          "base_uri": "https://localhost:8080/"
        },
        "id": "CGY9W7FZU6Yx",
        "outputId": "ceb6c04f-dc99-420b-e678-64c11a723dc3"
      },
      "source": [
        "model = build_model()\n",
        "model.compile(loss='binary_crossentropy', optimizer='adam', metrics=['accuracy'])\n",
        "model.fit(X_train, y_train, epochs=10, class_weight=class_weight, batch_size=128, validation_split=0.1)"
      ],
      "execution_count": 56,
      "outputs": [
        {
          "output_type": "stream",
          "text": [
            "Epoch 1/10\n",
            "2144/2144 [==============================] - 8s 3ms/step - loss: 0.6281 - accuracy: 0.7472 - val_loss: 0.3781 - val_accuracy: 0.7395\n",
            "Epoch 2/10\n",
            "2144/2144 [==============================] - 7s 3ms/step - loss: 0.5818 - accuracy: 0.7522 - val_loss: 0.3912 - val_accuracy: 0.7343\n",
            "Epoch 3/10\n",
            "2144/2144 [==============================] - 7s 3ms/step - loss: 0.5805 - accuracy: 0.7522 - val_loss: 0.3811 - val_accuracy: 0.7453\n",
            "Epoch 4/10\n",
            "2144/2144 [==============================] - 7s 3ms/step - loss: 0.5784 - accuracy: 0.7538 - val_loss: 0.3700 - val_accuracy: 0.7517\n",
            "Epoch 5/10\n",
            "2144/2144 [==============================] - 7s 3ms/step - loss: 0.5716 - accuracy: 0.7557 - val_loss: 0.3540 - val_accuracy: 0.7532\n",
            "Epoch 6/10\n",
            "2144/2144 [==============================] - 7s 3ms/step - loss: 0.5728 - accuracy: 0.7574 - val_loss: 0.3628 - val_accuracy: 0.7569\n",
            "Epoch 7/10\n",
            "2144/2144 [==============================] - 7s 3ms/step - loss: 0.5677 - accuracy: 0.7631 - val_loss: 0.3586 - val_accuracy: 0.7605\n",
            "Epoch 8/10\n",
            "2144/2144 [==============================] - 7s 3ms/step - loss: 0.5688 - accuracy: 0.7620 - val_loss: 0.3692 - val_accuracy: 0.7540\n",
            "Epoch 9/10\n",
            "2144/2144 [==============================] - 7s 3ms/step - loss: 0.5671 - accuracy: 0.7654 - val_loss: 0.3717 - val_accuracy: 0.7521\n",
            "Epoch 10/10\n",
            "2144/2144 [==============================] - 7s 3ms/step - loss: 0.5671 - accuracy: 0.7649 - val_loss: 0.3677 - val_accuracy: 0.7590\n"
          ],
          "name": "stdout"
        },
        {
          "output_type": "execute_result",
          "data": {
            "text/plain": [
              "<tensorflow.python.keras.callbacks.History at 0x7f36e7ecab90>"
            ]
          },
          "metadata": {
            "tags": []
          },
          "execution_count": 56
        }
      ]
    },
    {
      "cell_type": "code",
      "metadata": {
        "id": "eQD6mviJVFig",
        "outputId": "81d99e56-a974-4abf-8952-6905b59482b0",
        "colab": {
          "base_uri": "https://localhost:8080/"
        }
      },
      "source": [
        "model.evaluate(X_test, y_test)"
      ],
      "execution_count": 57,
      "outputs": [
        {
          "output_type": "stream",
          "text": [
            "2382/2382 [==============================] - 4s 2ms/step - loss: 0.3623 - accuracy: 0.7636\n"
          ],
          "name": "stdout"
        },
        {
          "output_type": "execute_result",
          "data": {
            "text/plain": [
              "[0.36227166652679443, 0.7635853290557861]"
            ]
          },
          "metadata": {
            "tags": []
          },
          "execution_count": 57
        }
      ]
    },
    {
      "cell_type": "code",
      "metadata": {
        "id": "Tagqxgc7dGKV",
        "outputId": "2a4c6601-b7fe-4c4d-9dcc-fa4f2a5881e7",
        "colab": {
          "base_uri": "https://localhost:8080/",
          "height": 370
        }
      },
      "source": [
        "plot_confusion_matrix(model, [\"Rejected\", \"Accepted\"])"
      ],
      "execution_count": 58,
      "outputs": [
        {
          "output_type": "stream",
          "text": [
            "Precision: 0.32\n",
            "Recall: 0.80\n"
          ],
          "name": "stdout"
        },
        {
          "output_type": "display_data",
          "data": {
            "image/png": "[encoded data removed]",
            "text/plain": [
              "<Figure size 4320x1080 with 2 Axes>"
            ]
          },
          "metadata": {
            "tags": [],
            "needs_background": "light"
          }
        }
      ]
    },
    {
      "cell_type": "markdown",
      "metadata": {
        "id": "wyKgv8dda_HD"
      },
      "source": [
        "Decisamente meglio."
      ]
    },
    {
      "cell_type": "markdown",
      "metadata": {
        "id": "2fhLY0BUU-Vm"
      },
      "source": [
        "## Tecnica 2: Undersampling\n",
        "L'undersampling consiste nel rimuovere di proposito esempi appartenenti alla classe più forte, in modo tale da pareggiare il numero con la classe più debole. \n",
        "\n",
        "Per farlo iniziamo definendo due funzioni di supporto, la prima ci permette di divedere il dataframe in base al valore di y. "
      ]
    },
    {
      "cell_type": "code",
      "metadata": {
        "id": "INYP9ylHY2M9"
      },
      "source": [
        "def split_data_by_label(df, target_column):\n",
        "  \n",
        "  y = df[target_column].values\n",
        "  bool_labels = y!=0 # creiamo una maschera binaria per filtrare le righe in base al valore del target\n",
        "\n",
        "  X_pos = df[bool_labels]\n",
        "  X_neg = df[~bool_labels] # la tilde inverte la maschera binaria\n",
        "\n",
        "  X_pos = X_pos.drop(target_column, axis=1).values\n",
        "  X_neg = X_neg.drop(target_column, axis=1).values\n",
        "\n",
        "  y_pos = y[bool_labels]\n",
        "  y_neg = y[~bool_labels]\n",
        "\n",
        "  return X_pos, X_neg, y_pos, y_neg"
      ],
      "execution_count": 39,
      "outputs": []
    },
    {
      "cell_type": "markdown",
      "metadata": {
        "id": "XB4lmjlxb9r7"
      },
      "source": [
        "La seconda rimette insieme il dataset e lo shakera un po'"
      ]
    },
    {
      "cell_type": "code",
      "metadata": {
        "id": "kErvlviEaHRo"
      },
      "source": [
        "def concatenate(X_pos, X_neg, y_pos, y_neg):\n",
        "  \n",
        "  X_concat = np.concatenate([X_neg, X_pos], axis=0)\n",
        "  y_concat = np.concatenate([y_neg, y_pos], axis=0)\n",
        "\n",
        "  order = np.arange(len(y_concat))\n",
        "  np.random.shuffle(order)\n",
        "  X_concat = X_concat[order]\n",
        "  y_concat = y_concat[order]\n",
        "\n",
        "  return X_concat, y_concat"
      ],
      "execution_count": 40,
      "outputs": []
    },
    {
      "cell_type": "markdown",
      "metadata": {
        "id": "78cXvNStcZ1L"
      },
      "source": [
        "Ora definiamo la funzione che applicherà l'undersampling."
      ]
    },
    {
      "cell_type": "code",
      "metadata": {
        "id": "EgEtRuzVZmXM"
      },
      "source": [
        "def undersample(df, target_column):\n",
        "  \n",
        "  X_pos, X_neg, y_pos, y_neg = split_data_by_label(df, target_column)\n",
        "  \n",
        "  ids = np.arange(len(X_neg)) # creiamo un'array di valori equidistanti all'interno dell'intervallo 0,n dove n è il numero di esempi appartenenti alla classe negativa\n",
        "                              # ids funge da lista di indici di X_neg\n",
        "\n",
        "  choices = np.random.choice(ids, len(X_pos))  # campioniamo un numero di incidi pari al numero di esempi appartenenti alla classe positiva\n",
        "\n",
        "  X_neg_res = X_neg[choices] # usiamo gli indici campionati per filtrare\n",
        "  y_neg_res = y_neg[choices] # usiamo gli stessi indici campionati per filtrare\n",
        "\n",
        "  res_features, res_labels = concatenate(X_pos, X_neg_res, y_pos, y_neg_res)\n",
        "  return res_features, res_labels"
      ],
      "execution_count": 43,
      "outputs": []
    },
    {
      "cell_type": "code",
      "metadata": {
        "colab": {
          "base_uri": "https://localhost:8080/"
        },
        "id": "yfjBbKAQWxfC",
        "outputId": "c0334d06-63bf-4706-86b8-f2948022775c"
      },
      "source": [
        "X_undersampled, y_undersampled = undersample(df, \"Response\")\n",
        "print(\"Number of samples: \"+str(X_undersampled.shape))\n",
        "print(\"Labels distribution: \"+str(np.unique(y_undersampled,return_counts=True)))"
      ],
      "execution_count": 44,
      "outputs": [
        {
          "output_type": "stream",
          "text": [
            "Number of samples: (93420, 10)\n",
            "Labels distribution: (array([0, 1]), array([46710, 46710]))\n"
          ],
          "name": "stdout"
        }
      ]
    },
    {
      "cell_type": "code",
      "metadata": {
        "id": "6IdF4DqQcvVE"
      },
      "source": [
        "X_train, X_test, y_train, y_test = train_test_split(X_undersampled, y_undersampled, test_size=0.2)"
      ],
      "execution_count": 45,
      "outputs": []
    },
    {
      "cell_type": "code",
      "metadata": {
        "id": "QZMj-rsQc0g2"
      },
      "source": [
        "ss = StandardScaler()\n",
        "X_train = ss.fit_transform(X_train)\n",
        "X_test = ss.transform(X_test)"
      ],
      "execution_count": 46,
      "outputs": []
    },
    {
      "cell_type": "code",
      "metadata": {
        "colab": {
          "base_uri": "https://localhost:8080/"
        },
        "id": "C52jAtQ_dP1J",
        "outputId": "dfc11c76-15eb-4caa-ace6-1f26fdf4569b"
      },
      "source": [
        "model = build_model()\n",
        "model.compile(loss='binary_crossentropy', optimizer='adam', metrics=['accuracy'])\n",
        "model.fit(X_train, y_train, epochs=10, batch_size=512, validation_split=0.1)"
      ],
      "execution_count": 49,
      "outputs": [
        {
          "output_type": "stream",
          "text": [
            "Epoch 1/10\n",
            "132/132 [==============================] - 2s 8ms/step - loss: 0.4902 - accuracy: 0.7707 - val_loss: 0.4319 - val_accuracy: 0.7923\n",
            "Epoch 2/10\n",
            "132/132 [==============================] - 1s 6ms/step - loss: 0.4286 - accuracy: 0.7971 - val_loss: 0.4310 - val_accuracy: 0.7930\n",
            "Epoch 3/10\n",
            "132/132 [==============================] - 1s 6ms/step - loss: 0.4283 - accuracy: 0.7931 - val_loss: 0.4371 - val_accuracy: 0.7902\n",
            "Epoch 4/10\n",
            "132/132 [==============================] - 1s 6ms/step - loss: 0.4331 - accuracy: 0.7891 - val_loss: 0.4330 - val_accuracy: 0.7902\n",
            "Epoch 5/10\n",
            "132/132 [==============================] - 1s 6ms/step - loss: 0.4240 - accuracy: 0.7967 - val_loss: 0.4318 - val_accuracy: 0.7933\n",
            "Epoch 6/10\n",
            "132/132 [==============================] - 1s 6ms/step - loss: 0.4262 - accuracy: 0.7950 - val_loss: 0.4311 - val_accuracy: 0.7913\n",
            "Epoch 7/10\n",
            "132/132 [==============================] - 1s 6ms/step - loss: 0.4282 - accuracy: 0.7930 - val_loss: 0.4298 - val_accuracy: 0.7914\n",
            "Epoch 8/10\n",
            "132/132 [==============================] - 1s 6ms/step - loss: 0.4216 - accuracy: 0.7967 - val_loss: 0.4315 - val_accuracy: 0.7902\n",
            "Epoch 9/10\n",
            "132/132 [==============================] - 1s 6ms/step - loss: 0.4253 - accuracy: 0.7961 - val_loss: 0.4314 - val_accuracy: 0.7907\n",
            "Epoch 10/10\n",
            "132/132 [==============================] - 1s 6ms/step - loss: 0.4204 - accuracy: 0.7967 - val_loss: 0.4297 - val_accuracy: 0.7931\n"
          ],
          "name": "stdout"
        },
        {
          "output_type": "execute_result",
          "data": {
            "text/plain": [
              "<tensorflow.python.keras.callbacks.History at 0x7efce90d5bd0>"
            ]
          },
          "metadata": {
            "tags": []
          },
          "execution_count": 49
        }
      ]
    },
    {
      "cell_type": "code",
      "metadata": {
        "colab": {
          "base_uri": "https://localhost:8080/"
        },
        "id": "vd0az_54dMnp",
        "outputId": "4f695294-8cb2-4684-80f0-622a1c3f4309"
      },
      "source": [
        "model.evaluate(X_test, y_test)"
      ],
      "execution_count": 69,
      "outputs": [
        {
          "output_type": "stream",
          "text": [
            "584/584 [==============================] - 1s 2ms/step - loss: 0.4286 - accuracy: 0.8007\n"
          ],
          "name": "stdout"
        },
        {
          "output_type": "execute_result",
          "data": {
            "text/plain": [
              "[0.4285649061203003, 0.8006851077079773]"
            ]
          },
          "metadata": {
            "tags": []
          },
          "execution_count": 69
        }
      ]
    },
    {
      "cell_type": "code",
      "metadata": {
        "colab": {
          "base_uri": "https://localhost:8080/",
          "height": 371
        },
        "id": "qNBPxda-eeXH",
        "outputId": "f1072d04-608c-4ad1-b6bb-51ce9c86d114"
      },
      "source": [
        "plot_confusion_matrix(model, [\"Rejected\", \"Accepted\"])"
      ],
      "execution_count": 70,
      "outputs": [
        {
          "output_type": "stream",
          "text": [
            "Precision: 0.75\n",
            "Recall: 0.92\n"
          ],
          "name": "stdout"
        },
        {
          "output_type": "display_data",
          "data": {
            "image/png": "[encoded data removed]",
            "text/plain": [
              "<Figure size 4320x1080 with 2 Axes>"
            ]
          },
          "metadata": {
            "tags": [],
            "needs_background": "light"
          }
        }
      ]
    },
    {
      "cell_type": "markdown",
      "metadata": {
        "id": "I8aAnaEids2t"
      },
      "source": [
        "L'undersampling ha portato ad un risultato migliore rispetto al class weighting."
      ]
    },
    {
      "cell_type": "markdown",
      "metadata": {
        "id": "hLcmbIOFPmnj"
      },
      "source": [
        "## Tecnica 3: Oversampling\n",
        "Nel machine learning non si butta via nulla ! Per questo piuttosto che usare l'undersampling ci conviene sfruttare l'oversampling, che è esattamente la tecnica inversa. Piuttosto che rimuovere esempi appartenenti alla classe positiva, ne andiamo ad aggiungere, duplicando quelli esistenti, alla classe negativa, fino a pareggiare il numero di esempi negativi e positivi."
      ]
    },
    {
      "cell_type": "code",
      "metadata": {
        "colab": {
          "base_uri": "https://localhost:8080/"
        },
        "id": "hHltmVf-Sls0",
        "outputId": "f283f608-e404-4e1d-9958-9f8ea7e1a579"
      },
      "source": [
        "def oversample(df, target_column):\n",
        "  \n",
        "  X_pos, X_neg, y_pos, y_neg = split_data_by_label(df, target_column)\n",
        "  \n",
        "  ids = np.arange(len(X_pos)) # come prima, ma ora ids conterrà i possibili indici degli esempi positivi\n",
        "  choices = np.random.choice(ids, len(X_neg)) # sempre come prima, ma ora campioniamo tanti indici quanti sono gli esempi negativi\n",
        "\n",
        "  X_pos_res = X_pos[choices]\n",
        "  y_pos_res = y_pos[choices]\n",
        "\n",
        "  res_features, res_labels = concatenate(X_pos_res, X_neg, y_pos_res, y_neg)\n",
        "  return res_features, res_labels\n",
        "\n",
        "X_oversampled, y_oversampled = oversample(df, \"Response\")\n",
        "print(\"Number of samples: \"+str(X_oversampled.shape))\n",
        "print(\"Labels distribution: \"+str(np.unique(y_oversampled,return_counts=True)))"
      ],
      "execution_count": 61,
      "outputs": [
        {
          "output_type": "stream",
          "text": [
            "Number of samples: (668798, 216)\n",
            "Labels distribution: (array([0, 1]), array([334399, 334399]))\n"
          ],
          "name": "stdout"
        }
      ]
    },
    {
      "cell_type": "code",
      "metadata": {
        "id": "LuTMQEWXS_jJ"
      },
      "source": [
        "X_train, X_test, y_train, y_test = train_test_split(X_oversampled, y_oversampled, test_size=0.2)"
      ],
      "execution_count": 62,
      "outputs": []
    },
    {
      "cell_type": "code",
      "metadata": {
        "id": "02xlqQ0CUh4y"
      },
      "source": [
        "ss = StandardScaler()\n",
        "X_train = ss.fit_transform(X_train)\n",
        "X_test = ss.transform(X_test)"
      ],
      "execution_count": 63,
      "outputs": []
    },
    {
      "cell_type": "code",
      "metadata": {
        "colab": {
          "base_uri": "https://localhost:8080/"
        },
        "id": "pBhx2Rn5UiLg",
        "outputId": "0456c6ba-9d29-4729-c766-b7c5630866fb"
      },
      "source": [
        "model = build_model()\n",
        "model.compile(loss='binary_crossentropy', optimizer='adam', metrics=['accuracy'])\n",
        "model.fit(X_train, y_train, epochs=50, batch_size=256, validation_split=0.1)"
      ],
      "execution_count": 64,
      "outputs": [
        {
          "output_type": "stream",
          "text": [
            "Epoch 1/50\n",
            "1881/1881 [==============================] - 11s 5ms/step - loss: 0.4522 - accuracy: 0.7811 - val_loss: 0.4249 - val_accuracy: 0.7979\n",
            "Epoch 2/50\n",
            "1881/1881 [==============================] - 9s 5ms/step - loss: 0.4208 - accuracy: 0.8009 - val_loss: 0.4199 - val_accuracy: 0.8007\n",
            "Epoch 3/50\n",
            "1881/1881 [==============================] - 9s 5ms/step - loss: 0.4167 - accuracy: 0.8028 - val_loss: 0.4175 - val_accuracy: 0.8015\n",
            "Epoch 4/50\n",
            "1881/1881 [==============================] - 9s 5ms/step - loss: 0.4137 - accuracy: 0.8030 - val_loss: 0.4149 - val_accuracy: 0.8025\n",
            "Epoch 5/50\n",
            "1881/1881 [==============================] - 9s 5ms/step - loss: 0.4115 - accuracy: 0.8041 - val_loss: 0.4128 - val_accuracy: 0.8039\n",
            "Epoch 6/50\n",
            "1881/1881 [==============================] - 9s 5ms/step - loss: 0.4068 - accuracy: 0.8073 - val_loss: 0.4112 - val_accuracy: 0.8044\n",
            "Epoch 7/50\n",
            "1881/1881 [==============================] - 9s 5ms/step - loss: 0.4055 - accuracy: 0.8079 - val_loss: 0.4095 - val_accuracy: 0.8067\n",
            "Epoch 8/50\n",
            "1881/1881 [==============================] - 9s 5ms/step - loss: 0.4005 - accuracy: 0.8107 - val_loss: 0.4062 - val_accuracy: 0.8080\n",
            "Epoch 9/50\n",
            "1881/1881 [==============================] - 9s 5ms/step - loss: 0.3990 - accuracy: 0.8115 - val_loss: 0.4072 - val_accuracy: 0.8086\n",
            "Epoch 10/50\n",
            "1881/1881 [==============================] - 9s 5ms/step - loss: 0.3965 - accuracy: 0.8126 - val_loss: 0.4034 - val_accuracy: 0.8085\n",
            "Epoch 11/50\n",
            "1881/1881 [==============================] - 9s 5ms/step - loss: 0.3935 - accuracy: 0.8140 - val_loss: 0.4011 - val_accuracy: 0.8124\n",
            "Epoch 12/50\n",
            "1881/1881 [==============================] - 9s 5ms/step - loss: 0.3900 - accuracy: 0.8172 - val_loss: 0.3975 - val_accuracy: 0.8121\n",
            "Epoch 13/50\n",
            "1881/1881 [==============================] - 10s 5ms/step - loss: 0.3881 - accuracy: 0.8180 - val_loss: 0.3986 - val_accuracy: 0.8132\n",
            "Epoch 14/50\n",
            "1881/1881 [==============================] - 10s 5ms/step - loss: 0.3845 - accuracy: 0.8200 - val_loss: 0.3983 - val_accuracy: 0.8122\n",
            "Epoch 15/50\n",
            "1881/1881 [==============================] - 9s 5ms/step - loss: 0.3825 - accuracy: 0.8215 - val_loss: 0.3949 - val_accuracy: 0.8163\n",
            "Epoch 16/50\n",
            "1881/1881 [==============================] - 9s 5ms/step - loss: 0.3800 - accuracy: 0.8230 - val_loss: 0.3934 - val_accuracy: 0.8167\n",
            "Epoch 17/50\n",
            "1881/1881 [==============================] - 9s 5ms/step - loss: 0.3776 - accuracy: 0.8241 - val_loss: 0.3904 - val_accuracy: 0.8187\n",
            "Epoch 18/50\n",
            "1881/1881 [==============================] - 9s 5ms/step - loss: 0.3764 - accuracy: 0.8249 - val_loss: 0.3913 - val_accuracy: 0.8167\n",
            "Epoch 19/50\n",
            "1881/1881 [==============================] - 9s 5ms/step - loss: 0.3734 - accuracy: 0.8270 - val_loss: 0.3903 - val_accuracy: 0.8178\n",
            "Epoch 20/50\n",
            "1881/1881 [==============================] - 9s 5ms/step - loss: 0.3693 - accuracy: 0.8293 - val_loss: 0.3900 - val_accuracy: 0.8186\n",
            "Epoch 21/50\n",
            "1881/1881 [==============================] - 9s 5ms/step - loss: 0.3692 - accuracy: 0.8299 - val_loss: 0.3880 - val_accuracy: 0.8201\n",
            "Epoch 22/50\n",
            "1881/1881 [==============================] - 9s 5ms/step - loss: 0.3678 - accuracy: 0.8301 - val_loss: 0.3845 - val_accuracy: 0.8222\n",
            "Epoch 23/50\n",
            "1881/1881 [==============================] - 9s 5ms/step - loss: 0.3659 - accuracy: 0.8310 - val_loss: 0.3878 - val_accuracy: 0.8215\n",
            "Epoch 24/50\n",
            "1881/1881 [==============================] - 9s 5ms/step - loss: 0.3637 - accuracy: 0.8327 - val_loss: 0.3829 - val_accuracy: 0.8238\n",
            "Epoch 25/50\n",
            "1881/1881 [==============================] - 9s 5ms/step - loss: 0.3620 - accuracy: 0.8332 - val_loss: 0.3833 - val_accuracy: 0.8239\n",
            "Epoch 26/50\n",
            "1881/1881 [==============================] - 9s 5ms/step - loss: 0.3601 - accuracy: 0.8348 - val_loss: 0.3846 - val_accuracy: 0.8234\n",
            "Epoch 27/50\n",
            "1881/1881 [==============================] - 9s 5ms/step - loss: 0.3582 - accuracy: 0.8361 - val_loss: 0.3817 - val_accuracy: 0.8238\n",
            "Epoch 28/50\n",
            "1881/1881 [==============================] - 9s 5ms/step - loss: 0.3557 - accuracy: 0.8373 - val_loss: 0.3806 - val_accuracy: 0.8252\n",
            "Epoch 29/50\n",
            "1881/1881 [==============================] - 9s 5ms/step - loss: 0.3562 - accuracy: 0.8370 - val_loss: 0.3824 - val_accuracy: 0.8253\n",
            "Epoch 30/50\n",
            "1881/1881 [==============================] - 9s 5ms/step - loss: 0.3540 - accuracy: 0.8387 - val_loss: 0.3784 - val_accuracy: 0.8272\n",
            "Epoch 31/50\n",
            "1881/1881 [==============================] - 9s 5ms/step - loss: 0.3525 - accuracy: 0.8392 - val_loss: 0.3789 - val_accuracy: 0.8275\n",
            "Epoch 32/50\n",
            "1881/1881 [==============================] - 9s 5ms/step - loss: 0.3516 - accuracy: 0.8399 - val_loss: 0.3803 - val_accuracy: 0.8272\n",
            "Epoch 33/50\n",
            "1881/1881 [==============================] - 9s 5ms/step - loss: 0.3506 - accuracy: 0.8406 - val_loss: 0.3771 - val_accuracy: 0.8279\n",
            "Epoch 34/50\n",
            "1881/1881 [==============================] - 9s 5ms/step - loss: 0.3478 - accuracy: 0.8423 - val_loss: 0.3787 - val_accuracy: 0.8281\n",
            "Epoch 35/50\n",
            "1881/1881 [==============================] - 9s 5ms/step - loss: 0.3475 - accuracy: 0.8418 - val_loss: 0.3784 - val_accuracy: 0.8287\n",
            "Epoch 36/50\n",
            "1881/1881 [==============================] - 9s 5ms/step - loss: 0.3465 - accuracy: 0.8432 - val_loss: 0.3779 - val_accuracy: 0.8291\n",
            "Epoch 37/50\n",
            "1881/1881 [==============================] - 9s 5ms/step - loss: 0.3450 - accuracy: 0.8431 - val_loss: 0.3744 - val_accuracy: 0.8299\n",
            "Epoch 38/50\n",
            "1881/1881 [==============================] - 9s 5ms/step - loss: 0.3438 - accuracy: 0.8444 - val_loss: 0.3743 - val_accuracy: 0.8302\n",
            "Epoch 39/50\n",
            "1881/1881 [==============================] - 9s 5ms/step - loss: 0.3428 - accuracy: 0.8451 - val_loss: 0.3728 - val_accuracy: 0.8325\n",
            "Epoch 40/50\n",
            "1881/1881 [==============================] - 9s 5ms/step - loss: 0.3415 - accuracy: 0.8453 - val_loss: 0.3728 - val_accuracy: 0.8329\n",
            "Epoch 41/50\n",
            "1881/1881 [==============================] - 9s 5ms/step - loss: 0.3418 - accuracy: 0.8459 - val_loss: 0.3736 - val_accuracy: 0.8313\n",
            "Epoch 42/50\n",
            "1881/1881 [==============================] - 9s 5ms/step - loss: 0.3384 - accuracy: 0.8478 - val_loss: 0.3731 - val_accuracy: 0.8341\n",
            "Epoch 43/50\n",
            "1881/1881 [==============================] - 9s 5ms/step - loss: 0.3372 - accuracy: 0.8489 - val_loss: 0.3720 - val_accuracy: 0.8319\n",
            "Epoch 44/50\n",
            "1881/1881 [==============================] - 9s 5ms/step - loss: 0.3371 - accuracy: 0.8492 - val_loss: 0.3740 - val_accuracy: 0.8339\n",
            "Epoch 45/50\n",
            "1881/1881 [==============================] - 10s 5ms/step - loss: 0.3344 - accuracy: 0.8503 - val_loss: 0.3700 - val_accuracy: 0.8345\n",
            "Epoch 46/50\n",
            "1881/1881 [==============================] - 9s 5ms/step - loss: 0.3355 - accuracy: 0.8493 - val_loss: 0.3737 - val_accuracy: 0.8340\n",
            "Epoch 47/50\n",
            "1881/1881 [==============================] - 9s 5ms/step - loss: 0.3349 - accuracy: 0.8498 - val_loss: 0.3690 - val_accuracy: 0.8361\n",
            "Epoch 48/50\n",
            "1881/1881 [==============================] - 9s 5ms/step - loss: 0.3335 - accuracy: 0.8508 - val_loss: 0.3707 - val_accuracy: 0.8347\n",
            "Epoch 49/50\n",
            "1881/1881 [==============================] - 9s 5ms/step - loss: 0.3321 - accuracy: 0.8518 - val_loss: 0.3677 - val_accuracy: 0.8356\n",
            "Epoch 50/50\n",
            "1881/1881 [==============================] - 9s 5ms/step - loss: 0.3311 - accuracy: 0.8523 - val_loss: 0.3706 - val_accuracy: 0.8353\n"
          ],
          "name": "stdout"
        },
        {
          "output_type": "execute_result",
          "data": {
            "text/plain": [
              "<tensorflow.python.keras.callbacks.History at 0x7efcec192a50>"
            ]
          },
          "metadata": {
            "tags": []
          },
          "execution_count": 64
        }
      ]
    },
    {
      "cell_type": "code",
      "metadata": {
        "colab": {
          "base_uri": "https://localhost:8080/"
        },
        "id": "5Zw1zpZte0yf",
        "outputId": "a0a99195-19e8-4f66-aeb4-e0ee063f8907"
      },
      "source": [
        "model.evaluate(X_test, y_test)"
      ],
      "execution_count": 65,
      "outputs": [
        {
          "output_type": "stream",
          "text": [
            "4180/4180 [==============================] - 6s 2ms/step - loss: 0.3705 - accuracy: 0.8360\n"
          ],
          "name": "stdout"
        },
        {
          "output_type": "execute_result",
          "data": {
            "text/plain": [
              "[0.3704829812049866, 0.8360347151756287]"
            ]
          },
          "metadata": {
            "tags": []
          },
          "execution_count": 65
        }
      ]
    },
    {
      "cell_type": "code",
      "metadata": {
        "colab": {
          "base_uri": "https://localhost:8080/",
          "height": 370
        },
        "id": "Kvmxwptee2uM",
        "outputId": "ad364f5e-9de6-461a-82e1-9f40e8a241cf"
      },
      "source": [
        "plot_confusion_matrix(model, [\"Rejected\", \"Accepted\"])"
      ],
      "execution_count": 68,
      "outputs": [
        {
          "output_type": "stream",
          "text": [
            "Precision: 0.77\n",
            "Recall: 0.95\n"
          ],
          "name": "stdout"
        },
        {
          "output_type": "display_data",
          "data": {
            "image/png": "[encoded data removed]",
            "text/plain": [
              "<Figure size 4320x1080 with 2 Axes>"
            ]
          },
          "metadata": {
            "tags": [],
            "needs_background": "light"
          }
        }
      ]
    },
    {
      "cell_type": "markdown",
      "metadata": {
        "id": "ZN_dhdgQe_n5"
      },
      "source": [
        "## Callbacks\n",
        "I callbacks ci permettono di eseguire del codice durante le diverse parti della fase di addestramento. Possiamo definire dei callback nostri, possiamo utilizzare quelli messi a disposizione da tensorflow, oppure possiamo anche fare entrambe le cose. In questo esempio ti mostro due callback di tensorflow particolarmente utili, in fondo al notebook troverai la lista completa dei callback <sup>[4](#references)</sup>"
      ]
    },
    {
      "cell_type": "code",
      "metadata": {
        "id": "EXcT7xtnfBQc"
      },
      "source": [
        "model = build_model()\n",
        "model.compile(loss='binary_crossentropy', optimizer='adam', metrics=['accuracy'])"
      ],
      "execution_count": null,
      "outputs": []
    },
    {
      "cell_type": "markdown",
      "metadata": {
        "id": "KcL52W-RgYzJ"
      },
      "source": [
        "Il primo callback che ti mostro ci permette di eseguire l'early stopping dell'addestramento.\n",
        "Early Stopping è una tecnica che consiste nell'interrompere l'addestramento in maniera preventiva se il modello non sta migliorando."
      ]
    },
    {
      "cell_type": "code",
      "metadata": {
        "id": "HOkWzMOqfDee"
      },
      "source": [
        "early_stopping = tf.keras.callbacks.EarlyStopping(monitor=\"accuracy\",\n",
        "                              min_delta=0.01,\n",
        "                              patience=2,\n",
        "                              restore_best_weights=True)"
      ],
      "execution_count": null,
      "outputs": []
    },
    {
      "cell_type": "markdown",
      "metadata": {
        "id": "KdbjkXWJgvIw"
      },
      "source": [
        "Così facendo abbiamo indicato di interrompere l'addestramento se dopo almeno patience epoche il valore della loss non è migliorato di almeno min_delta, e in tal caso di ripristinare i pesi che hanno portato al migliore risultato.\n",
        "\n",
        "Il secondo callback è ModelCheckpoint, che ci permette di fare un backup su disco della rete neurale al termine di ogni epoca, o di un'altro intervallo temporale definito da noi."
      ]
    },
    {
      "cell_type": "code",
      "metadata": {
        "id": "W9buXKLWgv0l"
      },
      "source": [
        "model_checkpoint = tf.keras.callbacks.ModelCheckpoint(\n",
        "    \"checkpoint.h5\", \n",
        "    save_best_only=True, # se true, salviamo solo i pesi del modello che ha ottenuto il risultato migliore\n",
        "    monitor='val_loss', # quale risultato ? In questo caso la loss sul set di validazione\n",
        "    #save_weights_only=True, # se true salviamo solo i pesi, e non tutto il modello \n",
        "    #save_freq='epoch'\n",
        ")"
      ],
      "execution_count": null,
      "outputs": []
    },
    {
      "cell_type": "markdown",
      "metadata": {
        "id": "HCEgNI8lg-5V"
      },
      "source": [
        "ora possiamo passare un'istanza del callback all'interno del parametro callbacks del metodo fit."
      ]
    },
    {
      "cell_type": "code",
      "metadata": {
        "id": "cS9JDXJEfErn"
      },
      "source": [
        "model.fit(X_train, y_train, epochs=10, batch_size=256, validation_split=0.1, callbacks=[early_stopping, model_checkpoint])"
      ],
      "execution_count": null,
      "outputs": []
    },
    {
      "cell_type": "markdown",
      "metadata": {
        "id": "_GNBJaBMHP0Z"
      },
      "source": [
        "## Tensorboard"
      ]
    },
    {
      "cell_type": "code",
      "metadata": {
        "id": "TaGHAcq4Hj7v"
      },
      "source": [
        "%load_ext tensorboard\n",
        "!rm -rf ./logs/"
      ],
      "execution_count": null,
      "outputs": []
    },
    {
      "cell_type": "code",
      "metadata": {
        "id": "gj_zzUSpTFDv"
      },
      "source": [
        "class TestCallback(Callback):\n",
        "\n",
        "    def __init__(self, X_test, y_test, log_dir):\n",
        "        self.X_test = X_test\n",
        "        self.tesy_testt_data = y_test\n",
        "        self.log_dir = log_dir\n",
        "        \n",
        "\n",
        "    def on_train_end(self, logs=None):\n",
        "      loss, accuracy = self.model.evaluate(X_test, y_test)      \n",
        "      \n",
        "      with tf.summary.create_file_writer(self.log_dir+\"/test\").as_default():\n",
        "        tf.summary.scalar('test_loss', data=loss, step=1)\n",
        "        tf.summary.scalar('test_accuracy', data=accuracy, step=1)\n",
        "     \n",
        "      print(\"Test Loss: %.4f, Test Accuracy: %.4f\" % (loss, accuracy))\n",
        "      return loss, accuracy"
      ],
      "execution_count": null,
      "outputs": []
    },
    {
      "cell_type": "code",
      "metadata": {
        "id": "iRVJln9lEw4i"
      },
      "source": [
        "log_dir = \"logs/scalars/\" + datetime.now().strftime(\"%Y%m%d-%H%M%S\")\n",
        "\n",
        "print(logdir)\n",
        "\n",
        "model = build_model()\n",
        "model.compile(loss='binary_crossentropy', optimizer='adam', metrics=['accuracy'])\n",
        "tensorboard_callback = tf.keras.callbacks.TensorBoard(log_dir=log_dir, histogram_freq=1)\n",
        "model.fit(X_train, y_train, epochs=10, batch_size=128, validation_split=0.1, callbacks=[tensorboard_callback, TestCallback(X_test, y_test, log_dir)])"
      ],
      "execution_count": null,
      "outputs": []
    },
    {
      "cell_type": "code",
      "metadata": {
        "id": "LvSQsEyZHg3n"
      },
      "source": [
        "%tensorboard --logdir logs/scalars"
      ],
      "execution_count": null,
      "outputs": []
    },
    {
      "cell_type": "code",
      "metadata": {
        "id": "Z12iYXoBHy5i"
      },
      "source": [
        "!tensorboard dev upload \\\n",
        "  --logdir logs/fit \\\n",
        "  --name \"Health Insurance Cross Sell Prediction\" \\\n",
        "  --description \"Predict Health Insurance Owners' who will be interested in Vehicle Insurance\" \\\n",
        "  --one_shot"
      ],
      "execution_count": null,
      "outputs": []
    },
    {
      "cell_type": "markdown",
      "metadata": {
        "id": "J88VoyfdIbBR"
      },
      "source": [
        "## Tuning degli Iperparametri"
      ]
    },
    {
      "cell_type": "code",
      "metadata": {
        "id": "kxujM9X6Nii6"
      },
      "source": [
        "!rm -rf ./logs/"
      ],
      "execution_count": null,
      "outputs": []
    },
    {
      "cell_type": "code",
      "metadata": {
        "id": "JhNaPNR8ImrL"
      },
      "source": [
        "HP_NUM_UNITS = hp.HParam('num_units', hp.Discrete([16, 8]))\n",
        "HP_OPTIMIZER = hp.HParam('optimizer', hp.Discrete(['adam', 'sgd']))\n",
        "METRIC_ACCURACY = 'accuracy'"
      ],
      "execution_count": null,
      "outputs": []
    },
    {
      "cell_type": "code",
      "metadata": {
        "id": "sLO8Qjo1JAxF"
      },
      "source": [
        "def tune_model(hparams):\n",
        "  model = tf.keras.models.Sequential()\n",
        "  model.add(tf.keras.layers.Dense(hparams[HP_NUM_UNITS], input_dim=X_train.shape[1], activation='relu'))\n",
        "  model.add(tf.keras.layers.Dense(hparams[HP_NUM_UNITS], activation='relu'))\n",
        "  model.add(tf.keras.layers.Dense(hparams[HP_NUM_UNITS], activation='relu'))\n",
        "  model.add(tf.keras.layers.Dense(hparams[HP_NUM_UNITS], activation='relu'))\n",
        "  model.add(tf.keras.layers.Dense(1, activation=\"sigmoid\"))\n",
        "  model.compile(loss='binary_crossentropy', optimizer=hparams[HP_OPTIMIZER], metrics=['accuracy'])\n",
        "  return model"
      ],
      "execution_count": null,
      "outputs": []
    },
    {
      "cell_type": "code",
      "metadata": {
        "id": "LMHrsnIOKzsf"
      },
      "source": [
        "def run(log_dir, hparams):\n",
        "\n",
        "    hp.hparams(hparams) \n",
        "    model = tune_model(hparams)\n",
        "    \n",
        "    model.fit(X_train, y_train, \n",
        "              epochs=10, batch_size=512,\n",
        "              validation_split = 0.1,\n",
        "              callbacks=[\n",
        "                  tf.keras.callbacks.TensorBoard(log_dir),\n",
        "                  hp.KerasCallback(log_dir, hparams),\n",
        "                  TestCallback(X_test, y_test, log_dir)\n",
        "              ],\n",
        "    )"
      ],
      "execution_count": null,
      "outputs": []
    },
    {
      "cell_type": "code",
      "metadata": {
        "id": "9LLWssMWKgVe"
      },
      "source": [
        "session_num = 0\n",
        "\n",
        "for num_units in HP_NUM_UNITS.domain.values:\n",
        "  for optimizer in HP_OPTIMIZER.domain.values:\n",
        "      hparams = {\n",
        "          HP_NUM_UNITS: num_units,\n",
        "          HP_OPTIMIZER: optimizer,\n",
        "      }\n",
        "      run_name = \"run-%d\" % session_num\n",
        "      print('--- Starting trial: %s' % run_name)\n",
        "      print({h.name: hparams[h] for h in hparams})\n",
        "      run('logs/hparam_tuning/' + run_name, hparams)\n",
        "      session_num += 1"
      ],
      "execution_count": null,
      "outputs": []
    },
    {
      "cell_type": "code",
      "metadata": {
        "id": "V17ZIRKWL6or"
      },
      "source": [
        "%tensorboard --logdir logs/hparam_tuning"
      ],
      "execution_count": null,
      "outputs": []
    },
    {
      "cell_type": "code",
      "metadata": {
        "id": "ISkWoXVVOCEg"
      },
      "source": [
        "!tensorboard dev upload \\\n",
        "  --logdir logs/fit \\\n",
        "  --name \"Health Insurance Cross Sell Prediction\" \\\n",
        "  --description \"Predict Health Insurance Owners' who will be interested in Vehicle Insurance\" \\\n",
        "  --one_shot"
      ],
      "execution_count": null,
      "outputs": []
    },
    {
      "cell_type": "markdown",
      "metadata": {
        "id": "piceN86bhTRJ"
      },
      "source": [
        "## Esportare il modello"
      ]
    },
    {
      "cell_type": "code",
      "metadata": {
        "colab": {
          "base_uri": "https://localhost:8080/"
        },
        "id": "2NnKCxoV2W_W",
        "outputId": "3682dc5b-b6c1-4c3f-e9bb-651470ab1677"
      },
      "source": [
        "!mkdir model"
      ],
      "execution_count": null,
      "outputs": [
        {
          "output_type": "stream",
          "text": [
            "mkdir: cannot create directory ‘model’: File exists\n"
          ],
          "name": "stdout"
        }
      ]
    },
    {
      "cell_type": "code",
      "metadata": {
        "id": "l3WvYLeB1OWe"
      },
      "source": [
        "model.save(\"model/model.h5\")"
      ],
      "execution_count": null,
      "outputs": []
    },
    {
      "cell_type": "code",
      "metadata": {
        "colab": {
          "base_uri": "https://localhost:8080/"
        },
        "id": "6rkFZeaC178Z",
        "outputId": "9369c0a6-6755-4850-b324-ccd5fa88f208"
      },
      "source": [
        "from joblib import dump\n",
        "dump(ss, 'model/standard_scaler.joblib')"
      ],
      "execution_count": null,
      "outputs": [
        {
          "output_type": "execute_result",
          "data": {
            "text/plain": [
              "['model/standard_scaler.joblib']"
            ]
          },
          "metadata": {
            "tags": []
          },
          "execution_count": 239
        }
      ]
    },
    {
      "cell_type": "markdown",
      "metadata": {
        "id": "ktCid5Jm11uD"
      },
      "source": [
        "Proviamo ad importare"
      ]
    },
    {
      "cell_type": "code",
      "metadata": {
        "id": "OluaImem132X"
      },
      "source": [
        "model = load_model(\"model/model.h5\")"
      ],
      "execution_count": null,
      "outputs": []
    },
    {
      "cell_type": "code",
      "metadata": {
        "id": "RMIGF9rJ2jra"
      },
      "source": [
        "from joblib import load\n",
        "ss = load('model/standard_scaler.joblib')"
      ],
      "execution_count": null,
      "outputs": []
    },
    {
      "cell_type": "code",
      "metadata": {
        "colab": {
          "base_uri": "https://localhost:8080/"
        },
        "id": "C2TaYx2k3MGG",
        "outputId": "852ea861-3893-45c3-bf0b-a4c13f5721a5"
      },
      "source": [
        "# ss = ss.transform(X_test, y_test)\n",
        "model.evaluate(X_test, y_test)"
      ],
      "execution_count": null,
      "outputs": [
        {
          "output_type": "stream",
          "text": [
            "4180/4180 [==============================] - 6s 1ms/step - loss: 0.3841 - accuracy: 0.8258\n"
          ],
          "name": "stdout"
        },
        {
          "output_type": "execute_result",
          "data": {
            "text/plain": [
              "[0.3840586543083191, 0.8257550597190857]"
            ]
          },
          "metadata": {
            "tags": []
          },
          "execution_count": 245
        }
      ]
    },
    {
      "cell_type": "markdown",
      "metadata": {
        "id": "dJT85yj03WKs"
      },
      "source": [
        "## Esportare il modello in modo migliore"
      ]
    },
    {
      "cell_type": "code",
      "metadata": {
        "id": "3vu32_sW4Bu1"
      },
      "source": [
        "X_resampled, y_resampled = undersample(df, \"Response\")\n",
        "# X_resampled, y_resampled = oversample(df, \"Response\")\n",
        "X_train, X_test, y_train, y_test = train_test_split(X_resampled, y_resampled, test_size=0.2)\n",
        "\n",
        "mean = X_train.mean(axis=0)\n",
        "sd = X_train.std(axis=0)"
      ],
      "execution_count": null,
      "outputs": []
    },
    {
      "cell_type": "code",
      "metadata": {
        "colab": {
          "base_uri": "https://localhost:8080/"
        },
        "id": "k-nnKhcL5lBi",
        "outputId": "8fa008d2-5eef-4746-dac5-59228e3bb4bf"
      },
      "source": [
        "(X_train[0] - mean)/(sd+0.00001)"
      ],
      "execution_count": null,
      "outputs": [
        {
          "output_type": "execute_result",
          "data": {
            "text/plain": [
              "array([-1.15732177e+00, -1.95600940e-01,  3.82077505e-02, -5.97861186e-01,\n",
              "        4.32437198e-01,  6.40303628e-01, -1.60984878e+00, -4.57252368e-02,\n",
              "       -5.16317871e-03, -4.71715047e-02, -4.30006284e-02,  0.00000000e+00,\n",
              "       -6.44237954e-02, -5.87320909e-02, -2.16356590e-02, -2.99448502e-02,\n",
              "       -5.26914194e-02, -4.71715047e-02, -7.19492542e-02, -3.80317810e-02,\n",
              "       -4.61638330e-02, -3.45193745e-02, -7.30606359e-03, -1.75355059e-02,\n",
              "       -2.22458128e-02, -9.66842872e-03, -1.50737408e-02, -2.56038869e-02,\n",
              "       -3.49056570e-02, -4.63091166e-02, -7.99671765e-02, -6.02357170e-01,\n",
              "       -3.64797895e-03, -3.64797895e-03, -4.75968920e-02, -5.85022905e-02,\n",
              "       -4.84365629e-02, -6.32585853e-03,  0.00000000e+00,  0.00000000e+00,\n",
              "       -1.31799977e-02, -1.50737408e-02, -2.10078339e-02, -3.64797895e-03,\n",
              "       -8.16965936e-03, -5.16317871e-03, -3.64797895e-03, -2.03607035e-02,\n",
              "       -3.64797895e-03, -1.75355059e-02, -1.09644507e-02, -6.32585853e-03,\n",
              "       -1.31799977e-02, -5.16317871e-03, -5.16317871e-03,  0.00000000e+00,\n",
              "       -5.16317871e-03, -5.11369208e-02, -1.15581632e-02, -1.67550877e-02,\n",
              "       -5.99804754e-02, -1.31799977e-02, -3.64797895e-03, -7.30606359e-03,\n",
              "       -1.90005840e-02, -3.85572949e-02, -3.67765696e-02, -3.64797895e-03,\n",
              "       -5.16317871e-03, -1.31799977e-02, -1.15581632e-02, -6.32585853e-03,\n",
              "       -3.64797895e-03, -5.16317871e-03,  0.00000000e+00,  0.00000000e+00,\n",
              "       -3.64797895e-03, -6.32585853e-03,  0.00000000e+00,  0.00000000e+00,\n",
              "       -3.64797895e-03, -8.95042555e-03,  0.00000000e+00, -1.09644507e-02,\n",
              "       -6.32585853e-03,  0.00000000e+00,  0.00000000e+00,  0.00000000e+00,\n",
              "       -1.03367433e-02, -5.16317871e-03, -5.16317871e-03, -5.16317871e-03,\n",
              "       -1.15581632e-02, -2.28397108e-02, -7.30606359e-03, -6.32585853e-03,\n",
              "       -1.15581632e-02, -3.64797895e-03, -6.32585853e-03, -6.32585853e-03,\n",
              "       -3.64797895e-03, -5.16317871e-03, -7.30606359e-03, -5.16317871e-03,\n",
              "        0.00000000e+00, -1.31799977e-02, -3.64797895e-03,  0.00000000e+00,\n",
              "       -1.50737408e-02, -6.32585853e-03, -8.16965936e-03, -2.25447127e-02,\n",
              "       -3.64797895e-03, -1.26624557e-02,  0.00000000e+00, -1.59365665e-02,\n",
              "       -7.30606359e-03,  0.00000000e+00, -2.06867938e-02,  0.00000000e+00,\n",
              "       -6.32585853e-03, -1.26624557e-02, -3.97566545e-02, -1.67550877e-02,\n",
              "       -1.77780997e-01, -3.64797895e-03, -5.61203717e-01, -5.19199245e-02,\n",
              "        0.00000000e+00, -1.67550877e-02, -1.79129914e-02, -8.95042555e-03,\n",
              "       -6.32585853e-03, -1.79129914e-02, -8.16965936e-03, -1.15581632e-02,\n",
              "       -5.16317871e-03, -1.36779984e-02, -2.56038869e-02,  0.00000000e+00,\n",
              "       -1.63509411e-02, -1.63509411e-02, -1.67550877e-02,  0.00000000e+00,\n",
              "        0.00000000e+00, -2.16356590e-02,  0.00000000e+00, -2.34185893e-02,\n",
              "       -1.31799977e-02,  0.00000000e+00, -3.50972122e-02, -8.62509123e-02,\n",
              "       -5.57781558e-01, -3.47130503e-02, -1.52509217e-01, -7.41702065e-02,\n",
              "       -1.95553268e-01,  6.11396062e+00, -4.48352860e-02, -9.66842872e-03,\n",
              "       -1.93776301e-01, -1.12119991e-01, -6.70915783e-02, -4.96697114e-02,\n",
              "       -9.31472151e-02, -1.61283163e-01, -7.02384530e-02, -5.85022905e-02,\n",
              "       -1.16975436e-01, -9.64518225e-02, -2.94715403e-01, -8.36141323e-02,\n",
              "       -9.40924713e-02, -1.55513683e-01, -8.47424986e-02, -9.61688121e-02,\n",
              "       -1.04665117e-01, -1.72506093e-01, -6.47371300e-02, -7.38045899e-02,\n",
              "       -1.18377832e-01, -7.07177432e-02, -7.01422098e-02, -9.63811449e-02,\n",
              "       -5.46961540e-02, -7.52566328e-02, -8.03053793e-02, -6.82883308e-02,\n",
              "       -7.53464771e-02, -7.74721960e-02, -7.22025999e-01, -1.73776763e-01,\n",
              "       -1.63107816e-01, -7.15725387e-02, -7.78209693e-02, -1.35876792e-01,\n",
              "       -6.00926972e-02, -1.38408379e-01,  7.18752428e+00, -1.12912597e-01,\n",
              "       -8.32890135e-02, -1.11813721e-01, -5.95295035e-02, -2.23370015e-01,\n",
              "       -3.69584803e-02, -7.92865540e-02, -3.92471028e-02, -1.18610041e-01,\n",
              "       -2.23798853e-01, -1.33404616e-01, -1.08579856e-01, -6.57709794e-02,\n",
              "       -1.49917134e-01, -2.48069068e-02, -2.73736792e-02])"
            ]
          },
          "metadata": {
            "tags": []
          },
          "execution_count": 278
        }
      ]
    },
    {
      "cell_type": "code",
      "metadata": {
        "colab": {
          "base_uri": "https://localhost:8080/"
        },
        "id": "5mOaqAf25Un8",
        "outputId": "ab22aaf0-9cd3-487f-e5d6-566526ae3851"
      },
      "source": [
        "ss = StandardScaler()\n",
        "X_train_std = ss.fit_transform(X_train)\n",
        "\n",
        "X_train_std[0]"
      ],
      "execution_count": null,
      "outputs": [
        {
          "output_type": "execute_result",
          "data": {
            "text/plain": [
              "array([-1.15734516e+00, -1.95601077e-01,  3.82177625e-02, -5.97874760e-01,\n",
              "        4.32452468e-01,  6.40317727e-01, -1.60984878e+00, -4.57352555e-02,\n",
              "       -5.17315968e-03, -4.71815248e-02, -4.30106446e-02,  0.00000000e+00,\n",
              "       -6.44338353e-02, -5.87421237e-02, -2.16456591e-02, -2.99548558e-02,\n",
              "       -5.27014453e-02, -4.71815248e-02, -7.19593046e-02, -3.80417928e-02,\n",
              "       -4.61738521e-02, -3.45293835e-02, -7.31605047e-03, -1.75455033e-02,\n",
              "       -2.22558132e-02, -9.67841933e-03, -1.50837364e-02, -2.56138895e-02,\n",
              "       -3.49156664e-02, -4.63191359e-02, -7.99772392e-02, -6.02370798e-01,\n",
              "       -3.65795182e-03, -3.65795182e-03, -4.76069125e-02, -5.85123230e-02,\n",
              "       -4.84465842e-02, -6.33584318e-03,  0.00000000e+00,  0.00000000e+00,\n",
              "       -1.31899918e-02, -1.50837364e-02, -2.10178336e-02, -3.65795182e-03,\n",
              "       -8.17964782e-03, -5.17315968e-03, -3.65795182e-03, -2.03707028e-02,\n",
              "       -3.65795182e-03, -1.75455033e-02, -1.09744428e-02, -6.33584318e-03,\n",
              "       -1.31899918e-02, -5.17315968e-03, -5.17315968e-03,  0.00000000e+00,\n",
              "       -5.17315968e-03, -5.11469450e-02, -1.15681559e-02, -1.67650845e-02,\n",
              "       -5.99905097e-02, -1.31899918e-02, -3.65795182e-03, -7.31605047e-03,\n",
              "       -1.90105823e-02, -3.85673072e-02, -3.67865804e-02, -3.65795182e-03,\n",
              "       -5.17315968e-03, -1.31899918e-02, -1.15681559e-02, -6.33584318e-03,\n",
              "       -3.65795182e-03, -5.17315968e-03,  0.00000000e+00,  0.00000000e+00,\n",
              "       -3.65795182e-03, -6.33584318e-03,  0.00000000e+00,  0.00000000e+00,\n",
              "       -3.65795182e-03, -8.96041520e-03,  0.00000000e+00, -1.09744428e-02,\n",
              "       -6.33584318e-03,  0.00000000e+00,  0.00000000e+00,  0.00000000e+00,\n",
              "       -1.03467347e-02, -5.17315968e-03, -5.17315968e-03, -5.17315968e-03,\n",
              "       -1.15681559e-02, -2.28497116e-02, -7.31605047e-03, -6.33584318e-03,\n",
              "       -1.15681559e-02, -3.65795182e-03, -6.33584318e-03, -6.33584318e-03,\n",
              "       -3.65795182e-03, -5.17315968e-03, -7.31605047e-03, -5.17315968e-03,\n",
              "        0.00000000e+00, -1.31899918e-02, -3.65795182e-03,  0.00000000e+00,\n",
              "       -1.50837364e-02, -6.33584318e-03, -8.17964782e-03, -2.25547133e-02,\n",
              "       -3.65795182e-03, -1.26724494e-02,  0.00000000e+00, -1.59465628e-02,\n",
              "       -7.31605047e-03,  0.00000000e+00, -2.06967932e-02,  0.00000000e+00,\n",
              "       -6.33584318e-03, -1.26724494e-02, -3.97666678e-02, -1.67650845e-02,\n",
              "       -1.77791312e-01, -3.65795182e-03, -5.61216866e-01, -5.19299496e-02,\n",
              "        0.00000000e+00, -1.67650845e-02, -1.79229891e-02, -8.96041520e-03,\n",
              "       -6.33584318e-03, -1.79229891e-02, -8.17964782e-03, -1.15681559e-02,\n",
              "       -5.17315968e-03, -1.36879930e-02, -2.56138895e-02,  0.00000000e+00,\n",
              "       -1.63609377e-02, -1.63609377e-02, -1.67650845e-02,  0.00000000e+00,\n",
              "        0.00000000e+00, -2.16456591e-02,  0.00000000e+00, -2.34285906e-02,\n",
              "       -1.31899918e-02,  0.00000000e+00, -3.51072217e-02, -8.62609855e-02,\n",
              "       -5.57794669e-01, -3.47230595e-02, -1.52519449e-01, -7.41802601e-02,\n",
              "       -1.95563650e-01,  6.11434445e+00, -4.48453039e-02, -9.67841933e-03,\n",
              "       -1.93786676e-01, -1.12130115e-01, -6.71016218e-02, -4.96797340e-02,\n",
              "       -9.31573008e-02, -1.61293423e-01, -7.02485010e-02, -5.85123230e-02,\n",
              "       -1.16985572e-01, -9.64619145e-02, -2.94726271e-01, -8.36242010e-02,\n",
              "       -9.41025588e-02, -1.55523924e-01, -8.47525692e-02, -9.61789036e-02,\n",
              "       -1.04675226e-01, -1.72516390e-01, -6.47471703e-02, -7.38146430e-02,\n",
              "       -1.18387971e-01, -7.07277918e-02, -7.01522576e-02, -9.63912368e-02,\n",
              "       -5.47061821e-02, -7.52666882e-02, -8.03154426e-02, -6.82983760e-02,\n",
              "       -7.53565325e-02, -7.74822547e-02, -7.22041212e-01, -1.73787064e-01,\n",
              "       -1.63118081e-01, -7.15825885e-02, -7.78310286e-02, -1.35886976e-01,\n",
              "       -6.01027316e-02, -1.38418570e-01,  7.18805093e+00, -1.12922723e-01,\n",
              "       -8.32990817e-02, -1.11823845e-01, -5.95395372e-02, -2.23380513e-01,\n",
              "       -3.69684913e-02, -7.92966156e-02, -3.92571157e-02, -1.18620181e-01,\n",
              "       -2.23809354e-01, -1.33414793e-01, -1.08589973e-01, -6.57810211e-02,\n",
              "       -1.49927358e-01, -2.48169089e-02, -2.73836830e-02])"
            ]
          },
          "metadata": {
            "tags": []
          },
          "execution_count": 277
        }
      ]
    },
    {
      "cell_type": "code",
      "metadata": {
        "colab": {
          "base_uri": "https://localhost:8080/"
        },
        "id": "bpvJR-QL3aAG",
        "outputId": "33073d46-3980-4c68-fe5d-feddeda6236e"
      },
      "source": [
        "  model = tf.keras.models.Sequential()\n",
        "  model.add(tf.keras.layers.Lambda(lambda x: (x-mean)/(sd+0.00001)))\n",
        "  model.add(tf.keras.layers.Dense(128, input_dim=X_train.shape[1], activation='relu'))\n",
        "  model.add(tf.keras.layers.Dense(128, activation='relu'))\n",
        "  model.add(tf.keras.layers.Dense(64, activation='relu'))\n",
        "  model.add(tf.keras.layers.Dense(64, activation='relu'))\n",
        "  model.add(tf.keras.layers.Dense(32, activation='relu'))\n",
        "  model.add(tf.keras.layers.Dense(32, activation='relu'))\n",
        "  model.add(tf.keras.layers.Dense(1, activation='sigmoid'))\n",
        "\n",
        "model.compile(loss='binary_crossentropy', optimizer='adam', metrics=['accuracy'])\n",
        "model.fit(X_train, y_train, epochs=50, batch_size=256, validation_split=0.1)"
      ],
      "execution_count": null,
      "outputs": [
        {
          "output_type": "stream",
          "text": [
            "Epoch 1/50\n",
            "263/263 [==============================] - 2s 4ms/step - loss: 0.5177 - accuracy: 0.7545 - val_loss: 0.4429 - val_accuracy: 0.7877\n",
            "Epoch 2/50\n",
            "263/263 [==============================] - 1s 3ms/step - loss: 0.4289 - accuracy: 0.7952 - val_loss: 0.4361 - val_accuracy: 0.7929\n",
            "Epoch 3/50\n",
            "263/263 [==============================] - 1s 3ms/step - loss: 0.4279 - accuracy: 0.7954 - val_loss: 0.4344 - val_accuracy: 0.7936\n",
            "Epoch 4/50\n",
            "263/263 [==============================] - 1s 3ms/step - loss: 0.4219 - accuracy: 0.7998 - val_loss: 0.4363 - val_accuracy: 0.7960\n",
            "Epoch 5/50\n",
            "263/263 [==============================] - 1s 3ms/step - loss: 0.4217 - accuracy: 0.7981 - val_loss: 0.4364 - val_accuracy: 0.7931\n",
            "Epoch 6/50\n",
            "263/263 [==============================] - 1s 3ms/step - loss: 0.4194 - accuracy: 0.8007 - val_loss: 0.4360 - val_accuracy: 0.7953\n",
            "Epoch 7/50\n",
            "263/263 [==============================] - 1s 3ms/step - loss: 0.4153 - accuracy: 0.8029 - val_loss: 0.4357 - val_accuracy: 0.7958\n",
            "Epoch 8/50\n",
            "263/263 [==============================] - 1s 3ms/step - loss: 0.4149 - accuracy: 0.8040 - val_loss: 0.4355 - val_accuracy: 0.7966\n",
            "Epoch 9/50\n",
            "263/263 [==============================] - 1s 3ms/step - loss: 0.4173 - accuracy: 0.8004 - val_loss: 0.4361 - val_accuracy: 0.7953\n",
            "Epoch 10/50\n",
            "263/263 [==============================] - 1s 3ms/step - loss: 0.4140 - accuracy: 0.8032 - val_loss: 0.4437 - val_accuracy: 0.7942\n",
            "Epoch 11/50\n",
            "263/263 [==============================] - 1s 3ms/step - loss: 0.4123 - accuracy: 0.8045 - val_loss: 0.4400 - val_accuracy: 0.7968\n",
            "Epoch 12/50\n",
            "263/263 [==============================] - 1s 3ms/step - loss: 0.4119 - accuracy: 0.8037 - val_loss: 0.4353 - val_accuracy: 0.7964\n",
            "Epoch 13/50\n",
            "263/263 [==============================] - 1s 3ms/step - loss: 0.4091 - accuracy: 0.8062 - val_loss: 0.4391 - val_accuracy: 0.7934\n",
            "Epoch 14/50\n",
            "263/263 [==============================] - 1s 3ms/step - loss: 0.4087 - accuracy: 0.8052 - val_loss: 0.4387 - val_accuracy: 0.7958\n",
            "Epoch 15/50\n",
            "263/263 [==============================] - 1s 3ms/step - loss: 0.4079 - accuracy: 0.8060 - val_loss: 0.4413 - val_accuracy: 0.7919\n",
            "Epoch 16/50\n",
            "263/263 [==============================] - 1s 3ms/step - loss: 0.4061 - accuracy: 0.8078 - val_loss: 0.4366 - val_accuracy: 0.7945\n",
            "Epoch 17/50\n",
            "263/263 [==============================] - 1s 3ms/step - loss: 0.4084 - accuracy: 0.8046 - val_loss: 0.4456 - val_accuracy: 0.7965\n",
            "Epoch 18/50\n",
            "263/263 [==============================] - 1s 3ms/step - loss: 0.4039 - accuracy: 0.8092 - val_loss: 0.4409 - val_accuracy: 0.7960\n",
            "Epoch 19/50\n",
            "263/263 [==============================] - 1s 3ms/step - loss: 0.4037 - accuracy: 0.8078 - val_loss: 0.4437 - val_accuracy: 0.7925\n",
            "Epoch 20/50\n",
            "263/263 [==============================] - 1s 3ms/step - loss: 0.4026 - accuracy: 0.8080 - val_loss: 0.4460 - val_accuracy: 0.7945\n",
            "Epoch 21/50\n",
            "263/263 [==============================] - 1s 3ms/step - loss: 0.4009 - accuracy: 0.8089 - val_loss: 0.4385 - val_accuracy: 0.7922\n",
            "Epoch 22/50\n",
            "263/263 [==============================] - 1s 3ms/step - loss: 0.4026 - accuracy: 0.8076 - val_loss: 0.4396 - val_accuracy: 0.7925\n",
            "Epoch 23/50\n",
            "263/263 [==============================] - 1s 3ms/step - loss: 0.3989 - accuracy: 0.8125 - val_loss: 0.4459 - val_accuracy: 0.7954\n",
            "Epoch 24/50\n",
            "263/263 [==============================] - 1s 3ms/step - loss: 0.4011 - accuracy: 0.8093 - val_loss: 0.4509 - val_accuracy: 0.7909\n",
            "Epoch 25/50\n",
            "263/263 [==============================] - 1s 3ms/step - loss: 0.3972 - accuracy: 0.8114 - val_loss: 0.4537 - val_accuracy: 0.7914\n",
            "Epoch 26/50\n",
            "263/263 [==============================] - 1s 4ms/step - loss: 0.3948 - accuracy: 0.8123 - val_loss: 0.4473 - val_accuracy: 0.7949\n",
            "Epoch 27/50\n",
            "263/263 [==============================] - 1s 3ms/step - loss: 0.3938 - accuracy: 0.8142 - val_loss: 0.4555 - val_accuracy: 0.7941\n",
            "Epoch 28/50\n",
            "263/263 [==============================] - 1s 3ms/step - loss: 0.3897 - accuracy: 0.8162 - val_loss: 0.4482 - val_accuracy: 0.7910\n",
            "Epoch 29/50\n",
            "263/263 [==============================] - 1s 3ms/step - loss: 0.3881 - accuracy: 0.8167 - val_loss: 0.4539 - val_accuracy: 0.7940\n",
            "Epoch 30/50\n",
            "263/263 [==============================] - 1s 3ms/step - loss: 0.3874 - accuracy: 0.8150 - val_loss: 0.4518 - val_accuracy: 0.7926\n",
            "Epoch 31/50\n",
            "263/263 [==============================] - 1s 3ms/step - loss: 0.3889 - accuracy: 0.8155 - val_loss: 0.4545 - val_accuracy: 0.7925\n",
            "Epoch 32/50\n",
            "263/263 [==============================] - 1s 3ms/step - loss: 0.3876 - accuracy: 0.8166 - val_loss: 0.4563 - val_accuracy: 0.7894\n",
            "Epoch 33/50\n",
            "263/263 [==============================] - 1s 3ms/step - loss: 0.3858 - accuracy: 0.8160 - val_loss: 0.4589 - val_accuracy: 0.7922\n",
            "Epoch 34/50\n",
            "263/263 [==============================] - 1s 3ms/step - loss: 0.3845 - accuracy: 0.8169 - val_loss: 0.4724 - val_accuracy: 0.7907\n",
            "Epoch 35/50\n",
            "263/263 [==============================] - 1s 3ms/step - loss: 0.3848 - accuracy: 0.8169 - val_loss: 0.4748 - val_accuracy: 0.7889\n",
            "Epoch 36/50\n",
            "263/263 [==============================] - 1s 3ms/step - loss: 0.3831 - accuracy: 0.8190 - val_loss: 0.4706 - val_accuracy: 0.7894\n",
            "Epoch 37/50\n",
            "263/263 [==============================] - 1s 3ms/step - loss: 0.3818 - accuracy: 0.8178 - val_loss: 0.4813 - val_accuracy: 0.7936\n",
            "Epoch 38/50\n",
            "263/263 [==============================] - 1s 3ms/step - loss: 0.3749 - accuracy: 0.8219 - val_loss: 0.4877 - val_accuracy: 0.7901\n",
            "Epoch 39/50\n",
            "263/263 [==============================] - 1s 3ms/step - loss: 0.3771 - accuracy: 0.8199 - val_loss: 0.4768 - val_accuracy: 0.7886\n",
            "Epoch 40/50\n",
            "263/263 [==============================] - 1s 3ms/step - loss: 0.3739 - accuracy: 0.8231 - val_loss: 0.4824 - val_accuracy: 0.7870\n",
            "Epoch 41/50\n",
            "263/263 [==============================] - 1s 3ms/step - loss: 0.3736 - accuracy: 0.8217 - val_loss: 0.4734 - val_accuracy: 0.7877\n",
            "Epoch 42/50\n",
            "263/263 [==============================] - 1s 3ms/step - loss: 0.3743 - accuracy: 0.8230 - val_loss: 0.4896 - val_accuracy: 0.7866\n",
            "Epoch 43/50\n",
            "263/263 [==============================] - 1s 3ms/step - loss: 0.3746 - accuracy: 0.8204 - val_loss: 0.5018 - val_accuracy: 0.7851\n",
            "Epoch 44/50\n",
            "263/263 [==============================] - 1s 3ms/step - loss: 0.3661 - accuracy: 0.8266 - val_loss: 0.4929 - val_accuracy: 0.7891\n",
            "Epoch 45/50\n",
            "263/263 [==============================] - 1s 3ms/step - loss: 0.3693 - accuracy: 0.8249 - val_loss: 0.5020 - val_accuracy: 0.7903\n",
            "Epoch 46/50\n",
            "263/263 [==============================] - 1s 3ms/step - loss: 0.3687 - accuracy: 0.8247 - val_loss: 0.5241 - val_accuracy: 0.7858\n",
            "Epoch 47/50\n",
            "263/263 [==============================] - 1s 3ms/step - loss: 0.3663 - accuracy: 0.8259 - val_loss: 0.4878 - val_accuracy: 0.7890\n",
            "Epoch 48/50\n",
            "263/263 [==============================] - 1s 3ms/step - loss: 0.3665 - accuracy: 0.8247 - val_loss: 0.5088 - val_accuracy: 0.7858\n",
            "Epoch 49/50\n",
            "263/263 [==============================] - 1s 3ms/step - loss: 0.3677 - accuracy: 0.8249 - val_loss: 0.5186 - val_accuracy: 0.7867\n",
            "Epoch 50/50\n",
            "263/263 [==============================] - 1s 3ms/step - loss: 0.3646 - accuracy: 0.8254 - val_loss: 0.5353 - val_accuracy: 0.7866\n"
          ],
          "name": "stdout"
        },
        {
          "output_type": "execute_result",
          "data": {
            "text/plain": [
              "<tensorflow.python.keras.callbacks.History at 0x7ff5888b8bd0>"
            ]
          },
          "metadata": {
            "tags": []
          },
          "execution_count": 280
        }
      ]
    },
    {
      "cell_type": "code",
      "metadata": {
        "id": "ieOH_cJ-8Qfp"
      },
      "source": [
        "model.save(\"model.h5\")"
      ],
      "execution_count": null,
      "outputs": []
    },
    {
      "cell_type": "markdown",
      "metadata": {
        "id": "KN4PbzStEmSe"
      },
      "source": [
        "## Logistic Regression"
      ]
    },
    {
      "cell_type": "code",
      "metadata": {
        "colab": {
          "base_uri": "https://localhost:8080/"
        },
        "id": "hFVHseFuElfS",
        "outputId": "1e4be9b3-6a85-4a70-8792-a9638d324ae1"
      },
      "source": [
        "lr = LogisticRegression()\n",
        "lr.fit(X_train, y_train)\n",
        "lr.score(X_test, y_test)"
      ],
      "execution_count": null,
      "outputs": [
        {
          "output_type": "execute_result",
          "data": {
            "text/plain": [
              "0.5863305502033825"
            ]
          },
          "metadata": {
            "tags": []
          },
          "execution_count": 282
        }
      ]
    },
    {
      "cell_type": "markdown",
      "metadata": {
        "id": "TLo1H9qcEo7X"
      },
      "source": [
        "<a name=\"references\"></a>\n",
        "## Bibliografia e link utili\n",
        "1. [Correlation Coefficient: Simple Definition, Formula, Easy Steps](https://www.statisticshowto.com/probability-and-statistics/correlation-coefficient-formula/)\n",
        "2. [mutual_info_classif](https://scikit-learn.org/stable/modules/generated/sklearn.feature_selection.mutual_info_classif.html)\n",
        "3. [Precion e Recall](https://developers.google.com/machine-learning/crash-course/classification/precision-and-recall)\n",
        "4. [Tensorflow Callbacks Documentation](https://www.tensorflow.org/api_docs/python/tf/keras/callbacks/Callback)\n",
        " - [Tensorboard documentation](https://www.tensorflow.org/tensorboard)\n",
        " - [Hyperparameter Tuning with the HParams Dashboard](https://www.tensorflow.org/tensorboard/hyperparameter_tuning_with_hparams)\n",
        " - "
      ]
    },
    {
      "cell_type": "code",
      "metadata": {
        "id": "bsB877IkgcoU"
      },
      "source": [
        ""
      ],
      "execution_count": null,
      "outputs": []
    }
  ]
}