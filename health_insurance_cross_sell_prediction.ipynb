{
  "nbformat": 4,
  "nbformat_minor": 0,
  "metadata": {
    "colab": {
      "name": "health_insurance_cross_sell_prediction.ipynb",
      "provenance": [],
      "collapsed_sections": [
        "TLo1H9qcEo7X"
      ]
    },
    "kernelspec": {
      "name": "python3",
      "display_name": "Python 3"
    },
    "language_info": {
      "name": "python"
    },
    "accelerator": "GPU"
  },
  "cells": [
    {
      "cell_type": "markdown",
      "metadata": {
        "id": "nTEG8yW5DLIf"
      },
      "source": [
        "# Predizione di opportunità di Cross Sell di assicurazioni\n",
        "\n",
        "Il cliente è una compagnia di assicurazioni che ha fornito un'assicurazione sanitaria ai suoi clienti, adesso hanno bisogno del tuo aiuto per costruire un modello predittivo in grado di prevedere se gli assicurati dell'anno passato potrebbero essere interessati ad acquistare anche un'assicurazione per il proprio veicolo.\n",
        "\n",
        "Il dataset è composto dalle seguenti proprietà:\n",
        "- **id**: id univoco dell'acquirente.\n",
        "- **Gender**: sesso dell'acquirente.\n",
        "- **Age**: età dell'acquirente.\n",
        "- **Driving_License**: 1 se l'utente ha la patente di guida, 0 altrimenti.\n",
        "- **Region_Code**: codice univoco della regione dell'acquirente.\n",
        "- **Previously_Insured**: \n",
        "- **Vehicle_Age**: età del veicolo\n",
        "- **Vehicle_Damage**: 1 se l'utente ha danneggiato il veicolo in passato, 0 altrimenti.\n",
        "- **Annual_Premium**: la cifra che l'utente deve pagare come premio durante l'anno.\n",
        "- **Policy_Sales_Channel**: codice anonimizzato del canale utilizzato per la proposta (es. per email, per telefono, di persona, ecc...)\n",
        "- **Vintage**: numero di giorni dalla quale l'utente è cliente dell'azienda.\n",
        "- **Response**: 1 se l'acquirente ha risposto positivametne alla proposta di vendità, 0 altrimenti.\n",
        "\n",
        "L'obiettivo del modello è prevedere il valore di **Response** in base al valore delle altre proprietà"
      ]
    },
    {
      "cell_type": "markdown",
      "metadata": {
        "id": "RiBeqqy_KxCl"
      },
      "source": [
        "## Dipendenze"
      ]
    },
    {
      "cell_type": "code",
      "metadata": {
        "id": "yWgqUWkSKvsZ"
      },
      "source": [
        "import numpy as np\n",
        "import pandas as pd\n",
        "from sklearn.model_selection import train_test_split\n",
        "from sklearn.preprocessing import StandardScaler\n",
        "import tensorflow as tf\n",
        "from sklearn.feature_selection import mutual_info_classif\n",
        "from tensorboard.plugins.hparams import api as hp\n",
        "from tensorflow.keras.callbacks import Callback\n",
        "from tensorflow.keras.models import load_model\n",
        "import matplotlib.pyplot as plt\n",
        "from sklearn.metrics import confusion_matrix\n",
        "from sklearn.linear_model import LogisticRegression\n",
        "import seaborn as sns\n",
        "from datetime import datetime"
      ],
      "execution_count": null,
      "outputs": []
    },
    {
      "cell_type": "code",
      "metadata": {
        "id": "u0eejrg0OcJT"
      },
      "source": [
        "pd.set_option('display.max_rows', 300)\n",
        "plt.rcParams[\"figure.figsize\"] = (60,15)\n",
        "plt.rcParams['font.size'] = 14"
      ],
      "execution_count": null,
      "outputs": []
    },
    {
      "cell_type": "markdown",
      "metadata": {
        "id": "ONa2zi3BKnLM"
      },
      "source": [
        "## Scarichiamo il Dataset\n",
        "Il dataset è disponibile su Kaggle a [questo indirizzo](https://www.kaggle.com/anmolkumar/health-insurance-cross-sell-prediction). Per scaricarlo usiamo direttamente le API di Kaggle. Creiamo il file json di autenticazione con il nostro nome utente Kaggle e la chiave."
      ]
    },
    {
      "cell_type": "code",
      "metadata": {
        "id": "8IOtg-OrJHMp",
        "colab": {
          "base_uri": "https://localhost:8080/"
        },
        "outputId": "43016eee-062a-482f-f042-4f30278302f7"
      },
      "source": [
        "!mkdir ~/.kaggle/\n",
        "!echo '{\"username\":\"guizard\",\"key\":\"9b4890694553490c6c688d77c3048922\"}' > ~/.kaggle/kaggle.json\n",
        "!chmod 600 ~/.kaggle/kaggle.json"
      ],
      "execution_count": null,
      "outputs": [
        {
          "output_type": "stream",
          "text": [
            "mkdir: cannot create directory ‘/root/.kaggle/’: File exists\n"
          ],
          "name": "stdout"
        }
      ]
    },
    {
      "cell_type": "markdown",
      "metadata": {
        "id": "nmZnrE3HHQIu"
      },
      "source": [
        "Ora scarichiamo il dataset"
      ]
    },
    {
      "cell_type": "code",
      "metadata": {
        "colab": {
          "base_uri": "https://localhost:8080/"
        },
        "id": "vUIkqMDqItnJ",
        "outputId": "cc858c7e-1125-4e4d-a745-07a18f0794ce"
      },
      "source": [
        "!kaggle datasets download anmolkumar/health-insurance-cross-sell-prediction"
      ],
      "execution_count": null,
      "outputs": [
        {
          "output_type": "stream",
          "text": [
            "health-insurance-cross-sell-prediction.zip: Skipping, found more recently modified local copy (use --force to force download)\n"
          ],
          "name": "stdout"
        }
      ]
    },
    {
      "cell_type": "markdown",
      "metadata": {
        "id": "B9ddSmZhHS06"
      },
      "source": [
        "ed estraiamo lo zip scaricato"
      ]
    },
    {
      "cell_type": "code",
      "metadata": {
        "colab": {
          "base_uri": "https://localhost:8080/"
        },
        "id": "wr87jfP4o22a",
        "outputId": "50422297-e805-47ad-ffe2-ea41d2ac2dbb"
      },
      "source": [
        "!unzip health-insurance-cross-sell-prediction.zip\n",
        "!ls"
      ],
      "execution_count": null,
      "outputs": [
        {
          "output_type": "stream",
          "text": [
            "Archive:  health-insurance-cross-sell-prediction.zip\n",
            "replace sample_submission.csv? [y]es, [n]o, [A]ll, [N]one, [r]ename: health-insurance-cross-sell-prediction.zip  sample_submission.csv  train.csv\n",
            "sample_data\t\t\t\t    test.csv\n"
          ],
          "name": "stdout"
        }
      ]
    },
    {
      "cell_type": "markdown",
      "metadata": {
        "id": "Sz16UC3lKqBo"
      },
      "source": [
        "## Carichiamo il Dataset\n",
        "Per la creazione del nostro modello concentriamoci solo sul file train.csv. Carichiamolo dentro un dataframe di Pandas."
      ]
    },
    {
      "cell_type": "code",
      "metadata": {
        "colab": {
          "base_uri": "https://localhost:8080/",
          "height": 197
        },
        "id": "HnVpSJ-_Krcl",
        "outputId": "c366809a-f55b-4368-c2be-2c934143a312"
      },
      "source": [
        "df = pd.read_csv(\"train.csv\")\n",
        "df.head()"
      ],
      "execution_count": null,
      "outputs": [
        {
          "output_type": "execute_result",
          "data": {
            "text/html": [
              "<div>\n",
              "<style scoped>\n",
              "    .dataframe tbody tr th:only-of-type {\n",
              "        vertical-align: middle;\n",
              "    }\n",
              "\n",
              "    .dataframe tbody tr th {\n",
              "        vertical-align: top;\n",
              "    }\n",
              "\n",
              "    .dataframe thead th {\n",
              "        text-align: right;\n",
              "    }\n",
              "</style>\n",
              "<table border=\"1\" class=\"dataframe\">\n",
              "  <thead>\n",
              "    <tr style=\"text-align: right;\">\n",
              "      <th></th>\n",
              "      <th>id</th>\n",
              "      <th>Gender</th>\n",
              "      <th>Age</th>\n",
              "      <th>Driving_License</th>\n",
              "      <th>Region_Code</th>\n",
              "      <th>Previously_Insured</th>\n",
              "      <th>Vehicle_Age</th>\n",
              "      <th>Vehicle_Damage</th>\n",
              "      <th>Annual_Premium</th>\n",
              "      <th>Policy_Sales_Channel</th>\n",
              "      <th>Vintage</th>\n",
              "      <th>Response</th>\n",
              "    </tr>\n",
              "  </thead>\n",
              "  <tbody>\n",
              "    <tr>\n",
              "      <th>0</th>\n",
              "      <td>1</td>\n",
              "      <td>Male</td>\n",
              "      <td>44</td>\n",
              "      <td>1</td>\n",
              "      <td>28.0</td>\n",
              "      <td>0</td>\n",
              "      <td>&gt; 2 Years</td>\n",
              "      <td>Yes</td>\n",
              "      <td>40454.0</td>\n",
              "      <td>26.0</td>\n",
              "      <td>217</td>\n",
              "      <td>1</td>\n",
              "    </tr>\n",
              "    <tr>\n",
              "      <th>1</th>\n",
              "      <td>2</td>\n",
              "      <td>Male</td>\n",
              "      <td>76</td>\n",
              "      <td>1</td>\n",
              "      <td>3.0</td>\n",
              "      <td>0</td>\n",
              "      <td>1-2 Year</td>\n",
              "      <td>No</td>\n",
              "      <td>33536.0</td>\n",
              "      <td>26.0</td>\n",
              "      <td>183</td>\n",
              "      <td>0</td>\n",
              "    </tr>\n",
              "    <tr>\n",
              "      <th>2</th>\n",
              "      <td>3</td>\n",
              "      <td>Male</td>\n",
              "      <td>47</td>\n",
              "      <td>1</td>\n",
              "      <td>28.0</td>\n",
              "      <td>0</td>\n",
              "      <td>&gt; 2 Years</td>\n",
              "      <td>Yes</td>\n",
              "      <td>38294.0</td>\n",
              "      <td>26.0</td>\n",
              "      <td>27</td>\n",
              "      <td>1</td>\n",
              "    </tr>\n",
              "    <tr>\n",
              "      <th>3</th>\n",
              "      <td>4</td>\n",
              "      <td>Male</td>\n",
              "      <td>21</td>\n",
              "      <td>1</td>\n",
              "      <td>11.0</td>\n",
              "      <td>1</td>\n",
              "      <td>&lt; 1 Year</td>\n",
              "      <td>No</td>\n",
              "      <td>28619.0</td>\n",
              "      <td>152.0</td>\n",
              "      <td>203</td>\n",
              "      <td>0</td>\n",
              "    </tr>\n",
              "    <tr>\n",
              "      <th>4</th>\n",
              "      <td>5</td>\n",
              "      <td>Female</td>\n",
              "      <td>29</td>\n",
              "      <td>1</td>\n",
              "      <td>41.0</td>\n",
              "      <td>1</td>\n",
              "      <td>&lt; 1 Year</td>\n",
              "      <td>No</td>\n",
              "      <td>27496.0</td>\n",
              "      <td>152.0</td>\n",
              "      <td>39</td>\n",
              "      <td>0</td>\n",
              "    </tr>\n",
              "  </tbody>\n",
              "</table>\n",
              "</div>"
            ],
            "text/plain": [
              "   id  Gender  Age  ...  Policy_Sales_Channel  Vintage  Response\n",
              "0   1    Male   44  ...                  26.0      217         1\n",
              "1   2    Male   76  ...                  26.0      183         0\n",
              "2   3    Male   47  ...                  26.0       27         1\n",
              "3   4    Male   21  ...                 152.0      203         0\n",
              "4   5  Female   29  ...                 152.0       39         0\n",
              "\n",
              "[5 rows x 12 columns]"
            ]
          },
          "metadata": {
            "tags": []
          },
          "execution_count": 285
        }
      ]
    },
    {
      "cell_type": "markdown",
      "metadata": {
        "id": "GGTJw77r5ULC"
      },
      "source": [
        "## EDA Exploratory Data Analysis\n",
        "Diamo un'occhio ai dati ! Iniziamo vedendo quanti esempi abbiamo a disposizione."
      ]
    },
    {
      "cell_type": "code",
      "metadata": {
        "colab": {
          "base_uri": "https://localhost:8080/"
        },
        "id": "qbP6hb_BHt9-",
        "outputId": "ae5f489d-ba3f-4782-8b1a-871d7f20faeb"
      },
      "source": [
        "df.count()"
      ],
      "execution_count": null,
      "outputs": [
        {
          "output_type": "execute_result",
          "data": {
            "text/plain": [
              "id                      381109\n",
              "Gender                  381109\n",
              "Age                     381109\n",
              "Driving_License         381109\n",
              "Region_Code             381109\n",
              "Previously_Insured      381109\n",
              "Vehicle_Age             381109\n",
              "Vehicle_Damage          381109\n",
              "Annual_Premium          381109\n",
              "Policy_Sales_Channel    381109\n",
              "Vintage                 381109\n",
              "Response                381109\n",
              "dtype: int64"
            ]
          },
          "metadata": {
            "tags": []
          },
          "execution_count": 91
        }
      ]
    },
    {
      "cell_type": "markdown",
      "metadata": {
        "id": "w-shCsEpH1m-"
      },
      "source": [
        "Accipicchia un bel po' ! Ma saranno tutti dati validi ? Oppure ci saranno NaN e Null in mezzo ? Verifichiamolo."
      ]
    },
    {
      "cell_type": "code",
      "metadata": {
        "colab": {
          "base_uri": "https://localhost:8080/"
        },
        "id": "wbYSbD-9ICMy",
        "outputId": "4c8a5f15-21bc-4cd7-8842-77846b6fbad8"
      },
      "source": [
        "df.isna().sum()"
      ],
      "execution_count": null,
      "outputs": [
        {
          "output_type": "execute_result",
          "data": {
            "text/plain": [
              "id                      0\n",
              "Gender                  0\n",
              "Age                     0\n",
              "Driving_License         0\n",
              "Region_Code             0\n",
              "Previously_Insured      0\n",
              "Vehicle_Age             0\n",
              "Vehicle_Damage          0\n",
              "Annual_Premium          0\n",
              "Policy_Sales_Channel    0\n",
              "Vintage                 0\n",
              "Response                0\n",
              "dtype: int64"
            ]
          },
          "metadata": {
            "tags": []
          },
          "execution_count": 92
        }
      ]
    },
    {
      "cell_type": "code",
      "metadata": {
        "colab": {
          "base_uri": "https://localhost:8080/"
        },
        "id": "sBsWaqZH5Yn0",
        "outputId": "36dc9660-e8dc-471b-d789-e62f5b7bb86c"
      },
      "source": [
        "df.isnull().sum()"
      ],
      "execution_count": null,
      "outputs": [
        {
          "output_type": "execute_result",
          "data": {
            "text/plain": [
              "id                      0\n",
              "Gender                  0\n",
              "Age                     0\n",
              "Driving_License         0\n",
              "Region_Code             0\n",
              "Previously_Insured      0\n",
              "Vehicle_Age             0\n",
              "Vehicle_Damage          0\n",
              "Annual_Premium          0\n",
              "Policy_Sales_Channel    0\n",
              "Vintage                 0\n",
              "Response                0\n",
              "dtype: int64"
            ]
          },
          "metadata": {
            "tags": []
          },
          "execution_count": 93
        }
      ]
    },
    {
      "cell_type": "markdown",
      "metadata": {
        "id": "hB-oJ_rSIEoS"
      },
      "source": [
        "Nessun NaN e nessun Null, fantastico. Diamo uno sguardo al tipo delle diverse colonne."
      ]
    },
    {
      "cell_type": "code",
      "metadata": {
        "colab": {
          "base_uri": "https://localhost:8080/"
        },
        "id": "fr77JPZ7Jrl1",
        "outputId": "b11ae6e0-9662-4ca4-b0ba-9a2a1bdeff12"
      },
      "source": [
        "df.dtypes"
      ],
      "execution_count": null,
      "outputs": [
        {
          "output_type": "execute_result",
          "data": {
            "text/plain": [
              "id                        int64\n",
              "Gender                   object\n",
              "Age                       int64\n",
              "Driving_License           int64\n",
              "Region_Code             float64\n",
              "Previously_Insured        int64\n",
              "Vehicle_Age              object\n",
              "Vehicle_Damage           object\n",
              "Annual_Premium          float64\n",
              "Policy_Sales_Channel    float64\n",
              "Vintage                   int64\n",
              "Response                  int64\n",
              "dtype: object"
            ]
          },
          "metadata": {
            "tags": []
          },
          "execution_count": 94
        }
      ]
    },
    {
      "cell_type": "code",
      "metadata": {
        "colab": {
          "base_uri": "https://localhost:8080/"
        },
        "id": "oQOtm2XMJ5az",
        "outputId": "98fdfb6a-3862-45a7-b694-c31d6bf5396c"
      },
      "source": [
        "df[\"Region_Code\"].unique().shape[0]"
      ],
      "execution_count": null,
      "outputs": [
        {
          "output_type": "execute_result",
          "data": {
            "text/plain": [
              "53"
            ]
          },
          "metadata": {
            "tags": []
          },
          "execution_count": 95
        }
      ]
    },
    {
      "cell_type": "markdown",
      "metadata": {
        "id": "JkOcmlONBRgX"
      },
      "source": [
        "## Analisi delle variabili continue"
      ]
    },
    {
      "cell_type": "code",
      "metadata": {
        "id": "MSrr5NDa5rJz"
      },
      "source": [
        "numerical_columns = [\"Age\",\"Region_Code\", \"Annual_Premium\", \"Policy_Sales_Channel\", \"Vintage\"]"
      ],
      "execution_count": null,
      "outputs": []
    },
    {
      "cell_type": "code",
      "metadata": {
        "colab": {
          "base_uri": "https://localhost:8080/",
          "height": 287
        },
        "id": "Be9OZguD5y6Y",
        "outputId": "d5c900fd-4051-4665-903e-56b85ae114b0"
      },
      "source": [
        "df[numerical_columns].describe()"
      ],
      "execution_count": null,
      "outputs": [
        {
          "output_type": "execute_result",
          "data": {
            "text/html": [
              "<div>\n",
              "<style scoped>\n",
              "    .dataframe tbody tr th:only-of-type {\n",
              "        vertical-align: middle;\n",
              "    }\n",
              "\n",
              "    .dataframe tbody tr th {\n",
              "        vertical-align: top;\n",
              "    }\n",
              "\n",
              "    .dataframe thead th {\n",
              "        text-align: right;\n",
              "    }\n",
              "</style>\n",
              "<table border=\"1\" class=\"dataframe\">\n",
              "  <thead>\n",
              "    <tr style=\"text-align: right;\">\n",
              "      <th></th>\n",
              "      <th>Age</th>\n",
              "      <th>Region_Code</th>\n",
              "      <th>Annual_Premium</th>\n",
              "      <th>Policy_Sales_Channel</th>\n",
              "      <th>Vintage</th>\n",
              "    </tr>\n",
              "  </thead>\n",
              "  <tbody>\n",
              "    <tr>\n",
              "      <th>count</th>\n",
              "      <td>381109.000000</td>\n",
              "      <td>381109.000000</td>\n",
              "      <td>381109.000000</td>\n",
              "      <td>381109.000000</td>\n",
              "      <td>381109.000000</td>\n",
              "    </tr>\n",
              "    <tr>\n",
              "      <th>mean</th>\n",
              "      <td>38.822584</td>\n",
              "      <td>26.388807</td>\n",
              "      <td>30564.389581</td>\n",
              "      <td>112.034295</td>\n",
              "      <td>154.347397</td>\n",
              "    </tr>\n",
              "    <tr>\n",
              "      <th>std</th>\n",
              "      <td>15.511611</td>\n",
              "      <td>13.229888</td>\n",
              "      <td>17213.155057</td>\n",
              "      <td>54.203995</td>\n",
              "      <td>83.671304</td>\n",
              "    </tr>\n",
              "    <tr>\n",
              "      <th>min</th>\n",
              "      <td>20.000000</td>\n",
              "      <td>0.000000</td>\n",
              "      <td>2630.000000</td>\n",
              "      <td>1.000000</td>\n",
              "      <td>10.000000</td>\n",
              "    </tr>\n",
              "    <tr>\n",
              "      <th>25%</th>\n",
              "      <td>25.000000</td>\n",
              "      <td>15.000000</td>\n",
              "      <td>24405.000000</td>\n",
              "      <td>29.000000</td>\n",
              "      <td>82.000000</td>\n",
              "    </tr>\n",
              "    <tr>\n",
              "      <th>50%</th>\n",
              "      <td>36.000000</td>\n",
              "      <td>28.000000</td>\n",
              "      <td>31669.000000</td>\n",
              "      <td>133.000000</td>\n",
              "      <td>154.000000</td>\n",
              "    </tr>\n",
              "    <tr>\n",
              "      <th>75%</th>\n",
              "      <td>49.000000</td>\n",
              "      <td>35.000000</td>\n",
              "      <td>39400.000000</td>\n",
              "      <td>152.000000</td>\n",
              "      <td>227.000000</td>\n",
              "    </tr>\n",
              "    <tr>\n",
              "      <th>max</th>\n",
              "      <td>85.000000</td>\n",
              "      <td>52.000000</td>\n",
              "      <td>540165.000000</td>\n",
              "      <td>163.000000</td>\n",
              "      <td>299.000000</td>\n",
              "    </tr>\n",
              "  </tbody>\n",
              "</table>\n",
              "</div>"
            ],
            "text/plain": [
              "                 Age    Region_Code  ...  Policy_Sales_Channel        Vintage\n",
              "count  381109.000000  381109.000000  ...         381109.000000  381109.000000\n",
              "mean       38.822584      26.388807  ...            112.034295     154.347397\n",
              "std        15.511611      13.229888  ...             54.203995      83.671304\n",
              "min        20.000000       0.000000  ...              1.000000      10.000000\n",
              "25%        25.000000      15.000000  ...             29.000000      82.000000\n",
              "50%        36.000000      28.000000  ...            133.000000     154.000000\n",
              "75%        49.000000      35.000000  ...            152.000000     227.000000\n",
              "max        85.000000      52.000000  ...            163.000000     299.000000\n",
              "\n",
              "[8 rows x 5 columns]"
            ]
          },
          "metadata": {
            "tags": []
          },
          "execution_count": 97
        }
      ]
    },
    {
      "cell_type": "code",
      "metadata": {
        "colab": {
          "base_uri": "https://localhost:8080/",
          "height": 704
        },
        "id": "FZSaB0PLsojU",
        "outputId": "dcc1065d-9682-4d53-f841-296ea829bd91"
      },
      "source": [
        "plt.figure(figsize = (10,10))\n",
        "plt.title(\"Correlation Plot\")\n",
        "sns.heatmap(df.corr(), linewidth = 5, annot = True, square = True, annot_kws={'size': 10})"
      ],
      "execution_count": null,
      "outputs": [
        {
          "output_type": "execute_result",
          "data": {
            "text/plain": [
              "<matplotlib.axes._subplots.AxesSubplot at 0x7ff58c288610>"
            ]
          },
          "metadata": {
            "tags": []
          },
          "execution_count": 98
        },
        {
          "output_type": "display_data",
          "data": {
            "image/png": "[encoded data removed]",
            "text/plain": [
              "<Figure size 720x720 with 2 Axes>"
            ]
          },
          "metadata": {
            "tags": [],
            "needs_background": "light"
          }
        }
      ]
    },
    {
      "cell_type": "markdown",
      "metadata": {
        "id": "tlovF3XeBWwg"
      },
      "source": [
        "## Analisi delle variabili qualitative"
      ]
    },
    {
      "cell_type": "code",
      "metadata": {
        "id": "U4qUA0TjKSpu"
      },
      "source": [
        "categorical_columns = [\"Gender\",\"Driving_License\", 'Previously_Insured', 'Vehicle_Age', 'Vehicle_Damage']"
      ],
      "execution_count": null,
      "outputs": []
    },
    {
      "cell_type": "code",
      "metadata": {
        "colab": {
          "base_uri": "https://localhost:8080/",
          "height": 608
        },
        "id": "WWF4QjlV59oj",
        "outputId": "7ff1f954-465d-40a6-9135-85380991c95e"
      },
      "source": [
        "plt.rcParams['font.size'] = 14\n",
        "\n",
        "fig = plt.figure()\n",
        "#fig.set_size_inches(30, 10)\n",
        "\n",
        "ncols = 3\n",
        "nrows = round(len(categorical_columns)/ncols)\n",
        "\n",
        "for i, column in enumerate(categorical_columns):\n",
        "\n",
        "  plot = fig.add_subplot(nrows, ncols, i+1)\n",
        "\n",
        "  df_uniqdist = df[column].value_counts()\n",
        "\n",
        "  plot.pie(df_uniqdist.values, \n",
        "          labels=df_uniqdist.index.values, \n",
        "          autopct='%1.1f%%',\n",
        "          startangle=90)\n",
        "  \n",
        "  plot.title.set_text(column+\" values distribution\")\n",
        "  plot.axis('equal')\n",
        "\n",
        "  ttl = plot.title\n",
        "  ttl.set_position([.5, 1.06])\n",
        "\n",
        "\n",
        "plt.show()"
      ],
      "execution_count": null,
      "outputs": [
        {
          "output_type": "display_data",
          "data": {
            "image/png": "[encoded data removed]",
            "text/plain": [
              "<Figure size 2160x720 with 5 Axes>"
            ]
          },
          "metadata": {
            "tags": []
          }
        }
      ]
    },
    {
      "cell_type": "code",
      "metadata": {
        "colab": {
          "base_uri": "https://localhost:8080/",
          "height": 197
        },
        "id": "Nc3vvjrgtxaq",
        "outputId": "c249762c-aa8a-415f-ea27-341c53827014"
      },
      "source": [
        "df.head()"
      ],
      "execution_count": null,
      "outputs": [
        {
          "output_type": "execute_result",
          "data": {
            "text/html": [
              "<div>\n",
              "<style scoped>\n",
              "    .dataframe tbody tr th:only-of-type {\n",
              "        vertical-align: middle;\n",
              "    }\n",
              "\n",
              "    .dataframe tbody tr th {\n",
              "        vertical-align: top;\n",
              "    }\n",
              "\n",
              "    .dataframe thead th {\n",
              "        text-align: right;\n",
              "    }\n",
              "</style>\n",
              "<table border=\"1\" class=\"dataframe\">\n",
              "  <thead>\n",
              "    <tr style=\"text-align: right;\">\n",
              "      <th></th>\n",
              "      <th>id</th>\n",
              "      <th>Gender</th>\n",
              "      <th>Age</th>\n",
              "      <th>Driving_License</th>\n",
              "      <th>Region_Code</th>\n",
              "      <th>Previously_Insured</th>\n",
              "      <th>Vehicle_Age</th>\n",
              "      <th>Vehicle_Damage</th>\n",
              "      <th>Annual_Premium</th>\n",
              "      <th>Policy_Sales_Channel</th>\n",
              "      <th>Vintage</th>\n",
              "      <th>Response</th>\n",
              "    </tr>\n",
              "  </thead>\n",
              "  <tbody>\n",
              "    <tr>\n",
              "      <th>0</th>\n",
              "      <td>1</td>\n",
              "      <td>Male</td>\n",
              "      <td>44</td>\n",
              "      <td>1</td>\n",
              "      <td>28.0</td>\n",
              "      <td>0</td>\n",
              "      <td>&gt; 2 Years</td>\n",
              "      <td>Yes</td>\n",
              "      <td>40454.0</td>\n",
              "      <td>26.0</td>\n",
              "      <td>217</td>\n",
              "      <td>1</td>\n",
              "    </tr>\n",
              "    <tr>\n",
              "      <th>1</th>\n",
              "      <td>2</td>\n",
              "      <td>Male</td>\n",
              "      <td>76</td>\n",
              "      <td>1</td>\n",
              "      <td>3.0</td>\n",
              "      <td>0</td>\n",
              "      <td>1-2 Year</td>\n",
              "      <td>No</td>\n",
              "      <td>33536.0</td>\n",
              "      <td>26.0</td>\n",
              "      <td>183</td>\n",
              "      <td>0</td>\n",
              "    </tr>\n",
              "    <tr>\n",
              "      <th>2</th>\n",
              "      <td>3</td>\n",
              "      <td>Male</td>\n",
              "      <td>47</td>\n",
              "      <td>1</td>\n",
              "      <td>28.0</td>\n",
              "      <td>0</td>\n",
              "      <td>&gt; 2 Years</td>\n",
              "      <td>Yes</td>\n",
              "      <td>38294.0</td>\n",
              "      <td>26.0</td>\n",
              "      <td>27</td>\n",
              "      <td>1</td>\n",
              "    </tr>\n",
              "    <tr>\n",
              "      <th>3</th>\n",
              "      <td>4</td>\n",
              "      <td>Male</td>\n",
              "      <td>21</td>\n",
              "      <td>1</td>\n",
              "      <td>11.0</td>\n",
              "      <td>1</td>\n",
              "      <td>&lt; 1 Year</td>\n",
              "      <td>No</td>\n",
              "      <td>28619.0</td>\n",
              "      <td>152.0</td>\n",
              "      <td>203</td>\n",
              "      <td>0</td>\n",
              "    </tr>\n",
              "    <tr>\n",
              "      <th>4</th>\n",
              "      <td>5</td>\n",
              "      <td>Female</td>\n",
              "      <td>29</td>\n",
              "      <td>1</td>\n",
              "      <td>41.0</td>\n",
              "      <td>1</td>\n",
              "      <td>&lt; 1 Year</td>\n",
              "      <td>No</td>\n",
              "      <td>27496.0</td>\n",
              "      <td>152.0</td>\n",
              "      <td>39</td>\n",
              "      <td>0</td>\n",
              "    </tr>\n",
              "  </tbody>\n",
              "</table>\n",
              "</div>"
            ],
            "text/plain": [
              "   id  Gender  Age  ...  Policy_Sales_Channel  Vintage  Response\n",
              "0   1    Male   44  ...                  26.0      217         1\n",
              "1   2    Male   76  ...                  26.0      183         0\n",
              "2   3    Male   47  ...                  26.0       27         1\n",
              "3   4    Male   21  ...                 152.0      203         0\n",
              "4   5  Female   29  ...                 152.0       39         0\n",
              "\n",
              "[5 rows x 12 columns]"
            ]
          },
          "metadata": {
            "tags": []
          },
          "execution_count": 101
        }
      ]
    },
    {
      "cell_type": "code",
      "metadata": {
        "colab": {
          "base_uri": "https://localhost:8080/",
          "height": 600
        },
        "id": "8R50SSNrtC0s",
        "outputId": "8d839b26-a0ea-4200-e9a7-453df5dd004a"
      },
      "source": [
        "fig = plt.figure()\n",
        "#fig.set_size_inches(30, 10)\n",
        "\n",
        "df_count = df.copy()\n",
        "df_count[\"count\"] = 1\n",
        "\n",
        "for i, column in enumerate(categorical_columns):\n",
        "\n",
        "  plot = fig.add_subplot(nrows, ncols, i+1)\n",
        "  df_tmp = df_count.groupby([column,\"Response\"]).count()[\"count\"].to_frame().reset_index()\n",
        "  \n",
        "  plot.pie(df_tmp[df_tmp[\"Response\"]==1][\"count\"].values, \n",
        "        labels=df_tmp[column].unique(), \n",
        "        autopct='%1.1f%%',\n",
        "        startangle=90)\n",
        "  \n",
        "  plot.title.set_text(column)\n",
        "  plot.axis('equal')\n",
        "\n",
        "plt.show()"
      ],
      "execution_count": null,
      "outputs": [
        {
          "output_type": "display_data",
          "data": {
            "image/png": "[encoded data removed]",
            "text/plain": [
              "<Figure size 2160x720 with 5 Axes>"
            ]
          },
          "metadata": {
            "tags": []
          }
        }
      ]
    },
    {
      "cell_type": "markdown",
      "metadata": {
        "id": "4fgYo1VqMpek"
      },
      "source": [
        "## Approfondiamo Region Code e Policy Sales Channel"
      ]
    },
    {
      "cell_type": "code",
      "metadata": {
        "colab": {
          "base_uri": "https://localhost:8080/",
          "height": 1000
        },
        "id": "MiTnzxiNO9ga",
        "outputId": "f3548e54-df9f-4535-92e3-0e44d5cded68"
      },
      "source": [
        "def plot_categorical_distribution(df, column, title=None, label=None, ticksize=12, print_first=None):\n",
        "\n",
        "  serie_uniqdist = df[column].value_counts(sort=False)\n",
        "  labels = serie_uniqdist.index.values\n",
        "  y_pos = np.arange(len(labels))\n",
        "\n",
        "  plt.bar(y_pos, serie_uniqdist.values)\n",
        "  plt.xticks(y_pos, labels, fontsize=ticksize)\n",
        "  plt.ylabel(label)\n",
        "  plt.title(title)\n",
        "  plt.show()\n",
        "\n",
        "  if print_first:\n",
        "    total = serie_uniqdist.sum()\n",
        "    serie_uniqdist = serie_uniqdist.sort_values(ascending=False)\n",
        "    serie_percentage = serie_uniqdist/total\n",
        "    print(pd.concat([serie_uniqdist, serie_percentage], axis=1).head(print_first))\n",
        "\n",
        "\n",
        "plot_categorical_distribution(df, \"Region_Code\", title=\"Region Code distribution\", label=\"Region code\", ticksize=8, print_first=300)\n",
        "plot_categorical_distribution(df, \"Policy_Sales_Channel\", title=\"Sales Channel distribution\", label=\"Sale Channel\", ticksize=9, print_first=300)"
      ],
      "execution_count": null,
      "outputs": [
        {
          "output_type": "display_data",
          "data": {
            "image/png": "[encoded data removed]",
            "text/plain": [
              "<Figure size 4320x1080 with 1 Axes>"
            ]
          },
          "metadata": {
            "tags": [],
            "needs_background": "light"
          }
        },
        {
          "output_type": "stream",
          "text": [
            "      Region_Code  Region_Code\n",
            "28.0       106415     0.279225\n",
            "8.0         33877     0.088891\n",
            "46.0        19749     0.051820\n",
            "41.0        18263     0.047921\n",
            "15.0        13308     0.034919\n",
            "30.0        12191     0.031988\n",
            "29.0        11065     0.029034\n",
            "50.0        10243     0.026877\n",
            "3.0          9251     0.024274\n",
            "11.0         9232     0.024224\n",
            "36.0         8797     0.023083\n",
            "33.0         7654     0.020083\n",
            "47.0         7436     0.019511\n",
            "35.0         6942     0.018215\n",
            "6.0          6280     0.016478\n",
            "45.0         5605     0.014707\n",
            "37.0         5501     0.014434\n",
            "18.0         5153     0.013521\n",
            "48.0         4681     0.012283\n",
            "14.0         4678     0.012275\n",
            "39.0         4644     0.012185\n",
            "10.0         4374     0.011477\n",
            "21.0         4266     0.011194\n",
            "2.0          4038     0.010595\n",
            "13.0         4036     0.010590\n",
            "7.0          3279     0.008604\n",
            "12.0         3198     0.008391\n",
            "9.0          3101     0.008137\n",
            "27.0         2823     0.007407\n",
            "32.0         2787     0.007313\n",
            "43.0         2639     0.006925\n",
            "17.0         2617     0.006867\n",
            "26.0         2587     0.006788\n",
            "25.0         2503     0.006568\n",
            "24.0         2415     0.006337\n",
            "38.0         2026     0.005316\n",
            "0.0          2021     0.005303\n",
            "16.0         2007     0.005266\n",
            "31.0         1960     0.005143\n",
            "23.0         1960     0.005143\n",
            "20.0         1935     0.005077\n",
            "49.0         1832     0.004807\n",
            "4.0          1801     0.004726\n",
            "34.0         1664     0.004366\n",
            "19.0         1535     0.004028\n",
            "22.0         1309     0.003435\n",
            "40.0         1295     0.003398\n",
            "5.0          1279     0.003356\n",
            "1.0          1008     0.002645\n",
            "44.0          808     0.002120\n",
            "42.0          591     0.001551\n",
            "52.0          267     0.000701\n",
            "51.0          183     0.000480\n"
          ],
          "name": "stdout"
        },
        {
          "output_type": "display_data",
          "data": {
            "image/png": "[encoded data removed]",
            "text/plain": [
              "<Figure size 4320x1080 with 1 Axes>"
            ]
          },
          "metadata": {
            "tags": [],
            "needs_background": "light"
          }
        },
        {
          "output_type": "stream",
          "text": [
            "       Policy_Sales_Channel  Policy_Sales_Channel\n",
            "152.0                134784              0.353663\n",
            "26.0                  79700              0.209127\n",
            "124.0                 73995              0.194157\n",
            "160.0                 21779              0.057146\n",
            "156.0                 10661              0.027974\n",
            "122.0                  9930              0.026056\n",
            "157.0                  6684              0.017538\n",
            "154.0                  5993              0.015725\n",
            "151.0                  3885              0.010194\n",
            "163.0                  2893              0.007591\n",
            "13.0                   1865              0.004894\n",
            "25.0                   1848              0.004849\n",
            "7.0                    1598              0.004193\n",
            "8.0                    1515              0.003975\n",
            "30.0                   1410              0.003700\n",
            "55.0                   1264              0.003317\n",
            "155.0                  1234              0.003238\n",
            "11.0                   1203              0.003157\n",
            "1.0                    1074              0.002818\n",
            "52.0                   1055              0.002768\n",
            "125.0                  1026              0.002692\n",
            "15.0                    888              0.002330\n",
            "29.0                    843              0.002212\n",
            "12.0                    783              0.002055\n",
            "120.0                   769              0.002018\n",
            "24.0                    750              0.001968\n",
            "31.0                    631              0.001656\n",
            "14.0                    622              0.001632\n",
            "153.0                   607              0.001593\n",
            "61.0                    579              0.001519\n",
            "16.0                    523              0.001372\n",
            "3.0                     523              0.001372\n",
            "60.0                    517              0.001357\n",
            "4.0                     509              0.001336\n",
            "158.0                   492              0.001291\n",
            "23.0                    422              0.001107\n",
            "22.0                    332              0.000871\n",
            "150.0                   312              0.000819\n",
            "10.0                    264              0.000693\n",
            "19.0                    222              0.000583\n",
            "136.0                   185              0.000485\n",
            "147.0                   184              0.000483\n",
            "109.0                   175              0.000459\n",
            "145.0                   174              0.000457\n",
            "9.0                     169              0.000443\n",
            "18.0                    167              0.000438\n",
            "91.0                    158              0.000415\n",
            "116.0                   154              0.000404\n",
            "37.0                    152              0.000399\n",
            "21.0                    148              0.000388\n",
            "139.0                   143              0.000375\n",
            "128.0                   137              0.000359\n",
            "42.0                    132              0.000346\n",
            "59.0                    127              0.000333\n",
            "138.0                   124              0.000325\n",
            "131.0                   121              0.000317\n",
            "127.0                   110              0.000289\n",
            "140.0                   107              0.000281\n",
            "113.0                   104              0.000273\n",
            "119.0                   103              0.000270\n",
            "44.0                    101              0.000265\n",
            "135.0                   101              0.000265\n",
            "54.0                    100              0.000262\n",
            "64.0                     89              0.000234\n",
            "133.0                    85              0.000223\n",
            "148.0                    77              0.000202\n",
            "35.0                     75              0.000197\n",
            "103.0                    72              0.000189\n",
            "111.0                    68              0.000178\n",
            "56.0                     65              0.000171\n",
            "121.0                    64              0.000168\n",
            "47.0                     63              0.000165\n",
            "132.0                    62              0.000163\n",
            "65.0                     59              0.000155\n",
            "107.0                    54              0.000142\n",
            "36.0                     52              0.000136\n",
            "106.0                    52              0.000136\n",
            "159.0                    51              0.000134\n",
            "86.0                     48              0.000126\n",
            "45.0                     47              0.000123\n",
            "94.0                     46              0.000121\n",
            "129.0                    44              0.000115\n",
            "108.0                    38              0.000100\n",
            "88.0                     34              0.000089\n",
            "53.0                     32              0.000084\n",
            "93.0                     28              0.000073\n",
            "20.0                     27              0.000071\n",
            "90.0                     26              0.000068\n",
            "92.0                     24              0.000063\n",
            "78.0                     23              0.000060\n",
            "114.0                    23              0.000060\n",
            "130.0                    22              0.000058\n",
            "98.0                     21              0.000055\n",
            "32.0                     21              0.000055\n",
            "48.0                     20              0.000052\n",
            "63.0                     19              0.000050\n",
            "66.0                     18              0.000047\n",
            "118.0                    18              0.000047\n",
            "96.0                     16              0.000042\n",
            "46.0                     16              0.000042\n",
            "146.0                    16              0.000042\n",
            "17.0                     16              0.000042\n",
            "40.0                     15              0.000039\n",
            "80.0                     14              0.000037\n",
            "49.0                     14              0.000037\n",
            "81.0                     14              0.000037\n",
            "89.0                     14              0.000037\n",
            "73.0                     13              0.000034\n",
            "97.0                     13              0.000034\n",
            "51.0                     12              0.000031\n",
            "110.0                    11              0.000029\n",
            "134.0                    10              0.000026\n",
            "39.0                     10              0.000026\n",
            "38.0                     10              0.000026\n",
            "95.0                      9              0.000024\n",
            "58.0                      9              0.000024\n",
            "137.0                     8              0.000021\n",
            "100.0                     8              0.000021\n",
            "117.0                     7              0.000018\n",
            "101.0                     7              0.000018\n",
            "99.0                      7              0.000018\n",
            "87.0                      7              0.000018\n",
            "62.0                      6              0.000016\n",
            "69.0                      6              0.000016\n",
            "79.0                      6              0.000016\n",
            "57.0                      5              0.000013\n",
            "126.0                     5              0.000013\n",
            "71.0                      5              0.000013\n",
            "104.0                     5              0.000013\n",
            "82.0                      4              0.000010\n",
            "2.0                       4              0.000010\n",
            "76.0                      4              0.000010\n",
            "67.0                      4              0.000010\n",
            "115.0                     4              0.000010\n",
            "68.0                      4              0.000010\n",
            "83.0                      4              0.000010\n",
            "70.0                      4              0.000010\n",
            "6.0                       3              0.000008\n",
            "34.0                      3              0.000008\n",
            "105.0                     3              0.000008\n",
            "27.0                      3              0.000008\n",
            "33.0                      3              0.000008\n",
            "102.0                     3              0.000008\n",
            "28.0                      3              0.000008\n",
            "50.0                      2              0.000005\n",
            "112.0                     2              0.000005\n",
            "74.0                      2              0.000005\n",
            "75.0                      2              0.000005\n",
            "41.0                      1              0.000003\n",
            "123.0                     1              0.000003\n",
            "144.0                     1              0.000003\n",
            "149.0                     1              0.000003\n",
            "84.0                      1              0.000003\n",
            "143.0                     1              0.000003\n",
            "43.0                      1              0.000003\n"
          ],
          "name": "stdout"
        }
      ]
    },
    {
      "cell_type": "code",
      "metadata": {
        "colab": {
          "base_uri": "https://localhost:8080/",
          "height": 1000
        },
        "id": "Vk_ZcQoAXYSd",
        "outputId": "2b638bf6-441d-4553-9021-6409af163c90"
      },
      "source": [
        "def plot_categorical_correlation(df, column, target, title=None, label=None, ticksize=12, print_first=None):\n",
        "\n",
        "  df_tmp = df[[column, target]].copy()\n",
        "\n",
        "  df_tmp = df_tmp.groupby([column])\n",
        "  df_sum = df_tmp.sum()\n",
        "  df_count = df_tmp.count()\n",
        "\n",
        "  df_count[\"Percentage\"] = df_sum[\"Response\"]/df_count[\"Response\"]\n",
        "\n",
        "  values = df_count[\"Response\"].values\n",
        "  labels = df_count.index.values\n",
        "  y_pos = np.arange(len(labels))\n",
        "\n",
        "  plt.bar(y_pos, values)\n",
        "  plt.xticks(y_pos, labels, fontsize=ticksize)\n",
        "  plt.ylabel(label)\n",
        "  plt.title(title)\n",
        "  plt.show()\n",
        "\n",
        "  if print_first:\n",
        "    print(df_count.sort_values(\"Response\", ascending=False).head(print_first))\n",
        "\n",
        "  \n",
        "plot_categorical_correlation(df, \"Region_Code\", \"Response\", title=\"Region Code distribution\", label=\"Region code\", ticksize=8, print_first=200)\n",
        "plot_categorical_correlation(df, \"Policy_Sales_Channel\", \"Response\", title=\"Sales Channel distribution\", label=\"Sale Channel\", ticksize=6, print_first=200)"
      ],
      "execution_count": null,
      "outputs": [
        {
          "output_type": "display_data",
          "data": {
            "image/png": "[encoded data removed]",
            "text/plain": [
              "<Figure size 4320x1080 with 1 Axes>"
            ]
          },
          "metadata": {
            "tags": [],
            "needs_background": "light"
          }
        },
        {
          "output_type": "stream",
          "text": [
            "             Response  Percentage\n",
            "Region_Code                      \n",
            "28.0           106415    0.187163\n",
            "8.0             33877    0.096142\n",
            "46.0            19749    0.102891\n",
            "41.0            18263    0.121776\n",
            "15.0            13308    0.071987\n",
            "30.0            12191    0.073825\n",
            "29.0            11065    0.123362\n",
            "50.0            10243    0.062677\n",
            "3.0              9251    0.127662\n",
            "11.0             9232    0.112760\n",
            "36.0             8797    0.079914\n",
            "33.0             7654    0.099294\n",
            "47.0             7436    0.087682\n",
            "35.0             6942    0.124604\n",
            "6.0              6280    0.069904\n",
            "45.0             5605    0.109723\n",
            "37.0             5501    0.079258\n",
            "18.0             5153    0.131574\n",
            "48.0             4681    0.101901\n",
            "14.0             4678    0.090209\n",
            "39.0             4644    0.123600\n",
            "10.0             4374    0.060128\n",
            "21.0             4266    0.071027\n",
            "2.0              4038    0.071075\n",
            "13.0             4036    0.090188\n",
            "7.0              3279    0.131747\n",
            "12.0             3198    0.097561\n",
            "9.0              3101    0.081587\n",
            "27.0             2823    0.074035\n",
            "32.0             2787    0.085755\n",
            "43.0             2639    0.092459\n",
            "17.0             2617    0.070310\n",
            "26.0             2587    0.072284\n",
            "25.0             2503    0.042749\n",
            "24.0             2415    0.141615\n",
            "38.0             2026    0.192004\n",
            "0.0              2021    0.086096\n",
            "16.0             2007    0.066766\n",
            "31.0             1960    0.100510\n",
            "23.0             1960    0.153061\n",
            "20.0             1935    0.115245\n",
            "49.0             1832    0.074782\n",
            "4.0              1801    0.158245\n",
            "34.0             1664    0.075721\n",
            "19.0             1535    0.162866\n",
            "22.0             1309    0.063407\n",
            "40.0             1295    0.118147\n",
            "5.0              1279    0.115715\n",
            "1.0              1008    0.108135\n",
            "44.0              808    0.040842\n",
            "42.0              591    0.074450\n",
            "52.0              267    0.123596\n",
            "51.0              183    0.153005\n"
          ],
          "name": "stdout"
        },
        {
          "output_type": "display_data",
          "data": {
            "image/png": "[encoded data removed]",
            "text/plain": [
              "<Figure size 4320x1080 with 1 Axes>"
            ]
          },
          "metadata": {
            "tags": [],
            "needs_background": "light"
          }
        },
        {
          "output_type": "stream",
          "text": [
            "                      Response  Percentage\n",
            "Policy_Sales_Channel                      \n",
            "152.0                   134784    0.028624\n",
            "26.0                     79700    0.199385\n",
            "124.0                    73995    0.189148\n",
            "160.0                    21779    0.021810\n",
            "156.0                    10661    0.215458\n",
            "122.0                     9930    0.173212\n",
            "157.0                     6684    0.268402\n",
            "154.0                     5993    0.245954\n",
            "151.0                     3885    0.031403\n",
            "163.0                     2893    0.304183\n",
            "13.0                      1865    0.147453\n",
            "25.0                      1848    0.199675\n",
            "7.0                       1598    0.113892\n",
            "8.0                       1515    0.082508\n",
            "30.0                      1410    0.110638\n",
            "55.0                      1264    0.149525\n",
            "155.0                     1234    0.320097\n",
            "11.0                      1203    0.089776\n",
            "1.0                       1074    0.032588\n",
            "52.0                      1055    0.109005\n",
            "125.0                     1026    0.123782\n",
            "15.0                       888    0.087838\n",
            "29.0                       843    0.125741\n",
            "12.0                       783    0.168582\n",
            "120.0                      769    0.084525\n",
            "24.0                       750    0.132000\n",
            "31.0                       631    0.253566\n",
            "14.0                       622    0.101286\n",
            "153.0                      607    0.059308\n",
            "61.0                       579    0.096718\n",
            "3.0                        523    0.304015\n",
            "16.0                       523    0.086042\n",
            "60.0                       517    0.102515\n",
            "4.0                        509    0.200393\n",
            "158.0                      492    0.274390\n",
            "23.0                       422    0.137441\n",
            "22.0                       332    0.054217\n",
            "150.0                      312    0.243590\n",
            "10.0                       264    0.189394\n",
            "19.0                       222    0.085586\n",
            "136.0                      185    0.216216\n",
            "147.0                      184    0.184783\n",
            "109.0                      175    0.120000\n",
            "145.0                      174    0.132184\n",
            "9.0                        169    0.100592\n",
            "18.0                       167    0.035928\n",
            "91.0                       158    0.183544\n",
            "116.0                      154    0.116883\n",
            "37.0                       152    0.098684\n",
            "21.0                       148    0.081081\n",
            "139.0                      143    0.090909\n",
            "128.0                      137    0.094891\n",
            "42.0                       132    0.196970\n",
            "59.0                       127    0.196850\n",
            "138.0                      124    0.096774\n",
            "131.0                      121    0.115702\n",
            "127.0                      110    0.072727\n",
            "140.0                      107    0.065421\n",
            "113.0                      104    0.067308\n",
            "119.0                      103    0.048544\n",
            "135.0                      101    0.089109\n",
            "44.0                       101    0.198020\n",
            "54.0                       100    0.160000\n",
            "64.0                        89    0.056180\n",
            "133.0                       85    0.047059\n",
            "148.0                       77    0.103896\n",
            "35.0                        75    0.133333\n",
            "103.0                       72    0.125000\n",
            "111.0                       68    0.132353\n",
            "56.0                        65    0.184615\n",
            "121.0                       64    0.296875\n",
            "47.0                        63    0.126984\n",
            "132.0                       62    0.064516\n",
            "65.0                        59    0.067797\n",
            "107.0                       54    0.037037\n",
            "106.0                       52    0.230769\n",
            "36.0                        52    0.326923\n",
            "159.0                       51    0.019608\n",
            "86.0                        48    0.125000\n",
            "45.0                        47    0.148936\n",
            "94.0                        46    0.195652\n",
            "129.0                       44    0.068182\n",
            "108.0                       38    0.026316\n",
            "88.0                        34    0.058824\n",
            "53.0                        32    0.218750\n",
            "93.0                        28    0.107143\n",
            "20.0                        27    0.111111\n",
            "90.0                        26    0.269231\n",
            "92.0                        24    0.125000\n",
            "114.0                       23    0.130435\n",
            "78.0                        23    0.130435\n",
            "130.0                       22    0.090909\n",
            "32.0                        21    0.095238\n",
            "98.0                        21    0.047619\n",
            "48.0                        20    0.050000\n",
            "63.0                        19    0.052632\n",
            "118.0                       18    0.000000\n",
            "66.0                        18    0.055556\n",
            "17.0                        16    0.187500\n",
            "146.0                       16    0.000000\n",
            "46.0                        16    0.000000\n",
            "96.0                        16    0.000000\n",
            "40.0                        15    0.133333\n",
            "49.0                        14    0.142857\n",
            "80.0                        14    0.285714\n",
            "89.0                        14    0.142857\n",
            "81.0                        14    0.285714\n",
            "97.0                        13    0.076923\n",
            "73.0                        13    0.076923\n",
            "51.0                        12    0.083333\n",
            "110.0                       11    0.090909\n",
            "134.0                       10    0.000000\n",
            "38.0                        10    0.000000\n",
            "39.0                        10    0.100000\n",
            "58.0                         9    0.111111\n",
            "95.0                         9    0.000000\n",
            "100.0                        8    0.250000\n",
            "137.0                        8    0.000000\n",
            "101.0                        7    0.285714\n",
            "87.0                         7    0.285714\n",
            "99.0                         7    0.000000\n",
            "117.0                        7    0.000000\n",
            "62.0                         6    0.166667\n",
            "79.0                         6    0.000000\n",
            "69.0                         6    0.166667\n",
            "104.0                        5    0.000000\n",
            "57.0                         5    0.200000\n",
            "126.0                        5    0.000000\n",
            "71.0                         5    0.000000\n",
            "82.0                         4    0.000000\n",
            "83.0                         4    0.000000\n",
            "67.0                         4    0.000000\n",
            "68.0                         4    0.250000\n",
            "70.0                         4    0.000000\n",
            "76.0                         4    0.000000\n",
            "2.0                          4    0.250000\n",
            "115.0                        4    0.000000\n",
            "6.0                          3    0.000000\n",
            "34.0                         3    0.000000\n",
            "105.0                        3    0.000000\n",
            "102.0                        3    0.000000\n",
            "33.0                         3    0.000000\n",
            "28.0                         3    0.333333\n",
            "27.0                         3    0.333333\n",
            "75.0                         2    0.000000\n",
            "74.0                         2    0.000000\n",
            "50.0                         2    0.000000\n",
            "112.0                        2    0.000000\n",
            "41.0                         1    0.000000\n",
            "43.0                         1    1.000000\n",
            "149.0                        1    0.000000\n",
            "84.0                         1    0.000000\n",
            "123.0                        1    1.000000\n",
            "144.0                        1    0.000000\n",
            "143.0                        1    0.000000\n"
          ],
          "name": "stdout"
        }
      ]
    },
    {
      "cell_type": "markdown",
      "metadata": {
        "id": "5RD0v3WK5rrC"
      },
      "source": [
        "## Analisi del target"
      ]
    },
    {
      "cell_type": "code",
      "metadata": {
        "id": "7pefCpSDBfHP"
      },
      "source": [
        "fig, axis = plt.subplots(1, 2, figsize = (14, 5))\n",
        "\n",
        "df_uniqdist = df[\"Response\"].value_counts()\n",
        "y_pos = np.arange(len(df_uniqdist.index.values))\n",
        "\n",
        "axis[0].bar(y_pos, df_uniqdist.values, align='center', alpha=0.5)\n",
        "axis[0].set_xticks(y_pos)\n",
        "axis[0].set_xticklabels((\"Rejected (0)\",\"Accepted (1)\"))\n",
        "axis[0].set_ylabel('Count')\n",
        "axis[0].set_title('Clients response Count')\n",
        "\n",
        "axis[1].pie(df_uniqdist.values, \n",
        "          labels=df_uniqdist.index.values, \n",
        "          autopct='%1.1f%%',\n",
        "          startangle=90)\n",
        "\n",
        "axis[1].set_title('Clients response Distribution')\n",
        "\n",
        "plt.show()"
      ],
      "execution_count": null,
      "outputs": []
    },
    {
      "cell_type": "markdown",
      "metadata": {
        "id": "Jq1iXSCDGXeF"
      },
      "source": [
        "## Feature Engineering"
      ]
    },
    {
      "cell_type": "code",
      "metadata": {
        "colab": {
          "base_uri": "https://localhost:8080/",
          "height": 197
        },
        "id": "rB_ZhsJoIdkG",
        "outputId": "818a9bb6-b338-4151-a112-b34882660e08"
      },
      "source": [
        "mic = mutual_info_classif(df[numerical_columns], df[\"Response\"])\n",
        "df_mic = pd.DataFrame({'column':numerical_columns, 'correlation':mic})\n",
        "df_mic = df_mic.sort_values(by=['correlation'], ascending=False)\n",
        "df_mic.head()"
      ],
      "execution_count": null,
      "outputs": [
        {
          "output_type": "execute_result",
          "data": {
            "text/html": [
              "<div>\n",
              "<style scoped>\n",
              "    .dataframe tbody tr th:only-of-type {\n",
              "        vertical-align: middle;\n",
              "    }\n",
              "\n",
              "    .dataframe tbody tr th {\n",
              "        vertical-align: top;\n",
              "    }\n",
              "\n",
              "    .dataframe thead th {\n",
              "        text-align: right;\n",
              "    }\n",
              "</style>\n",
              "<table border=\"1\" class=\"dataframe\">\n",
              "  <thead>\n",
              "    <tr style=\"text-align: right;\">\n",
              "      <th></th>\n",
              "      <th>column</th>\n",
              "      <th>correlation</th>\n",
              "    </tr>\n",
              "  </thead>\n",
              "  <tbody>\n",
              "    <tr>\n",
              "      <th>3</th>\n",
              "      <td>Policy_Sales_Channel</td>\n",
              "      <td>0.059095</td>\n",
              "    </tr>\n",
              "    <tr>\n",
              "      <th>0</th>\n",
              "      <td>Age</td>\n",
              "      <td>0.030700</td>\n",
              "    </tr>\n",
              "    <tr>\n",
              "      <th>1</th>\n",
              "      <td>Region_Code</td>\n",
              "      <td>0.014832</td>\n",
              "    </tr>\n",
              "    <tr>\n",
              "      <th>2</th>\n",
              "      <td>Annual_Premium</td>\n",
              "      <td>0.003687</td>\n",
              "    </tr>\n",
              "    <tr>\n",
              "      <th>4</th>\n",
              "      <td>Vintage</td>\n",
              "      <td>0.000741</td>\n",
              "    </tr>\n",
              "  </tbody>\n",
              "</table>\n",
              "</div>"
            ],
            "text/plain": [
              "                 column  correlation\n",
              "3  Policy_Sales_Channel     0.059095\n",
              "0                   Age     0.030700\n",
              "1           Region_Code     0.014832\n",
              "2        Annual_Premium     0.003687\n",
              "4               Vintage     0.000741"
            ]
          },
          "metadata": {
            "tags": []
          },
          "execution_count": 149
        }
      ]
    },
    {
      "cell_type": "code",
      "metadata": {
        "id": "5IwAbYfIMJ2U"
      },
      "source": [
        "df = df.drop([\"id\",\"Vintage\"], axis=1)"
      ],
      "execution_count": null,
      "outputs": []
    },
    {
      "cell_type": "code",
      "metadata": {
        "colab": {
          "base_uri": "https://localhost:8080/",
          "height": 197
        },
        "id": "OBRa1Dd9K-3f",
        "outputId": "7c6304f6-d66d-47b1-d86d-6bdda370b273"
      },
      "source": [
        "df[\"Gender\"] = df[\"Gender\"].map({'Male':1, 'Female':0})\n",
        "df[\"Vehicle_Damage\"] = df[\"Vehicle_Damage\"].map({'Yes':1, 'No':0})\n",
        "df[\"Vehicle_Age\"] = df[\"Vehicle_Age\"].map({'> 2 Years':2, '1-2 Year':1.5, '< 1 Year':1 })\n",
        "df.head()"
      ],
      "execution_count": null,
      "outputs": [
        {
          "output_type": "execute_result",
          "data": {
            "text/html": [
              "<div>\n",
              "<style scoped>\n",
              "    .dataframe tbody tr th:only-of-type {\n",
              "        vertical-align: middle;\n",
              "    }\n",
              "\n",
              "    .dataframe tbody tr th {\n",
              "        vertical-align: top;\n",
              "    }\n",
              "\n",
              "    .dataframe thead th {\n",
              "        text-align: right;\n",
              "    }\n",
              "</style>\n",
              "<table border=\"1\" class=\"dataframe\">\n",
              "  <thead>\n",
              "    <tr style=\"text-align: right;\">\n",
              "      <th></th>\n",
              "      <th>Gender</th>\n",
              "      <th>Age</th>\n",
              "      <th>Driving_License</th>\n",
              "      <th>Region_Code</th>\n",
              "      <th>Previously_Insured</th>\n",
              "      <th>Vehicle_Age</th>\n",
              "      <th>Vehicle_Damage</th>\n",
              "      <th>Annual_Premium</th>\n",
              "      <th>Policy_Sales_Channel</th>\n",
              "      <th>Response</th>\n",
              "    </tr>\n",
              "  </thead>\n",
              "  <tbody>\n",
              "    <tr>\n",
              "      <th>0</th>\n",
              "      <td>1</td>\n",
              "      <td>44</td>\n",
              "      <td>1</td>\n",
              "      <td>28.0</td>\n",
              "      <td>0</td>\n",
              "      <td>2.0</td>\n",
              "      <td>1</td>\n",
              "      <td>40454.0</td>\n",
              "      <td>26.0</td>\n",
              "      <td>1</td>\n",
              "    </tr>\n",
              "    <tr>\n",
              "      <th>1</th>\n",
              "      <td>1</td>\n",
              "      <td>76</td>\n",
              "      <td>1</td>\n",
              "      <td>3.0</td>\n",
              "      <td>0</td>\n",
              "      <td>1.5</td>\n",
              "      <td>0</td>\n",
              "      <td>33536.0</td>\n",
              "      <td>26.0</td>\n",
              "      <td>0</td>\n",
              "    </tr>\n",
              "    <tr>\n",
              "      <th>2</th>\n",
              "      <td>1</td>\n",
              "      <td>47</td>\n",
              "      <td>1</td>\n",
              "      <td>28.0</td>\n",
              "      <td>0</td>\n",
              "      <td>2.0</td>\n",
              "      <td>1</td>\n",
              "      <td>38294.0</td>\n",
              "      <td>26.0</td>\n",
              "      <td>1</td>\n",
              "    </tr>\n",
              "    <tr>\n",
              "      <th>3</th>\n",
              "      <td>1</td>\n",
              "      <td>21</td>\n",
              "      <td>1</td>\n",
              "      <td>11.0</td>\n",
              "      <td>1</td>\n",
              "      <td>1.0</td>\n",
              "      <td>0</td>\n",
              "      <td>28619.0</td>\n",
              "      <td>152.0</td>\n",
              "      <td>0</td>\n",
              "    </tr>\n",
              "    <tr>\n",
              "      <th>4</th>\n",
              "      <td>0</td>\n",
              "      <td>29</td>\n",
              "      <td>1</td>\n",
              "      <td>41.0</td>\n",
              "      <td>1</td>\n",
              "      <td>1.0</td>\n",
              "      <td>0</td>\n",
              "      <td>27496.0</td>\n",
              "      <td>152.0</td>\n",
              "      <td>0</td>\n",
              "    </tr>\n",
              "  </tbody>\n",
              "</table>\n",
              "</div>"
            ],
            "text/plain": [
              "   Gender  Age  Driving_License  ...  Annual_Premium  Policy_Sales_Channel  Response\n",
              "0       1   44                1  ...         40454.0                  26.0         1\n",
              "1       1   76                1  ...         33536.0                  26.0         0\n",
              "2       1   47                1  ...         38294.0                  26.0         1\n",
              "3       1   21                1  ...         28619.0                 152.0         0\n",
              "4       0   29                1  ...         27496.0                 152.0         0\n",
              "\n",
              "[5 rows x 10 columns]"
            ]
          },
          "metadata": {
            "tags": []
          },
          "execution_count": 217
        }
      ]
    },
    {
      "cell_type": "code",
      "metadata": {
        "colab": {
          "base_uri": "https://localhost:8080/",
          "height": 197
        },
        "id": "BPlvzkxvf1Af",
        "outputId": "87c1b86d-e94d-4f95-f88a-43720e3d7e9c"
      },
      "source": [
        "def group_channels(channel):\n",
        "  positive_channels = [38., 124., 152., 156., 157., 122.]\n",
        "  return channel if channel in positive_channels else 0\n",
        "\n",
        "df[\"Policy_Sales_Channel\"] = df[\"Policy_Sales_Channel\"].apply(group_channels)\n",
        "df.head()"
      ],
      "execution_count": null,
      "outputs": [
        {
          "output_type": "execute_result",
          "data": {
            "text/html": [
              "<div>\n",
              "<style scoped>\n",
              "    .dataframe tbody tr th:only-of-type {\n",
              "        vertical-align: middle;\n",
              "    }\n",
              "\n",
              "    .dataframe tbody tr th {\n",
              "        vertical-align: top;\n",
              "    }\n",
              "\n",
              "    .dataframe thead th {\n",
              "        text-align: right;\n",
              "    }\n",
              "</style>\n",
              "<table border=\"1\" class=\"dataframe\">\n",
              "  <thead>\n",
              "    <tr style=\"text-align: right;\">\n",
              "      <th></th>\n",
              "      <th>id</th>\n",
              "      <th>Gender</th>\n",
              "      <th>Age</th>\n",
              "      <th>Driving_License</th>\n",
              "      <th>Region_Code</th>\n",
              "      <th>Previously_Insured</th>\n",
              "      <th>Vehicle_Age</th>\n",
              "      <th>Vehicle_Damage</th>\n",
              "      <th>Annual_Premium</th>\n",
              "      <th>Policy_Sales_Channel</th>\n",
              "      <th>Vintage</th>\n",
              "      <th>Response</th>\n",
              "    </tr>\n",
              "  </thead>\n",
              "  <tbody>\n",
              "    <tr>\n",
              "      <th>0</th>\n",
              "      <td>1</td>\n",
              "      <td>Male</td>\n",
              "      <td>44</td>\n",
              "      <td>1</td>\n",
              "      <td>28.0</td>\n",
              "      <td>0</td>\n",
              "      <td>&gt; 2 Years</td>\n",
              "      <td>Yes</td>\n",
              "      <td>40454.0</td>\n",
              "      <td>0.0</td>\n",
              "      <td>217</td>\n",
              "      <td>1</td>\n",
              "    </tr>\n",
              "    <tr>\n",
              "      <th>1</th>\n",
              "      <td>2</td>\n",
              "      <td>Male</td>\n",
              "      <td>76</td>\n",
              "      <td>1</td>\n",
              "      <td>3.0</td>\n",
              "      <td>0</td>\n",
              "      <td>1-2 Year</td>\n",
              "      <td>No</td>\n",
              "      <td>33536.0</td>\n",
              "      <td>0.0</td>\n",
              "      <td>183</td>\n",
              "      <td>0</td>\n",
              "    </tr>\n",
              "    <tr>\n",
              "      <th>2</th>\n",
              "      <td>3</td>\n",
              "      <td>Male</td>\n",
              "      <td>47</td>\n",
              "      <td>1</td>\n",
              "      <td>28.0</td>\n",
              "      <td>0</td>\n",
              "      <td>&gt; 2 Years</td>\n",
              "      <td>Yes</td>\n",
              "      <td>38294.0</td>\n",
              "      <td>0.0</td>\n",
              "      <td>27</td>\n",
              "      <td>1</td>\n",
              "    </tr>\n",
              "    <tr>\n",
              "      <th>3</th>\n",
              "      <td>4</td>\n",
              "      <td>Male</td>\n",
              "      <td>21</td>\n",
              "      <td>1</td>\n",
              "      <td>11.0</td>\n",
              "      <td>1</td>\n",
              "      <td>&lt; 1 Year</td>\n",
              "      <td>No</td>\n",
              "      <td>28619.0</td>\n",
              "      <td>152.0</td>\n",
              "      <td>203</td>\n",
              "      <td>0</td>\n",
              "    </tr>\n",
              "    <tr>\n",
              "      <th>4</th>\n",
              "      <td>5</td>\n",
              "      <td>Female</td>\n",
              "      <td>29</td>\n",
              "      <td>1</td>\n",
              "      <td>41.0</td>\n",
              "      <td>1</td>\n",
              "      <td>&lt; 1 Year</td>\n",
              "      <td>No</td>\n",
              "      <td>27496.0</td>\n",
              "      <td>152.0</td>\n",
              "      <td>39</td>\n",
              "      <td>0</td>\n",
              "    </tr>\n",
              "  </tbody>\n",
              "</table>\n",
              "</div>"
            ],
            "text/plain": [
              "   id  Gender  Age  ...  Policy_Sales_Channel  Vintage  Response\n",
              "0   1    Male   44  ...                   0.0      217         1\n",
              "1   2    Male   76  ...                   0.0      183         0\n",
              "2   3    Male   47  ...                   0.0       27         1\n",
              "3   4    Male   21  ...                 152.0      203         0\n",
              "4   5  Female   29  ...                 152.0       39         0\n",
              "\n",
              "[5 rows x 12 columns]"
            ]
          },
          "metadata": {
            "tags": []
          },
          "execution_count": 189
        }
      ]
    },
    {
      "cell_type": "code",
      "metadata": {
        "colab": {
          "base_uri": "https://localhost:8080/",
          "height": 246
        },
        "id": "Bc6wgwAfoWeK",
        "outputId": "096ed351-4b1e-4616-aa35-e031ce81e6e1"
      },
      "source": [
        "df = pd.get_dummies(df, columns=[\"Policy_Sales_Channel\", \"Region_Code\"])\n",
        "df.head()"
      ],
      "execution_count": null,
      "outputs": [
        {
          "output_type": "execute_result",
          "data": {
            "text/html": [
              "<div>\n",
              "<style scoped>\n",
              "    .dataframe tbody tr th:only-of-type {\n",
              "        vertical-align: middle;\n",
              "    }\n",
              "\n",
              "    .dataframe tbody tr th {\n",
              "        vertical-align: top;\n",
              "    }\n",
              "\n",
              "    .dataframe thead th {\n",
              "        text-align: right;\n",
              "    }\n",
              "</style>\n",
              "<table border=\"1\" class=\"dataframe\">\n",
              "  <thead>\n",
              "    <tr style=\"text-align: right;\">\n",
              "      <th></th>\n",
              "      <th>Gender</th>\n",
              "      <th>Age</th>\n",
              "      <th>Driving_License</th>\n",
              "      <th>Previously_Insured</th>\n",
              "      <th>Vehicle_Age</th>\n",
              "      <th>Vehicle_Damage</th>\n",
              "      <th>Annual_Premium</th>\n",
              "      <th>Response</th>\n",
              "      <th>Policy_Sales_Channel_1.0</th>\n",
              "      <th>Policy_Sales_Channel_2.0</th>\n",
              "      <th>Policy_Sales_Channel_3.0</th>\n",
              "      <th>Policy_Sales_Channel_4.0</th>\n",
              "      <th>Policy_Sales_Channel_6.0</th>\n",
              "      <th>Policy_Sales_Channel_7.0</th>\n",
              "      <th>Policy_Sales_Channel_8.0</th>\n",
              "      <th>Policy_Sales_Channel_9.0</th>\n",
              "      <th>Policy_Sales_Channel_10.0</th>\n",
              "      <th>Policy_Sales_Channel_11.0</th>\n",
              "      <th>Policy_Sales_Channel_12.0</th>\n",
              "      <th>Policy_Sales_Channel_13.0</th>\n",
              "      <th>Policy_Sales_Channel_14.0</th>\n",
              "      <th>Policy_Sales_Channel_15.0</th>\n",
              "      <th>Policy_Sales_Channel_16.0</th>\n",
              "      <th>Policy_Sales_Channel_17.0</th>\n",
              "      <th>Policy_Sales_Channel_18.0</th>\n",
              "      <th>Policy_Sales_Channel_19.0</th>\n",
              "      <th>Policy_Sales_Channel_20.0</th>\n",
              "      <th>Policy_Sales_Channel_21.0</th>\n",
              "      <th>Policy_Sales_Channel_22.0</th>\n",
              "      <th>Policy_Sales_Channel_23.0</th>\n",
              "      <th>Policy_Sales_Channel_24.0</th>\n",
              "      <th>Policy_Sales_Channel_25.0</th>\n",
              "      <th>Policy_Sales_Channel_26.0</th>\n",
              "      <th>Policy_Sales_Channel_27.0</th>\n",
              "      <th>Policy_Sales_Channel_28.0</th>\n",
              "      <th>Policy_Sales_Channel_29.0</th>\n",
              "      <th>Policy_Sales_Channel_30.0</th>\n",
              "      <th>Policy_Sales_Channel_31.0</th>\n",
              "      <th>Policy_Sales_Channel_32.0</th>\n",
              "      <th>Policy_Sales_Channel_33.0</th>\n",
              "      <th>...</th>\n",
              "      <th>Region_Code_13.0</th>\n",
              "      <th>Region_Code_14.0</th>\n",
              "      <th>Region_Code_15.0</th>\n",
              "      <th>Region_Code_16.0</th>\n",
              "      <th>Region_Code_17.0</th>\n",
              "      <th>Region_Code_18.0</th>\n",
              "      <th>Region_Code_19.0</th>\n",
              "      <th>Region_Code_20.0</th>\n",
              "      <th>Region_Code_21.0</th>\n",
              "      <th>Region_Code_22.0</th>\n",
              "      <th>Region_Code_23.0</th>\n",
              "      <th>Region_Code_24.0</th>\n",
              "      <th>Region_Code_25.0</th>\n",
              "      <th>Region_Code_26.0</th>\n",
              "      <th>Region_Code_27.0</th>\n",
              "      <th>Region_Code_28.0</th>\n",
              "      <th>Region_Code_29.0</th>\n",
              "      <th>Region_Code_30.0</th>\n",
              "      <th>Region_Code_31.0</th>\n",
              "      <th>Region_Code_32.0</th>\n",
              "      <th>Region_Code_33.0</th>\n",
              "      <th>Region_Code_34.0</th>\n",
              "      <th>Region_Code_35.0</th>\n",
              "      <th>Region_Code_36.0</th>\n",
              "      <th>Region_Code_37.0</th>\n",
              "      <th>Region_Code_38.0</th>\n",
              "      <th>Region_Code_39.0</th>\n",
              "      <th>Region_Code_40.0</th>\n",
              "      <th>Region_Code_41.0</th>\n",
              "      <th>Region_Code_42.0</th>\n",
              "      <th>Region_Code_43.0</th>\n",
              "      <th>Region_Code_44.0</th>\n",
              "      <th>Region_Code_45.0</th>\n",
              "      <th>Region_Code_46.0</th>\n",
              "      <th>Region_Code_47.0</th>\n",
              "      <th>Region_Code_48.0</th>\n",
              "      <th>Region_Code_49.0</th>\n",
              "      <th>Region_Code_50.0</th>\n",
              "      <th>Region_Code_51.0</th>\n",
              "      <th>Region_Code_52.0</th>\n",
              "    </tr>\n",
              "  </thead>\n",
              "  <tbody>\n",
              "    <tr>\n",
              "      <th>0</th>\n",
              "      <td>1</td>\n",
              "      <td>44</td>\n",
              "      <td>1</td>\n",
              "      <td>0</td>\n",
              "      <td>2.0</td>\n",
              "      <td>1</td>\n",
              "      <td>40454.0</td>\n",
              "      <td>1</td>\n",
              "      <td>0</td>\n",
              "      <td>0</td>\n",
              "      <td>0</td>\n",
              "      <td>0</td>\n",
              "      <td>0</td>\n",
              "      <td>0</td>\n",
              "      <td>0</td>\n",
              "      <td>0</td>\n",
              "      <td>0</td>\n",
              "      <td>0</td>\n",
              "      <td>0</td>\n",
              "      <td>0</td>\n",
              "      <td>0</td>\n",
              "      <td>0</td>\n",
              "      <td>0</td>\n",
              "      <td>0</td>\n",
              "      <td>0</td>\n",
              "      <td>0</td>\n",
              "      <td>0</td>\n",
              "      <td>0</td>\n",
              "      <td>0</td>\n",
              "      <td>0</td>\n",
              "      <td>0</td>\n",
              "      <td>0</td>\n",
              "      <td>1</td>\n",
              "      <td>0</td>\n",
              "      <td>0</td>\n",
              "      <td>0</td>\n",
              "      <td>0</td>\n",
              "      <td>0</td>\n",
              "      <td>0</td>\n",
              "      <td>0</td>\n",
              "      <td>...</td>\n",
              "      <td>0</td>\n",
              "      <td>0</td>\n",
              "      <td>0</td>\n",
              "      <td>0</td>\n",
              "      <td>0</td>\n",
              "      <td>0</td>\n",
              "      <td>0</td>\n",
              "      <td>0</td>\n",
              "      <td>0</td>\n",
              "      <td>0</td>\n",
              "      <td>0</td>\n",
              "      <td>0</td>\n",
              "      <td>0</td>\n",
              "      <td>0</td>\n",
              "      <td>0</td>\n",
              "      <td>1</td>\n",
              "      <td>0</td>\n",
              "      <td>0</td>\n",
              "      <td>0</td>\n",
              "      <td>0</td>\n",
              "      <td>0</td>\n",
              "      <td>0</td>\n",
              "      <td>0</td>\n",
              "      <td>0</td>\n",
              "      <td>0</td>\n",
              "      <td>0</td>\n",
              "      <td>0</td>\n",
              "      <td>0</td>\n",
              "      <td>0</td>\n",
              "      <td>0</td>\n",
              "      <td>0</td>\n",
              "      <td>0</td>\n",
              "      <td>0</td>\n",
              "      <td>0</td>\n",
              "      <td>0</td>\n",
              "      <td>0</td>\n",
              "      <td>0</td>\n",
              "      <td>0</td>\n",
              "      <td>0</td>\n",
              "      <td>0</td>\n",
              "    </tr>\n",
              "    <tr>\n",
              "      <th>1</th>\n",
              "      <td>1</td>\n",
              "      <td>76</td>\n",
              "      <td>1</td>\n",
              "      <td>0</td>\n",
              "      <td>1.5</td>\n",
              "      <td>0</td>\n",
              "      <td>33536.0</td>\n",
              "      <td>0</td>\n",
              "      <td>0</td>\n",
              "      <td>0</td>\n",
              "      <td>0</td>\n",
              "      <td>0</td>\n",
              "      <td>0</td>\n",
              "      <td>0</td>\n",
              "      <td>0</td>\n",
              "      <td>0</td>\n",
              "      <td>0</td>\n",
              "      <td>0</td>\n",
              "      <td>0</td>\n",
              "      <td>0</td>\n",
              "      <td>0</td>\n",
              "      <td>0</td>\n",
              "      <td>0</td>\n",
              "      <td>0</td>\n",
              "      <td>0</td>\n",
              "      <td>0</td>\n",
              "      <td>0</td>\n",
              "      <td>0</td>\n",
              "      <td>0</td>\n",
              "      <td>0</td>\n",
              "      <td>0</td>\n",
              "      <td>0</td>\n",
              "      <td>1</td>\n",
              "      <td>0</td>\n",
              "      <td>0</td>\n",
              "      <td>0</td>\n",
              "      <td>0</td>\n",
              "      <td>0</td>\n",
              "      <td>0</td>\n",
              "      <td>0</td>\n",
              "      <td>...</td>\n",
              "      <td>0</td>\n",
              "      <td>0</td>\n",
              "      <td>0</td>\n",
              "      <td>0</td>\n",
              "      <td>0</td>\n",
              "      <td>0</td>\n",
              "      <td>0</td>\n",
              "      <td>0</td>\n",
              "      <td>0</td>\n",
              "      <td>0</td>\n",
              "      <td>0</td>\n",
              "      <td>0</td>\n",
              "      <td>0</td>\n",
              "      <td>0</td>\n",
              "      <td>0</td>\n",
              "      <td>0</td>\n",
              "      <td>0</td>\n",
              "      <td>0</td>\n",
              "      <td>0</td>\n",
              "      <td>0</td>\n",
              "      <td>0</td>\n",
              "      <td>0</td>\n",
              "      <td>0</td>\n",
              "      <td>0</td>\n",
              "      <td>0</td>\n",
              "      <td>0</td>\n",
              "      <td>0</td>\n",
              "      <td>0</td>\n",
              "      <td>0</td>\n",
              "      <td>0</td>\n",
              "      <td>0</td>\n",
              "      <td>0</td>\n",
              "      <td>0</td>\n",
              "      <td>0</td>\n",
              "      <td>0</td>\n",
              "      <td>0</td>\n",
              "      <td>0</td>\n",
              "      <td>0</td>\n",
              "      <td>0</td>\n",
              "      <td>0</td>\n",
              "    </tr>\n",
              "    <tr>\n",
              "      <th>2</th>\n",
              "      <td>1</td>\n",
              "      <td>47</td>\n",
              "      <td>1</td>\n",
              "      <td>0</td>\n",
              "      <td>2.0</td>\n",
              "      <td>1</td>\n",
              "      <td>38294.0</td>\n",
              "      <td>1</td>\n",
              "      <td>0</td>\n",
              "      <td>0</td>\n",
              "      <td>0</td>\n",
              "      <td>0</td>\n",
              "      <td>0</td>\n",
              "      <td>0</td>\n",
              "      <td>0</td>\n",
              "      <td>0</td>\n",
              "      <td>0</td>\n",
              "      <td>0</td>\n",
              "      <td>0</td>\n",
              "      <td>0</td>\n",
              "      <td>0</td>\n",
              "      <td>0</td>\n",
              "      <td>0</td>\n",
              "      <td>0</td>\n",
              "      <td>0</td>\n",
              "      <td>0</td>\n",
              "      <td>0</td>\n",
              "      <td>0</td>\n",
              "      <td>0</td>\n",
              "      <td>0</td>\n",
              "      <td>0</td>\n",
              "      <td>0</td>\n",
              "      <td>1</td>\n",
              "      <td>0</td>\n",
              "      <td>0</td>\n",
              "      <td>0</td>\n",
              "      <td>0</td>\n",
              "      <td>0</td>\n",
              "      <td>0</td>\n",
              "      <td>0</td>\n",
              "      <td>...</td>\n",
              "      <td>0</td>\n",
              "      <td>0</td>\n",
              "      <td>0</td>\n",
              "      <td>0</td>\n",
              "      <td>0</td>\n",
              "      <td>0</td>\n",
              "      <td>0</td>\n",
              "      <td>0</td>\n",
              "      <td>0</td>\n",
              "      <td>0</td>\n",
              "      <td>0</td>\n",
              "      <td>0</td>\n",
              "      <td>0</td>\n",
              "      <td>0</td>\n",
              "      <td>0</td>\n",
              "      <td>1</td>\n",
              "      <td>0</td>\n",
              "      <td>0</td>\n",
              "      <td>0</td>\n",
              "      <td>0</td>\n",
              "      <td>0</td>\n",
              "      <td>0</td>\n",
              "      <td>0</td>\n",
              "      <td>0</td>\n",
              "      <td>0</td>\n",
              "      <td>0</td>\n",
              "      <td>0</td>\n",
              "      <td>0</td>\n",
              "      <td>0</td>\n",
              "      <td>0</td>\n",
              "      <td>0</td>\n",
              "      <td>0</td>\n",
              "      <td>0</td>\n",
              "      <td>0</td>\n",
              "      <td>0</td>\n",
              "      <td>0</td>\n",
              "      <td>0</td>\n",
              "      <td>0</td>\n",
              "      <td>0</td>\n",
              "      <td>0</td>\n",
              "    </tr>\n",
              "    <tr>\n",
              "      <th>3</th>\n",
              "      <td>1</td>\n",
              "      <td>21</td>\n",
              "      <td>1</td>\n",
              "      <td>1</td>\n",
              "      <td>1.0</td>\n",
              "      <td>0</td>\n",
              "      <td>28619.0</td>\n",
              "      <td>0</td>\n",
              "      <td>0</td>\n",
              "      <td>0</td>\n",
              "      <td>0</td>\n",
              "      <td>0</td>\n",
              "      <td>0</td>\n",
              "      <td>0</td>\n",
              "      <td>0</td>\n",
              "      <td>0</td>\n",
              "      <td>0</td>\n",
              "      <td>0</td>\n",
              "      <td>0</td>\n",
              "      <td>0</td>\n",
              "      <td>0</td>\n",
              "      <td>0</td>\n",
              "      <td>0</td>\n",
              "      <td>0</td>\n",
              "      <td>0</td>\n",
              "      <td>0</td>\n",
              "      <td>0</td>\n",
              "      <td>0</td>\n",
              "      <td>0</td>\n",
              "      <td>0</td>\n",
              "      <td>0</td>\n",
              "      <td>0</td>\n",
              "      <td>0</td>\n",
              "      <td>0</td>\n",
              "      <td>0</td>\n",
              "      <td>0</td>\n",
              "      <td>0</td>\n",
              "      <td>0</td>\n",
              "      <td>0</td>\n",
              "      <td>0</td>\n",
              "      <td>...</td>\n",
              "      <td>0</td>\n",
              "      <td>0</td>\n",
              "      <td>0</td>\n",
              "      <td>0</td>\n",
              "      <td>0</td>\n",
              "      <td>0</td>\n",
              "      <td>0</td>\n",
              "      <td>0</td>\n",
              "      <td>0</td>\n",
              "      <td>0</td>\n",
              "      <td>0</td>\n",
              "      <td>0</td>\n",
              "      <td>0</td>\n",
              "      <td>0</td>\n",
              "      <td>0</td>\n",
              "      <td>0</td>\n",
              "      <td>0</td>\n",
              "      <td>0</td>\n",
              "      <td>0</td>\n",
              "      <td>0</td>\n",
              "      <td>0</td>\n",
              "      <td>0</td>\n",
              "      <td>0</td>\n",
              "      <td>0</td>\n",
              "      <td>0</td>\n",
              "      <td>0</td>\n",
              "      <td>0</td>\n",
              "      <td>0</td>\n",
              "      <td>0</td>\n",
              "      <td>0</td>\n",
              "      <td>0</td>\n",
              "      <td>0</td>\n",
              "      <td>0</td>\n",
              "      <td>0</td>\n",
              "      <td>0</td>\n",
              "      <td>0</td>\n",
              "      <td>0</td>\n",
              "      <td>0</td>\n",
              "      <td>0</td>\n",
              "      <td>0</td>\n",
              "    </tr>\n",
              "    <tr>\n",
              "      <th>4</th>\n",
              "      <td>0</td>\n",
              "      <td>29</td>\n",
              "      <td>1</td>\n",
              "      <td>1</td>\n",
              "      <td>1.0</td>\n",
              "      <td>0</td>\n",
              "      <td>27496.0</td>\n",
              "      <td>0</td>\n",
              "      <td>0</td>\n",
              "      <td>0</td>\n",
              "      <td>0</td>\n",
              "      <td>0</td>\n",
              "      <td>0</td>\n",
              "      <td>0</td>\n",
              "      <td>0</td>\n",
              "      <td>0</td>\n",
              "      <td>0</td>\n",
              "      <td>0</td>\n",
              "      <td>0</td>\n",
              "      <td>0</td>\n",
              "      <td>0</td>\n",
              "      <td>0</td>\n",
              "      <td>0</td>\n",
              "      <td>0</td>\n",
              "      <td>0</td>\n",
              "      <td>0</td>\n",
              "      <td>0</td>\n",
              "      <td>0</td>\n",
              "      <td>0</td>\n",
              "      <td>0</td>\n",
              "      <td>0</td>\n",
              "      <td>0</td>\n",
              "      <td>0</td>\n",
              "      <td>0</td>\n",
              "      <td>0</td>\n",
              "      <td>0</td>\n",
              "      <td>0</td>\n",
              "      <td>0</td>\n",
              "      <td>0</td>\n",
              "      <td>0</td>\n",
              "      <td>...</td>\n",
              "      <td>0</td>\n",
              "      <td>0</td>\n",
              "      <td>0</td>\n",
              "      <td>0</td>\n",
              "      <td>0</td>\n",
              "      <td>0</td>\n",
              "      <td>0</td>\n",
              "      <td>0</td>\n",
              "      <td>0</td>\n",
              "      <td>0</td>\n",
              "      <td>0</td>\n",
              "      <td>0</td>\n",
              "      <td>0</td>\n",
              "      <td>0</td>\n",
              "      <td>0</td>\n",
              "      <td>0</td>\n",
              "      <td>0</td>\n",
              "      <td>0</td>\n",
              "      <td>0</td>\n",
              "      <td>0</td>\n",
              "      <td>0</td>\n",
              "      <td>0</td>\n",
              "      <td>0</td>\n",
              "      <td>0</td>\n",
              "      <td>0</td>\n",
              "      <td>0</td>\n",
              "      <td>0</td>\n",
              "      <td>0</td>\n",
              "      <td>1</td>\n",
              "      <td>0</td>\n",
              "      <td>0</td>\n",
              "      <td>0</td>\n",
              "      <td>0</td>\n",
              "      <td>0</td>\n",
              "      <td>0</td>\n",
              "      <td>0</td>\n",
              "      <td>0</td>\n",
              "      <td>0</td>\n",
              "      <td>0</td>\n",
              "      <td>0</td>\n",
              "    </tr>\n",
              "  </tbody>\n",
              "</table>\n",
              "<p>5 rows × 216 columns</p>\n",
              "</div>"
            ],
            "text/plain": [
              "   Gender  Age  ...  Region_Code_51.0  Region_Code_52.0\n",
              "0       1   44  ...                 0                 0\n",
              "1       1   76  ...                 0                 0\n",
              "2       1   47  ...                 0                 0\n",
              "3       1   21  ...                 0                 0\n",
              "4       0   29  ...                 0                 0\n",
              "\n",
              "[5 rows x 216 columns]"
            ]
          },
          "metadata": {
            "tags": []
          },
          "execution_count": 218
        }
      ]
    },
    {
      "cell_type": "code",
      "metadata": {
        "id": "zvilZyFiLAhI"
      },
      "source": [
        "def group_age(age):\n",
        "  if age<=30:\n",
        "    return \"20-30\"\n",
        "  if age<=40:\n",
        "    return \"30-40\"\n",
        "  if age<=50:\n",
        "    return \"40-50\"\n",
        "  if age<=60:\n",
        "    return \"50-60\"\n",
        "  return \"60+\"\n",
        "\n",
        "#df[\"Age\"] = df[\"Age\"].apply(group_age)\n",
        "#df.head()"
      ],
      "execution_count": null,
      "outputs": []
    },
    {
      "cell_type": "code",
      "metadata": {
        "id": "sriNfTw5qH2R"
      },
      "source": [
        "# df = pd.get_dummies(df, columns=[\"Vehicle_Age\", \"Age\"])\n",
        "# df.head()"
      ],
      "execution_count": null,
      "outputs": []
    },
    {
      "cell_type": "code",
      "metadata": {
        "id": "j1aTYCiPqzUH"
      },
      "source": [
        "X = df.drop([\"Response\"], axis=1).values\n",
        "y = df[[\"Response\"]].values\n",
        "\n",
        "X_train, X_test, y_train, y_test = train_test_split(X, y, test_size=0.2)"
      ],
      "execution_count": null,
      "outputs": []
    },
    {
      "cell_type": "code",
      "metadata": {
        "id": "IY87J9HwrLQN"
      },
      "source": [
        "ss = StandardScaler()\n",
        "X_train = ss.fit_transform(X_train)\n",
        "X_test = ss.transform(X_test)"
      ],
      "execution_count": null,
      "outputs": []
    },
    {
      "cell_type": "markdown",
      "metadata": {
        "id": "xGgRDbIlgNVH"
      },
      "source": [
        "## Neural Network"
      ]
    },
    {
      "cell_type": "code",
      "metadata": {
        "id": "Jhy92wzsrbOT"
      },
      "source": [
        "def build_model():\n",
        "  model = tf.keras.models.Sequential()\n",
        "  model.add(tf.keras.layers.Dense(128, input_dim=X_train.shape[1], activation='relu'))\n",
        "  model.add(tf.keras.layers.Dense(128, activation='relu'))\n",
        "  model.add(tf.keras.layers.Dense(64, activation='relu'))\n",
        "  model.add(tf.keras.layers.Dense(64, activation='relu'))\n",
        "  model.add(tf.keras.layers.Dense(32, activation='relu'))\n",
        "  model.add(tf.keras.layers.Dense(32, activation='relu'))\n",
        "  model.add(tf.keras.layers.Dense(1, activation='sigmoid'))\n",
        "  return model"
      ],
      "execution_count": null,
      "outputs": []
    },
    {
      "cell_type": "code",
      "metadata": {
        "id": "L1zVB2K9sErO"
      },
      "source": [
        "model = build_model()\n",
        "model.compile(loss='binary_crossentropy', optimizer='adam', metrics=['accuracy'])\n",
        "model.fit(X_train, y_train, epochs=10, batch_size=256, validation_split=0.1)"
      ],
      "execution_count": null,
      "outputs": []
    },
    {
      "cell_type": "code",
      "metadata": {
        "id": "iEJbWmCfsW5a"
      },
      "source": [
        "model.evaluate(X_test, y_test)"
      ],
      "execution_count": null,
      "outputs": []
    },
    {
      "cell_type": "code",
      "metadata": {
        "id": "hm7HIZImNPHI"
      },
      "source": [
        "def plot_confusion_matrix(model, labels=[\"Negative\", \"Positive\"], threeshold=0.5):\n",
        "  y_proba = model.predict(X_test)\n",
        "  y_pred = np.where(y_proba>threeshold,1,0)\n",
        "  cm = confusion_matrix(y_pred, y_test)\n",
        "  df_cm = pd.DataFrame(cm, index = [\"Predicted \"+labels[0],\"Predicted \"+labels[1]],\n",
        "                    columns = labels)\n",
        "  sns.heatmap(df_cm, annot=True, fmt='g')\n",
        "\n",
        "plot_confusion_matrix(model, [\"Rejected\", \"Accepted\"])"
      ],
      "execution_count": null,
      "outputs": []
    },
    {
      "cell_type": "code",
      "metadata": {
        "id": "DLVfb3JRGBMD"
      },
      "source": [
        "%tensorboard --logdir logs/fit"
      ],
      "execution_count": null,
      "outputs": []
    },
    {
      "cell_type": "markdown",
      "metadata": {
        "id": "GGlGgFupPhfu"
      },
      "source": [
        "## Tecnica 1: Class Weighting"
      ]
    },
    {
      "cell_type": "code",
      "metadata": {
        "id": "oNP6Nxq3U5Ae"
      },
      "source": [
        "total = y.shape[0]\n",
        "pos = y[y==1].shape[0]\n",
        "pos_weight = (1 / pos)*(total)/2.0\n",
        "class_weight = {0: 1, 1: pos_weight}"
      ],
      "execution_count": null,
      "outputs": []
    },
    {
      "cell_type": "code",
      "metadata": {
        "colab": {
          "base_uri": "https://localhost:8080/",
          "height": 194
        },
        "id": "CGY9W7FZU6Yx",
        "outputId": "31906516-e3f2-46f3-8d1e-b0bc1f6c0030"
      },
      "source": [
        "model = build_model()\n",
        "model.compile(loss='binary_crossentropy', optimizer='adam', metrics=['accuracy'])\n",
        "model.fit(X_train, y_train, epochs=10, class_weight=class_weight, batch_size=128, validation_split=0.1)"
      ],
      "execution_count": null,
      "outputs": [
        {
          "output_type": "error",
          "ename": "NameError",
          "evalue": "ignored",
          "traceback": [
            "\u001b[0;31m---------------------------------------------------------------------------\u001b[0m",
            "\u001b[0;31mNameError\u001b[0m                                 Traceback (most recent call last)",
            "\u001b[0;32m<ipython-input-170-2639e4933012>\u001b[0m in \u001b[0;36m<module>\u001b[0;34m()\u001b[0m\n\u001b[0;32m----> 1\u001b[0;31m \u001b[0mmodel\u001b[0m \u001b[0;34m=\u001b[0m \u001b[0mbuild_model\u001b[0m\u001b[0;34m(\u001b[0m\u001b[0;34m)\u001b[0m\u001b[0;34m\u001b[0m\u001b[0;34m\u001b[0m\u001b[0m\n\u001b[0m\u001b[1;32m      2\u001b[0m \u001b[0mmodel\u001b[0m\u001b[0;34m.\u001b[0m\u001b[0mcompile\u001b[0m\u001b[0;34m(\u001b[0m\u001b[0mloss\u001b[0m\u001b[0;34m=\u001b[0m\u001b[0;34m'binary_crossentropy'\u001b[0m\u001b[0;34m,\u001b[0m \u001b[0moptimizer\u001b[0m\u001b[0;34m=\u001b[0m\u001b[0;34m'adam'\u001b[0m\u001b[0;34m,\u001b[0m \u001b[0mmetrics\u001b[0m\u001b[0;34m=\u001b[0m\u001b[0;34m[\u001b[0m\u001b[0;34m'accuracy'\u001b[0m\u001b[0;34m]\u001b[0m\u001b[0;34m)\u001b[0m\u001b[0;34m\u001b[0m\u001b[0;34m\u001b[0m\u001b[0m\n\u001b[1;32m      3\u001b[0m \u001b[0mmodel\u001b[0m\u001b[0;34m.\u001b[0m\u001b[0mfit\u001b[0m\u001b[0;34m(\u001b[0m\u001b[0mX_train\u001b[0m\u001b[0;34m,\u001b[0m \u001b[0my_train\u001b[0m\u001b[0;34m,\u001b[0m \u001b[0mepochs\u001b[0m\u001b[0;34m=\u001b[0m\u001b[0;36m10\u001b[0m\u001b[0;34m,\u001b[0m \u001b[0mclass_weight\u001b[0m\u001b[0;34m=\u001b[0m\u001b[0mclass_weight\u001b[0m\u001b[0;34m,\u001b[0m \u001b[0mbatch_size\u001b[0m\u001b[0;34m=\u001b[0m\u001b[0;36m128\u001b[0m\u001b[0;34m,\u001b[0m \u001b[0mvalidation_split\u001b[0m\u001b[0;34m=\u001b[0m\u001b[0;36m0.1\u001b[0m\u001b[0;34m)\u001b[0m\u001b[0;34m\u001b[0m\u001b[0;34m\u001b[0m\u001b[0m\n",
            "\u001b[0;31mNameError\u001b[0m: name 'build_model' is not defined"
          ]
        }
      ]
    },
    {
      "cell_type": "code",
      "metadata": {
        "id": "eQD6mviJVFig"
      },
      "source": [
        "model.evaluate(X_test, y_test)"
      ],
      "execution_count": null,
      "outputs": []
    },
    {
      "cell_type": "code",
      "metadata": {
        "id": "Tagqxgc7dGKV"
      },
      "source": [
        "plot_confusion_matrix(model, [\"Rejected\", \"Accepted\"])"
      ],
      "execution_count": null,
      "outputs": []
    },
    {
      "cell_type": "markdown",
      "metadata": {
        "id": "2fhLY0BUU-Vm"
      },
      "source": [
        "## Tecnica 2: Undersampling"
      ]
    },
    {
      "cell_type": "code",
      "metadata": {
        "id": "INYP9ylHY2M9"
      },
      "source": [
        "def split_data_by_label(df, target_column):\n",
        "  \n",
        "  y = df[target_column].values\n",
        "  bool_labels = y!=0\n",
        "\n",
        "  pos_features = df[bool_labels]\n",
        "  neg_features = df[~bool_labels]\n",
        "\n",
        "  pos_features = pos_features.drop(target_column, axis=1).values\n",
        "  neg_features = neg_features.drop(target_column, axis=1).values\n",
        "\n",
        "  pos_labels = y[bool_labels]\n",
        "  neg_labels = y[~bool_labels]\n",
        "\n",
        "  return pos_features, neg_features, pos_labels, neg_labels"
      ],
      "execution_count": null,
      "outputs": []
    },
    {
      "cell_type": "code",
      "metadata": {
        "id": "kErvlviEaHRo"
      },
      "source": [
        "def concatenate(pos_features, neg_features, pos_labels, neg_labels):\n",
        "  \n",
        "  concat_features = np.concatenate([neg_features, pos_features], axis=0)\n",
        "  concat_labels = np.concatenate([neg_labels, pos_labels], axis=0)\n",
        "\n",
        "  order = np.arange(len(concat_labels))\n",
        "  np.random.shuffle(order)\n",
        "  concat_features = concat_features[order]\n",
        "  concat_labels = concat_labels[order]\n",
        "\n",
        "  return concat_features, concat_labels"
      ],
      "execution_count": null,
      "outputs": []
    },
    {
      "cell_type": "code",
      "metadata": {
        "id": "EgEtRuzVZmXM"
      },
      "source": [
        "def undersample(df, target_column):\n",
        "  \n",
        "  pos_features, neg_features, pos_labels, neg_labels = split_data_by_label(df, target_column)\n",
        "  \n",
        "  ids = np.arange(len(neg_features))\n",
        "  choices = np.random.choice(ids, len(pos_features))\n",
        "\n",
        "  res_neg_features = neg_features[choices]\n",
        "  res_neg_labels = neg_labels[choices]\n",
        "\n",
        "  res_features, res_labels = concatenate(pos_features, res_neg_features, pos_labels, res_neg_labels)\n",
        "  return res_features, res_labels"
      ],
      "execution_count": null,
      "outputs": []
    },
    {
      "cell_type": "code",
      "metadata": {
        "colab": {
          "base_uri": "https://localhost:8080/"
        },
        "id": "yfjBbKAQWxfC",
        "outputId": "d14cf5f7-1025-4628-a3b9-3dcb96c82027"
      },
      "source": [
        "X_undersampled, y_undersampled = undersample(df, \"Response\")\n",
        "print(\"Number of samples: \"+str(X_undersampled.shape))\n",
        "print(\"Labels distribution: \"+str(np.unique(y_undersampled,return_counts=True)))"
      ],
      "execution_count": null,
      "outputs": [
        {
          "output_type": "stream",
          "text": [
            "Number of samples: (93420, 215)\n",
            "Labels distribution: (array([0, 1]), array([46710, 46710]))\n"
          ],
          "name": "stdout"
        }
      ]
    },
    {
      "cell_type": "code",
      "metadata": {
        "id": "6IdF4DqQcvVE"
      },
      "source": [
        "X_train, X_test, y_train, y_test = train_test_split(X_undersampled, y_undersampled, test_size=0.2)"
      ],
      "execution_count": null,
      "outputs": []
    },
    {
      "cell_type": "code",
      "metadata": {
        "id": "QZMj-rsQc0g2"
      },
      "source": [
        "ss = StandardScaler()\n",
        "X_train = ss.fit_transform(X_train)\n",
        "X_test = ss.transform(X_test)"
      ],
      "execution_count": null,
      "outputs": []
    },
    {
      "cell_type": "code",
      "metadata": {
        "colab": {
          "base_uri": "https://localhost:8080/"
        },
        "id": "C52jAtQ_dP1J",
        "outputId": "267df0a0-4e5b-4d42-ecae-3887b8774d36"
      },
      "source": [
        "model = build_model()\n",
        "model.compile(loss='binary_crossentropy', optimizer='adam', metrics=['accuracy'])\n",
        "model.fit(X_train, y_train, epochs=20, batch_size=512, validation_split=0.1)"
      ],
      "execution_count": null,
      "outputs": [
        {
          "output_type": "stream",
          "text": [
            "Epoch 1/20\n",
            "132/132 [==============================] - 1s 5ms/step - loss: 0.5708 - accuracy: 0.7139 - val_loss: 0.4355 - val_accuracy: 0.7926\n",
            "Epoch 2/20\n",
            "132/132 [==============================] - 0s 4ms/step - loss: 0.4324 - accuracy: 0.7948 - val_loss: 0.4309 - val_accuracy: 0.7966\n",
            "Epoch 3/20\n",
            "132/132 [==============================] - 0s 4ms/step - loss: 0.4284 - accuracy: 0.7967 - val_loss: 0.4303 - val_accuracy: 0.7956\n",
            "Epoch 4/20\n",
            "132/132 [==============================] - 0s 3ms/step - loss: 0.4231 - accuracy: 0.7992 - val_loss: 0.4300 - val_accuracy: 0.7949\n",
            "Epoch 5/20\n",
            "132/132 [==============================] - 0s 3ms/step - loss: 0.4170 - accuracy: 0.8037 - val_loss: 0.4312 - val_accuracy: 0.7944\n",
            "Epoch 6/20\n",
            "132/132 [==============================] - 0s 3ms/step - loss: 0.4171 - accuracy: 0.8035 - val_loss: 0.4306 - val_accuracy: 0.7944\n",
            "Epoch 7/20\n",
            "132/132 [==============================] - 0s 3ms/step - loss: 0.4183 - accuracy: 0.8008 - val_loss: 0.4324 - val_accuracy: 0.7930\n",
            "Epoch 8/20\n",
            "132/132 [==============================] - 0s 3ms/step - loss: 0.4153 - accuracy: 0.8029 - val_loss: 0.4291 - val_accuracy: 0.7946\n",
            "Epoch 9/20\n",
            "132/132 [==============================] - 0s 3ms/step - loss: 0.4157 - accuracy: 0.8020 - val_loss: 0.4338 - val_accuracy: 0.7923\n",
            "Epoch 10/20\n",
            "132/132 [==============================] - 0s 4ms/step - loss: 0.4152 - accuracy: 0.8044 - val_loss: 0.4329 - val_accuracy: 0.7952\n",
            "Epoch 11/20\n",
            "132/132 [==============================] - 0s 3ms/step - loss: 0.4111 - accuracy: 0.8055 - val_loss: 0.4323 - val_accuracy: 0.7948\n",
            "Epoch 12/20\n",
            "132/132 [==============================] - 0s 3ms/step - loss: 0.4102 - accuracy: 0.8059 - val_loss: 0.4328 - val_accuracy: 0.7965\n",
            "Epoch 13/20\n",
            "132/132 [==============================] - 0s 3ms/step - loss: 0.4105 - accuracy: 0.8055 - val_loss: 0.4324 - val_accuracy: 0.7945\n",
            "Epoch 14/20\n",
            "132/132 [==============================] - 0s 4ms/step - loss: 0.4130 - accuracy: 0.8041 - val_loss: 0.4323 - val_accuracy: 0.7952\n",
            "Epoch 15/20\n",
            "132/132 [==============================] - 0s 3ms/step - loss: 0.4091 - accuracy: 0.8063 - val_loss: 0.4353 - val_accuracy: 0.7973\n",
            "Epoch 16/20\n",
            "132/132 [==============================] - 0s 3ms/step - loss: 0.4052 - accuracy: 0.8073 - val_loss: 0.4359 - val_accuracy: 0.7948\n",
            "Epoch 17/20\n",
            "132/132 [==============================] - 0s 3ms/step - loss: 0.4080 - accuracy: 0.8048 - val_loss: 0.4349 - val_accuracy: 0.7937\n",
            "Epoch 18/20\n",
            "132/132 [==============================] - 0s 4ms/step - loss: 0.4027 - accuracy: 0.8075 - val_loss: 0.4327 - val_accuracy: 0.7944\n",
            "Epoch 19/20\n",
            "132/132 [==============================] - 0s 4ms/step - loss: 0.4021 - accuracy: 0.8090 - val_loss: 0.4346 - val_accuracy: 0.7948\n",
            "Epoch 20/20\n",
            "132/132 [==============================] - 0s 4ms/step - loss: 0.4042 - accuracy: 0.8085 - val_loss: 0.4363 - val_accuracy: 0.7915\n"
          ],
          "name": "stdout"
        },
        {
          "output_type": "execute_result",
          "data": {
            "text/plain": [
              "<tensorflow.python.keras.callbacks.History at 0x7ff58a0a0410>"
            ]
          },
          "metadata": {
            "tags": []
          },
          "execution_count": 225
        }
      ]
    },
    {
      "cell_type": "code",
      "metadata": {
        "colab": {
          "base_uri": "https://localhost:8080/"
        },
        "id": "vd0az_54dMnp",
        "outputId": "1d1350ce-6e3b-44e9-80a8-6c9e28f4e419"
      },
      "source": [
        "model.evaluate(X_test, y_test)"
      ],
      "execution_count": null,
      "outputs": [
        {
          "output_type": "stream",
          "text": [
            "584/584 [==============================] - 1s 2ms/step - loss: 0.4353 - accuracy: 0.8007\n"
          ],
          "name": "stdout"
        },
        {
          "output_type": "execute_result",
          "data": {
            "text/plain": [
              "[0.4353078305721283, 0.8006851077079773]"
            ]
          },
          "metadata": {
            "tags": []
          },
          "execution_count": 226
        }
      ]
    },
    {
      "cell_type": "code",
      "metadata": {
        "colab": {
          "base_uri": "https://localhost:8080/",
          "height": 161
        },
        "id": "qNBPxda-eeXH",
        "outputId": "9b5435b3-9179-46c7-fc19-51818b256d41"
      },
      "source": [
        "plot_confusion_matrix(model, [\"Rejected\", \"Accepted\"])"
      ],
      "execution_count": null,
      "outputs": [
        {
          "output_type": "error",
          "ename": "NameError",
          "evalue": "ignored",
          "traceback": [
            "\u001b[0;31m---------------------------------------------------------------------------\u001b[0m",
            "\u001b[0;31mNameError\u001b[0m                                 Traceback (most recent call last)",
            "\u001b[0;32m<ipython-input-174-d38221165dc4>\u001b[0m in \u001b[0;36m<module>\u001b[0;34m()\u001b[0m\n\u001b[0;32m----> 1\u001b[0;31m \u001b[0mplot_confusion_matrix\u001b[0m\u001b[0;34m(\u001b[0m\u001b[0mmodel\u001b[0m\u001b[0;34m,\u001b[0m \u001b[0;34m[\u001b[0m\u001b[0;34m\"Rejected\"\u001b[0m\u001b[0;34m,\u001b[0m \u001b[0;34m\"Accepted\"\u001b[0m\u001b[0;34m]\u001b[0m\u001b[0;34m)\u001b[0m\u001b[0;34m\u001b[0m\u001b[0;34m\u001b[0m\u001b[0m\n\u001b[0m",
            "\u001b[0;31mNameError\u001b[0m: name 'plot_confusion_matrix' is not defined"
          ]
        }
      ]
    },
    {
      "cell_type": "markdown",
      "metadata": {
        "id": "hLcmbIOFPmnj"
      },
      "source": [
        "## Tecnica 3: Oversampling"
      ]
    },
    {
      "cell_type": "code",
      "metadata": {
        "colab": {
          "base_uri": "https://localhost:8080/"
        },
        "id": "hHltmVf-Sls0",
        "outputId": "be2a22be-c3f6-4585-d814-d95c74b1dd2d"
      },
      "source": [
        "def oversample(df, target_column):\n",
        "  \n",
        "  pos_features, neg_features, pos_labels, neg_labels = split_data_by_label(df, target_column)\n",
        "  \n",
        "  ids = np.arange(len(pos_features))\n",
        "  choices = np.random.choice(ids, len(neg_features))\n",
        "\n",
        "  res_pos_features = pos_features[choices]\n",
        "  res_pos_labels = pos_labels[choices]\n",
        "\n",
        "  res_features, res_labels = concatenate(res_pos_features, neg_features, res_pos_labels, neg_labels)\n",
        "  return res_features, res_labels\n",
        "\n",
        "X_oversampled, y_oversampled = oversample(df, \"Response\")\n",
        "print(\"Number of samples: \"+str(X_oversampled.shape))\n",
        "print(\"Labels distribution: \"+str(np.unique(y_oversampled,return_counts=True)))"
      ],
      "execution_count": null,
      "outputs": [
        {
          "output_type": "stream",
          "text": [
            "Number of samples: (668798, 215)\n",
            "Labels distribution: (array([0, 1]), array([334399, 334399]))\n"
          ],
          "name": "stdout"
        }
      ]
    },
    {
      "cell_type": "code",
      "metadata": {
        "id": "LuTMQEWXS_jJ"
      },
      "source": [
        "X_train, X_test, y_train, y_test = train_test_split(X_oversampled, y_oversampled, test_size=0.2)"
      ],
      "execution_count": null,
      "outputs": []
    },
    {
      "cell_type": "code",
      "metadata": {
        "id": "02xlqQ0CUh4y"
      },
      "source": [
        "ss = StandardScaler()\n",
        "X_train = ss.fit_transform(X_train)\n",
        "X_test = ss.transform(X_test)"
      ],
      "execution_count": null,
      "outputs": []
    },
    {
      "cell_type": "code",
      "metadata": {
        "colab": {
          "base_uri": "https://localhost:8080/"
        },
        "id": "pBhx2Rn5UiLg",
        "outputId": "103d6c88-16ec-4646-da46-96781f021394"
      },
      "source": [
        "model = build_model()\n",
        "model.compile(loss='binary_crossentropy', optimizer='adam', metrics=['accuracy'])\n",
        "model.fit(X_train, y_train, epochs=50, batch_size=256, validation_split=0.1)"
      ],
      "execution_count": null,
      "outputs": [
        {
          "output_type": "stream",
          "text": [
            "Epoch 1/50\n",
            "1881/1881 [==============================] - 6s 3ms/step - loss: 0.4491 - accuracy: 0.7848 - val_loss: 0.4182 - val_accuracy: 0.8003\n",
            "Epoch 2/50\n",
            "1881/1881 [==============================] - 6s 3ms/step - loss: 0.4225 - accuracy: 0.7987 - val_loss: 0.4161 - val_accuracy: 0.8024\n",
            "Epoch 3/50\n",
            "1881/1881 [==============================] - 6s 3ms/step - loss: 0.4166 - accuracy: 0.8026 - val_loss: 0.4147 - val_accuracy: 0.8032\n",
            "Epoch 4/50\n",
            "1881/1881 [==============================] - 6s 3ms/step - loss: 0.4151 - accuracy: 0.8022 - val_loss: 0.4127 - val_accuracy: 0.8038\n",
            "Epoch 5/50\n",
            "1881/1881 [==============================] - 6s 3ms/step - loss: 0.4123 - accuracy: 0.8034 - val_loss: 0.4098 - val_accuracy: 0.8043\n",
            "Epoch 6/50\n",
            "1881/1881 [==============================] - 6s 3ms/step - loss: 0.4096 - accuracy: 0.8057 - val_loss: 0.4079 - val_accuracy: 0.8060\n",
            "Epoch 7/50\n",
            "1881/1881 [==============================] - 6s 3ms/step - loss: 0.4084 - accuracy: 0.8055 - val_loss: 0.4078 - val_accuracy: 0.8072\n",
            "Epoch 8/50\n",
            "1881/1881 [==============================] - 6s 3ms/step - loss: 0.4048 - accuracy: 0.8076 - val_loss: 0.4049 - val_accuracy: 0.8083\n",
            "Epoch 9/50\n",
            "1881/1881 [==============================] - 6s 3ms/step - loss: 0.4030 - accuracy: 0.8091 - val_loss: 0.4033 - val_accuracy: 0.8095\n",
            "Epoch 10/50\n",
            "1881/1881 [==============================] - 6s 3ms/step - loss: 0.4014 - accuracy: 0.8101 - val_loss: 0.4005 - val_accuracy: 0.8111\n",
            "Epoch 11/50\n",
            "1881/1881 [==============================] - 6s 3ms/step - loss: 0.3987 - accuracy: 0.8117 - val_loss: 0.4017 - val_accuracy: 0.8115\n",
            "Epoch 12/50\n",
            "1881/1881 [==============================] - 6s 3ms/step - loss: 0.3980 - accuracy: 0.8122 - val_loss: 0.3999 - val_accuracy: 0.8115\n",
            "Epoch 13/50\n",
            "1881/1881 [==============================] - 6s 3ms/step - loss: 0.3946 - accuracy: 0.8143 - val_loss: 0.3982 - val_accuracy: 0.8127\n",
            "Epoch 14/50\n",
            "1881/1881 [==============================] - 6s 3ms/step - loss: 0.3925 - accuracy: 0.8144 - val_loss: 0.3973 - val_accuracy: 0.8139\n",
            "Epoch 15/50\n",
            "1881/1881 [==============================] - 6s 3ms/step - loss: 0.3911 - accuracy: 0.8169 - val_loss: 0.3971 - val_accuracy: 0.8128\n",
            "Epoch 16/50\n",
            "1881/1881 [==============================] - 6s 3ms/step - loss: 0.3900 - accuracy: 0.8166 - val_loss: 0.3944 - val_accuracy: 0.8145\n",
            "Epoch 17/50\n",
            "1881/1881 [==============================] - 6s 3ms/step - loss: 0.3879 - accuracy: 0.8175 - val_loss: 0.3936 - val_accuracy: 0.8150\n",
            "Epoch 18/50\n",
            "1881/1881 [==============================] - 6s 3ms/step - loss: 0.3866 - accuracy: 0.8183 - val_loss: 0.3951 - val_accuracy: 0.8141\n",
            "Epoch 19/50\n",
            "1881/1881 [==============================] - 6s 3ms/step - loss: 0.3848 - accuracy: 0.8196 - val_loss: 0.3926 - val_accuracy: 0.8164\n",
            "Epoch 20/50\n",
            "1881/1881 [==============================] - 6s 3ms/step - loss: 0.3831 - accuracy: 0.8202 - val_loss: 0.3909 - val_accuracy: 0.8170\n",
            "Epoch 21/50\n",
            "1881/1881 [==============================] - 6s 3ms/step - loss: 0.3815 - accuracy: 0.8215 - val_loss: 0.3922 - val_accuracy: 0.8172\n",
            "Epoch 22/50\n",
            "1881/1881 [==============================] - 6s 3ms/step - loss: 0.3828 - accuracy: 0.8204 - val_loss: 0.3895 - val_accuracy: 0.8188\n",
            "Epoch 23/50\n",
            "1881/1881 [==============================] - 6s 3ms/step - loss: 0.3809 - accuracy: 0.8216 - val_loss: 0.3924 - val_accuracy: 0.8177\n",
            "Epoch 24/50\n",
            "1881/1881 [==============================] - 6s 3ms/step - loss: 0.3799 - accuracy: 0.8225 - val_loss: 0.3904 - val_accuracy: 0.8198\n",
            "Epoch 25/50\n",
            "1881/1881 [==============================] - 6s 3ms/step - loss: 0.3790 - accuracy: 0.8224 - val_loss: 0.3908 - val_accuracy: 0.8195\n",
            "Epoch 26/50\n",
            "1881/1881 [==============================] - 6s 3ms/step - loss: 0.3781 - accuracy: 0.8229 - val_loss: 0.3892 - val_accuracy: 0.8187\n",
            "Epoch 27/50\n",
            "1881/1881 [==============================] - 6s 3ms/step - loss: 0.3763 - accuracy: 0.8239 - val_loss: 0.3881 - val_accuracy: 0.8201\n",
            "Epoch 28/50\n",
            "1881/1881 [==============================] - 6s 3ms/step - loss: 0.3749 - accuracy: 0.8250 - val_loss: 0.3879 - val_accuracy: 0.8186\n",
            "Epoch 29/50\n",
            "1881/1881 [==============================] - 6s 3ms/step - loss: 0.3740 - accuracy: 0.8254 - val_loss: 0.3892 - val_accuracy: 0.8196\n",
            "Epoch 30/50\n",
            "1881/1881 [==============================] - 6s 3ms/step - loss: 0.3723 - accuracy: 0.8273 - val_loss: 0.3883 - val_accuracy: 0.8201\n",
            "Epoch 31/50\n",
            "1881/1881 [==============================] - 6s 3ms/step - loss: 0.3726 - accuracy: 0.8267 - val_loss: 0.3880 - val_accuracy: 0.8208\n",
            "Epoch 32/50\n",
            "1881/1881 [==============================] - 6s 3ms/step - loss: 0.3712 - accuracy: 0.8274 - val_loss: 0.3879 - val_accuracy: 0.8206\n",
            "Epoch 33/50\n",
            "1881/1881 [==============================] - 6s 3ms/step - loss: 0.3711 - accuracy: 0.8272 - val_loss: 0.3872 - val_accuracy: 0.8204\n",
            "Epoch 34/50\n",
            "1881/1881 [==============================] - 6s 3ms/step - loss: 0.3696 - accuracy: 0.8277 - val_loss: 0.3874 - val_accuracy: 0.8215\n",
            "Epoch 35/50\n",
            "1881/1881 [==============================] - 6s 3ms/step - loss: 0.3695 - accuracy: 0.8279 - val_loss: 0.3860 - val_accuracy: 0.8223\n",
            "Epoch 36/50\n",
            "1881/1881 [==============================] - 6s 3ms/step - loss: 0.3677 - accuracy: 0.8297 - val_loss: 0.3840 - val_accuracy: 0.8229\n",
            "Epoch 37/50\n",
            "1881/1881 [==============================] - 6s 3ms/step - loss: 0.3660 - accuracy: 0.8308 - val_loss: 0.3852 - val_accuracy: 0.8214\n",
            "Epoch 38/50\n",
            "1881/1881 [==============================] - 6s 3ms/step - loss: 0.3668 - accuracy: 0.8297 - val_loss: 0.3846 - val_accuracy: 0.8219\n",
            "Epoch 39/50\n",
            "1881/1881 [==============================] - 6s 3ms/step - loss: 0.3652 - accuracy: 0.8306 - val_loss: 0.3859 - val_accuracy: 0.8224\n",
            "Epoch 40/50\n",
            "1881/1881 [==============================] - 6s 3ms/step - loss: 0.3664 - accuracy: 0.8301 - val_loss: 0.3857 - val_accuracy: 0.8223\n",
            "Epoch 41/50\n",
            "1881/1881 [==============================] - 6s 3ms/step - loss: 0.3649 - accuracy: 0.8312 - val_loss: 0.3880 - val_accuracy: 0.8238\n",
            "Epoch 42/50\n",
            "1881/1881 [==============================] - 6s 3ms/step - loss: 0.3643 - accuracy: 0.8314 - val_loss: 0.3841 - val_accuracy: 0.8241\n",
            "Epoch 43/50\n",
            "1881/1881 [==============================] - 6s 3ms/step - loss: 0.3621 - accuracy: 0.8320 - val_loss: 0.3838 - val_accuracy: 0.8252\n",
            "Epoch 44/50\n",
            "1881/1881 [==============================] - 6s 3ms/step - loss: 0.3636 - accuracy: 0.8317 - val_loss: 0.3847 - val_accuracy: 0.8253\n",
            "Epoch 45/50\n",
            "1881/1881 [==============================] - 6s 3ms/step - loss: 0.3617 - accuracy: 0.8323 - val_loss: 0.3846 - val_accuracy: 0.8251\n",
            "Epoch 46/50\n",
            "1881/1881 [==============================] - 6s 3ms/step - loss: 0.3610 - accuracy: 0.8330 - val_loss: 0.3838 - val_accuracy: 0.8250\n",
            "Epoch 47/50\n",
            "1881/1881 [==============================] - 6s 3ms/step - loss: 0.3605 - accuracy: 0.8335 - val_loss: 0.3843 - val_accuracy: 0.8252\n",
            "Epoch 48/50\n",
            "1881/1881 [==============================] - 6s 3ms/step - loss: 0.3591 - accuracy: 0.8342 - val_loss: 0.3841 - val_accuracy: 0.8241\n",
            "Epoch 49/50\n",
            "1881/1881 [==============================] - 6s 3ms/step - loss: 0.3608 - accuracy: 0.8334 - val_loss: 0.3821 - val_accuracy: 0.8262\n",
            "Epoch 50/50\n",
            "1881/1881 [==============================] - 6s 3ms/step - loss: 0.3600 - accuracy: 0.8340 - val_loss: 0.3847 - val_accuracy: 0.8259\n"
          ],
          "name": "stdout"
        },
        {
          "output_type": "execute_result",
          "data": {
            "text/plain": [
              "<tensorflow.python.keras.callbacks.History at 0x7ff588108c10>"
            ]
          },
          "metadata": {
            "tags": []
          },
          "execution_count": 230
        }
      ]
    },
    {
      "cell_type": "code",
      "metadata": {
        "colab": {
          "base_uri": "https://localhost:8080/"
        },
        "id": "5Zw1zpZte0yf",
        "outputId": "502a7a16-712f-4246-9efa-8d9ed4534586"
      },
      "source": [
        "model.evaluate(X_test, y_test)"
      ],
      "execution_count": null,
      "outputs": [
        {
          "output_type": "stream",
          "text": [
            "4180/4180 [==============================] - 7s 2ms/step - loss: 0.3841 - accuracy: 0.8258\n"
          ],
          "name": "stdout"
        },
        {
          "output_type": "execute_result",
          "data": {
            "text/plain": [
              "[0.3840586543083191, 0.8257550597190857]"
            ]
          },
          "metadata": {
            "tags": []
          },
          "execution_count": 232
        }
      ]
    },
    {
      "cell_type": "code",
      "metadata": {
        "colab": {
          "base_uri": "https://localhost:8080/",
          "height": 130
        },
        "id": "Kvmxwptee2uM",
        "outputId": "3df04ee0-1cb3-4bc3-a394-b4b0ade5702e"
      },
      "source": [
        "plot_confusion_matrix(model, [\"Rejected\", \"Accepted\"])1"
      ],
      "execution_count": null,
      "outputs": [
        {
          "output_type": "error",
          "ename": "SyntaxError",
          "evalue": "ignored",
          "traceback": [
            "\u001b[0;36m  File \u001b[0;32m\"<ipython-input-233-7bcaaeffbb18>\"\u001b[0;36m, line \u001b[0;32m1\u001b[0m\n\u001b[0;31m    plot_confusion_matrix(model, [\"Rejected\", \"Accepted\"])1\u001b[0m\n\u001b[0m                                                          ^\u001b[0m\n\u001b[0;31mSyntaxError\u001b[0m\u001b[0;31m:\u001b[0m invalid syntax\n"
          ]
        }
      ]
    },
    {
      "cell_type": "markdown",
      "metadata": {
        "id": "_GNBJaBMHP0Z"
      },
      "source": [
        "## Tensorboard"
      ]
    },
    {
      "cell_type": "code",
      "metadata": {
        "id": "TaGHAcq4Hj7v"
      },
      "source": [
        "%load_ext tensorboard\n",
        "!rm -rf ./logs/"
      ],
      "execution_count": null,
      "outputs": []
    },
    {
      "cell_type": "code",
      "metadata": {
        "id": "gj_zzUSpTFDv"
      },
      "source": [
        "class TestCallback(Callback):\n",
        "\n",
        "    def __init__(self, X_test, y_test, log_dir):\n",
        "        self.X_test = X_test\n",
        "        self.tesy_testt_data = y_test\n",
        "        self.log_dir = log_dir\n",
        "        \n",
        "\n",
        "    def on_train_end(self, logs=None):\n",
        "      loss, accuracy = self.model.evaluate(X_test, y_test)      \n",
        "      \n",
        "      with tf.summary.create_file_writer(self.log_dir+\"/test\").as_default():\n",
        "        tf.summary.scalar('test_loss', data=loss, step=1)\n",
        "        tf.summary.scalar('test_accuracy', data=accuracy, step=1)\n",
        "     \n",
        "      print(\"Test Loss: %.4f, Test Accuracy: %.4f\" % (loss, accuracy))\n",
        "      return loss, accuracy"
      ],
      "execution_count": null,
      "outputs": []
    },
    {
      "cell_type": "code",
      "metadata": {
        "id": "iRVJln9lEw4i"
      },
      "source": [
        "log_dir = \"logs/scalars/\" + datetime.now().strftime(\"%Y%m%d-%H%M%S\")\n",
        "\n",
        "print(logdir)\n",
        "\n",
        "model = build_model()\n",
        "model.compile(loss='binary_crossentropy', optimizer='adam', metrics=['accuracy'])\n",
        "tensorboard_callback = tf.keras.callbacks.TensorBoard(log_dir=log_dir, histogram_freq=1)\n",
        "model.fit(X_train, y_train, epochs=10, batch_size=128, validation_split=0.1, callbacks=[tensorboard_callback, TestCallback(X_test, y_test, log_dir)])"
      ],
      "execution_count": null,
      "outputs": []
    },
    {
      "cell_type": "code",
      "metadata": {
        "id": "LvSQsEyZHg3n"
      },
      "source": [
        "%tensorboard --logdir logs/scalars"
      ],
      "execution_count": null,
      "outputs": []
    },
    {
      "cell_type": "code",
      "metadata": {
        "id": "Z12iYXoBHy5i"
      },
      "source": [
        "!tensorboard dev upload \\\n",
        "  --logdir logs/fit \\\n",
        "  --name \"Health Insurance Cross Sell Prediction\" \\\n",
        "  --description \"Predict Health Insurance Owners' who will be interested in Vehicle Insurance\" \\\n",
        "  --one_shot"
      ],
      "execution_count": null,
      "outputs": []
    },
    {
      "cell_type": "markdown",
      "metadata": {
        "id": "J88VoyfdIbBR"
      },
      "source": [
        "## Tuning degli Iperparametri"
      ]
    },
    {
      "cell_type": "code",
      "metadata": {
        "id": "kxujM9X6Nii6"
      },
      "source": [
        "!rm -rf ./logs/"
      ],
      "execution_count": null,
      "outputs": []
    },
    {
      "cell_type": "code",
      "metadata": {
        "id": "JhNaPNR8ImrL"
      },
      "source": [
        "HP_NUM_UNITS = hp.HParam('num_units', hp.Discrete([16, 8]))\n",
        "HP_OPTIMIZER = hp.HParam('optimizer', hp.Discrete(['adam', 'sgd']))\n",
        "METRIC_ACCURACY = 'accuracy'"
      ],
      "execution_count": null,
      "outputs": []
    },
    {
      "cell_type": "code",
      "metadata": {
        "id": "sLO8Qjo1JAxF"
      },
      "source": [
        "def tune_model(hparams):\n",
        "  model = tf.keras.models.Sequential()\n",
        "  model.add(tf.keras.layers.Dense(hparams[HP_NUM_UNITS], input_dim=X_train.shape[1], activation='relu'))\n",
        "  model.add(tf.keras.layers.Dense(hparams[HP_NUM_UNITS], activation='relu'))\n",
        "  model.add(tf.keras.layers.Dense(hparams[HP_NUM_UNITS], activation='relu'))\n",
        "  model.add(tf.keras.layers.Dense(hparams[HP_NUM_UNITS], activation='relu'))\n",
        "  model.add(tf.keras.layers.Dense(1, activation=\"sigmoid\"))\n",
        "  model.compile(loss='binary_crossentropy', optimizer=hparams[HP_OPTIMIZER], metrics=['accuracy'])\n",
        "  return model"
      ],
      "execution_count": null,
      "outputs": []
    },
    {
      "cell_type": "code",
      "metadata": {
        "id": "LMHrsnIOKzsf"
      },
      "source": [
        "def run(log_dir, hparams):\n",
        "\n",
        "    hp.hparams(hparams) \n",
        "    model = tune_model(hparams)\n",
        "    \n",
        "    model.fit(X_train, y_train, \n",
        "              epochs=10, batch_size=512,\n",
        "              validation_split = 0.1,\n",
        "              callbacks=[\n",
        "                  tf.keras.callbacks.TensorBoard(log_dir),\n",
        "                  hp.KerasCallback(log_dir, hparams),\n",
        "                  TestCallback(X_test, y_test, log_dir)\n",
        "              ],\n",
        "    )"
      ],
      "execution_count": null,
      "outputs": []
    },
    {
      "cell_type": "code",
      "metadata": {
        "id": "9LLWssMWKgVe"
      },
      "source": [
        "session_num = 0\n",
        "\n",
        "for num_units in HP_NUM_UNITS.domain.values:\n",
        "  for optimizer in HP_OPTIMIZER.domain.values:\n",
        "      hparams = {\n",
        "          HP_NUM_UNITS: num_units,\n",
        "          HP_OPTIMIZER: optimizer,\n",
        "      }\n",
        "      run_name = \"run-%d\" % session_num\n",
        "      print('--- Starting trial: %s' % run_name)\n",
        "      print({h.name: hparams[h] for h in hparams})\n",
        "      run('logs/hparam_tuning/' + run_name, hparams)\n",
        "      session_num += 1"
      ],
      "execution_count": null,
      "outputs": []
    },
    {
      "cell_type": "code",
      "metadata": {
        "id": "V17ZIRKWL6or"
      },
      "source": [
        "%tensorboard --logdir logs/hparam_tuning"
      ],
      "execution_count": null,
      "outputs": []
    },
    {
      "cell_type": "code",
      "metadata": {
        "id": "ISkWoXVVOCEg"
      },
      "source": [
        "!tensorboard dev upload \\\n",
        "  --logdir logs/fit \\\n",
        "  --name \"Health Insurance Cross Sell Prediction\" \\\n",
        "  --description \"Predict Health Insurance Owners' who will be interested in Vehicle Insurance\" \\\n",
        "  --one_shot"
      ],
      "execution_count": null,
      "outputs": []
    },
    {
      "cell_type": "markdown",
      "metadata": {
        "id": "piceN86bhTRJ"
      },
      "source": [
        "## Esportare il modello"
      ]
    },
    {
      "cell_type": "code",
      "metadata": {
        "colab": {
          "base_uri": "https://localhost:8080/"
        },
        "id": "2NnKCxoV2W_W",
        "outputId": "3682dc5b-b6c1-4c3f-e9bb-651470ab1677"
      },
      "source": [
        "!mkdir model"
      ],
      "execution_count": null,
      "outputs": [
        {
          "output_type": "stream",
          "text": [
            "mkdir: cannot create directory ‘model’: File exists\n"
          ],
          "name": "stdout"
        }
      ]
    },
    {
      "cell_type": "code",
      "metadata": {
        "id": "l3WvYLeB1OWe"
      },
      "source": [
        "model.save(\"model/model.h5\")"
      ],
      "execution_count": null,
      "outputs": []
    },
    {
      "cell_type": "code",
      "metadata": {
        "colab": {
          "base_uri": "https://localhost:8080/"
        },
        "id": "6rkFZeaC178Z",
        "outputId": "9369c0a6-6755-4850-b324-ccd5fa88f208"
      },
      "source": [
        "from joblib import dump\n",
        "dump(ss, 'model/standard_scaler.joblib')"
      ],
      "execution_count": null,
      "outputs": [
        {
          "output_type": "execute_result",
          "data": {
            "text/plain": [
              "['model/standard_scaler.joblib']"
            ]
          },
          "metadata": {
            "tags": []
          },
          "execution_count": 239
        }
      ]
    },
    {
      "cell_type": "markdown",
      "metadata": {
        "id": "ktCid5Jm11uD"
      },
      "source": [
        "Proviamo ad importare"
      ]
    },
    {
      "cell_type": "code",
      "metadata": {
        "id": "OluaImem132X"
      },
      "source": [
        "model = load_model(\"model/model.h5\")"
      ],
      "execution_count": null,
      "outputs": []
    },
    {
      "cell_type": "code",
      "metadata": {
        "id": "RMIGF9rJ2jra"
      },
      "source": [
        "from joblib import load\n",
        "ss = load('model/standard_scaler.joblib')"
      ],
      "execution_count": null,
      "outputs": []
    },
    {
      "cell_type": "code",
      "metadata": {
        "colab": {
          "base_uri": "https://localhost:8080/"
        },
        "id": "C2TaYx2k3MGG",
        "outputId": "852ea861-3893-45c3-bf0b-a4c13f5721a5"
      },
      "source": [
        "# ss = ss.transform(X_test, y_test)\n",
        "model.evaluate(X_test, y_test)"
      ],
      "execution_count": null,
      "outputs": [
        {
          "output_type": "stream",
          "text": [
            "4180/4180 [==============================] - 6s 1ms/step - loss: 0.3841 - accuracy: 0.8258\n"
          ],
          "name": "stdout"
        },
        {
          "output_type": "execute_result",
          "data": {
            "text/plain": [
              "[0.3840586543083191, 0.8257550597190857]"
            ]
          },
          "metadata": {
            "tags": []
          },
          "execution_count": 245
        }
      ]
    },
    {
      "cell_type": "markdown",
      "metadata": {
        "id": "dJT85yj03WKs"
      },
      "source": [
        "## Esportare il modello in modo migliore"
      ]
    },
    {
      "cell_type": "code",
      "metadata": {
        "id": "3vu32_sW4Bu1"
      },
      "source": [
        "X_resampled, y_resampled = undersample(df, \"Response\")\n",
        "# X_resampled, y_resampled = oversample(df, \"Response\")\n",
        "X_train, X_test, y_train, y_test = train_test_split(X_resampled, y_resampled, test_size=0.2)\n",
        "\n",
        "mean = X_train.mean(axis=0)\n",
        "sd = X_train.std(axis=0)"
      ],
      "execution_count": null,
      "outputs": []
    },
    {
      "cell_type": "code",
      "metadata": {
        "colab": {
          "base_uri": "https://localhost:8080/"
        },
        "id": "k-nnKhcL5lBi",
        "outputId": "8fa008d2-5eef-4746-dac5-59228e3bb4bf"
      },
      "source": [
        "(X_train[0] - mean)/(sd+0.00001)"
      ],
      "execution_count": null,
      "outputs": [
        {
          "output_type": "execute_result",
          "data": {
            "text/plain": [
              "array([-1.15732177e+00, -1.95600940e-01,  3.82077505e-02, -5.97861186e-01,\n",
              "        4.32437198e-01,  6.40303628e-01, -1.60984878e+00, -4.57252368e-02,\n",
              "       -5.16317871e-03, -4.71715047e-02, -4.30006284e-02,  0.00000000e+00,\n",
              "       -6.44237954e-02, -5.87320909e-02, -2.16356590e-02, -2.99448502e-02,\n",
              "       -5.26914194e-02, -4.71715047e-02, -7.19492542e-02, -3.80317810e-02,\n",
              "       -4.61638330e-02, -3.45193745e-02, -7.30606359e-03, -1.75355059e-02,\n",
              "       -2.22458128e-02, -9.66842872e-03, -1.50737408e-02, -2.56038869e-02,\n",
              "       -3.49056570e-02, -4.63091166e-02, -7.99671765e-02, -6.02357170e-01,\n",
              "       -3.64797895e-03, -3.64797895e-03, -4.75968920e-02, -5.85022905e-02,\n",
              "       -4.84365629e-02, -6.32585853e-03,  0.00000000e+00,  0.00000000e+00,\n",
              "       -1.31799977e-02, -1.50737408e-02, -2.10078339e-02, -3.64797895e-03,\n",
              "       -8.16965936e-03, -5.16317871e-03, -3.64797895e-03, -2.03607035e-02,\n",
              "       -3.64797895e-03, -1.75355059e-02, -1.09644507e-02, -6.32585853e-03,\n",
              "       -1.31799977e-02, -5.16317871e-03, -5.16317871e-03,  0.00000000e+00,\n",
              "       -5.16317871e-03, -5.11369208e-02, -1.15581632e-02, -1.67550877e-02,\n",
              "       -5.99804754e-02, -1.31799977e-02, -3.64797895e-03, -7.30606359e-03,\n",
              "       -1.90005840e-02, -3.85572949e-02, -3.67765696e-02, -3.64797895e-03,\n",
              "       -5.16317871e-03, -1.31799977e-02, -1.15581632e-02, -6.32585853e-03,\n",
              "       -3.64797895e-03, -5.16317871e-03,  0.00000000e+00,  0.00000000e+00,\n",
              "       -3.64797895e-03, -6.32585853e-03,  0.00000000e+00,  0.00000000e+00,\n",
              "       -3.64797895e-03, -8.95042555e-03,  0.00000000e+00, -1.09644507e-02,\n",
              "       -6.32585853e-03,  0.00000000e+00,  0.00000000e+00,  0.00000000e+00,\n",
              "       -1.03367433e-02, -5.16317871e-03, -5.16317871e-03, -5.16317871e-03,\n",
              "       -1.15581632e-02, -2.28397108e-02, -7.30606359e-03, -6.32585853e-03,\n",
              "       -1.15581632e-02, -3.64797895e-03, -6.32585853e-03, -6.32585853e-03,\n",
              "       -3.64797895e-03, -5.16317871e-03, -7.30606359e-03, -5.16317871e-03,\n",
              "        0.00000000e+00, -1.31799977e-02, -3.64797895e-03,  0.00000000e+00,\n",
              "       -1.50737408e-02, -6.32585853e-03, -8.16965936e-03, -2.25447127e-02,\n",
              "       -3.64797895e-03, -1.26624557e-02,  0.00000000e+00, -1.59365665e-02,\n",
              "       -7.30606359e-03,  0.00000000e+00, -2.06867938e-02,  0.00000000e+00,\n",
              "       -6.32585853e-03, -1.26624557e-02, -3.97566545e-02, -1.67550877e-02,\n",
              "       -1.77780997e-01, -3.64797895e-03, -5.61203717e-01, -5.19199245e-02,\n",
              "        0.00000000e+00, -1.67550877e-02, -1.79129914e-02, -8.95042555e-03,\n",
              "       -6.32585853e-03, -1.79129914e-02, -8.16965936e-03, -1.15581632e-02,\n",
              "       -5.16317871e-03, -1.36779984e-02, -2.56038869e-02,  0.00000000e+00,\n",
              "       -1.63509411e-02, -1.63509411e-02, -1.67550877e-02,  0.00000000e+00,\n",
              "        0.00000000e+00, -2.16356590e-02,  0.00000000e+00, -2.34185893e-02,\n",
              "       -1.31799977e-02,  0.00000000e+00, -3.50972122e-02, -8.62509123e-02,\n",
              "       -5.57781558e-01, -3.47130503e-02, -1.52509217e-01, -7.41702065e-02,\n",
              "       -1.95553268e-01,  6.11396062e+00, -4.48352860e-02, -9.66842872e-03,\n",
              "       -1.93776301e-01, -1.12119991e-01, -6.70915783e-02, -4.96697114e-02,\n",
              "       -9.31472151e-02, -1.61283163e-01, -7.02384530e-02, -5.85022905e-02,\n",
              "       -1.16975436e-01, -9.64518225e-02, -2.94715403e-01, -8.36141323e-02,\n",
              "       -9.40924713e-02, -1.55513683e-01, -8.47424986e-02, -9.61688121e-02,\n",
              "       -1.04665117e-01, -1.72506093e-01, -6.47371300e-02, -7.38045899e-02,\n",
              "       -1.18377832e-01, -7.07177432e-02, -7.01422098e-02, -9.63811449e-02,\n",
              "       -5.46961540e-02, -7.52566328e-02, -8.03053793e-02, -6.82883308e-02,\n",
              "       -7.53464771e-02, -7.74721960e-02, -7.22025999e-01, -1.73776763e-01,\n",
              "       -1.63107816e-01, -7.15725387e-02, -7.78209693e-02, -1.35876792e-01,\n",
              "       -6.00926972e-02, -1.38408379e-01,  7.18752428e+00, -1.12912597e-01,\n",
              "       -8.32890135e-02, -1.11813721e-01, -5.95295035e-02, -2.23370015e-01,\n",
              "       -3.69584803e-02, -7.92865540e-02, -3.92471028e-02, -1.18610041e-01,\n",
              "       -2.23798853e-01, -1.33404616e-01, -1.08579856e-01, -6.57709794e-02,\n",
              "       -1.49917134e-01, -2.48069068e-02, -2.73736792e-02])"
            ]
          },
          "metadata": {
            "tags": []
          },
          "execution_count": 278
        }
      ]
    },
    {
      "cell_type": "code",
      "metadata": {
        "colab": {
          "base_uri": "https://localhost:8080/"
        },
        "id": "5mOaqAf25Un8",
        "outputId": "ab22aaf0-9cd3-487f-e5d6-566526ae3851"
      },
      "source": [
        "ss = StandardScaler()\n",
        "X_train_std = ss.fit_transform(X_train)\n",
        "\n",
        "X_train_std[0]"
      ],
      "execution_count": null,
      "outputs": [
        {
          "output_type": "execute_result",
          "data": {
            "text/plain": [
              "array([-1.15734516e+00, -1.95601077e-01,  3.82177625e-02, -5.97874760e-01,\n",
              "        4.32452468e-01,  6.40317727e-01, -1.60984878e+00, -4.57352555e-02,\n",
              "       -5.17315968e-03, -4.71815248e-02, -4.30106446e-02,  0.00000000e+00,\n",
              "       -6.44338353e-02, -5.87421237e-02, -2.16456591e-02, -2.99548558e-02,\n",
              "       -5.27014453e-02, -4.71815248e-02, -7.19593046e-02, -3.80417928e-02,\n",
              "       -4.61738521e-02, -3.45293835e-02, -7.31605047e-03, -1.75455033e-02,\n",
              "       -2.22558132e-02, -9.67841933e-03, -1.50837364e-02, -2.56138895e-02,\n",
              "       -3.49156664e-02, -4.63191359e-02, -7.99772392e-02, -6.02370798e-01,\n",
              "       -3.65795182e-03, -3.65795182e-03, -4.76069125e-02, -5.85123230e-02,\n",
              "       -4.84465842e-02, -6.33584318e-03,  0.00000000e+00,  0.00000000e+00,\n",
              "       -1.31899918e-02, -1.50837364e-02, -2.10178336e-02, -3.65795182e-03,\n",
              "       -8.17964782e-03, -5.17315968e-03, -3.65795182e-03, -2.03707028e-02,\n",
              "       -3.65795182e-03, -1.75455033e-02, -1.09744428e-02, -6.33584318e-03,\n",
              "       -1.31899918e-02, -5.17315968e-03, -5.17315968e-03,  0.00000000e+00,\n",
              "       -5.17315968e-03, -5.11469450e-02, -1.15681559e-02, -1.67650845e-02,\n",
              "       -5.99905097e-02, -1.31899918e-02, -3.65795182e-03, -7.31605047e-03,\n",
              "       -1.90105823e-02, -3.85673072e-02, -3.67865804e-02, -3.65795182e-03,\n",
              "       -5.17315968e-03, -1.31899918e-02, -1.15681559e-02, -6.33584318e-03,\n",
              "       -3.65795182e-03, -5.17315968e-03,  0.00000000e+00,  0.00000000e+00,\n",
              "       -3.65795182e-03, -6.33584318e-03,  0.00000000e+00,  0.00000000e+00,\n",
              "       -3.65795182e-03, -8.96041520e-03,  0.00000000e+00, -1.09744428e-02,\n",
              "       -6.33584318e-03,  0.00000000e+00,  0.00000000e+00,  0.00000000e+00,\n",
              "       -1.03467347e-02, -5.17315968e-03, -5.17315968e-03, -5.17315968e-03,\n",
              "       -1.15681559e-02, -2.28497116e-02, -7.31605047e-03, -6.33584318e-03,\n",
              "       -1.15681559e-02, -3.65795182e-03, -6.33584318e-03, -6.33584318e-03,\n",
              "       -3.65795182e-03, -5.17315968e-03, -7.31605047e-03, -5.17315968e-03,\n",
              "        0.00000000e+00, -1.31899918e-02, -3.65795182e-03,  0.00000000e+00,\n",
              "       -1.50837364e-02, -6.33584318e-03, -8.17964782e-03, -2.25547133e-02,\n",
              "       -3.65795182e-03, -1.26724494e-02,  0.00000000e+00, -1.59465628e-02,\n",
              "       -7.31605047e-03,  0.00000000e+00, -2.06967932e-02,  0.00000000e+00,\n",
              "       -6.33584318e-03, -1.26724494e-02, -3.97666678e-02, -1.67650845e-02,\n",
              "       -1.77791312e-01, -3.65795182e-03, -5.61216866e-01, -5.19299496e-02,\n",
              "        0.00000000e+00, -1.67650845e-02, -1.79229891e-02, -8.96041520e-03,\n",
              "       -6.33584318e-03, -1.79229891e-02, -8.17964782e-03, -1.15681559e-02,\n",
              "       -5.17315968e-03, -1.36879930e-02, -2.56138895e-02,  0.00000000e+00,\n",
              "       -1.63609377e-02, -1.63609377e-02, -1.67650845e-02,  0.00000000e+00,\n",
              "        0.00000000e+00, -2.16456591e-02,  0.00000000e+00, -2.34285906e-02,\n",
              "       -1.31899918e-02,  0.00000000e+00, -3.51072217e-02, -8.62609855e-02,\n",
              "       -5.57794669e-01, -3.47230595e-02, -1.52519449e-01, -7.41802601e-02,\n",
              "       -1.95563650e-01,  6.11434445e+00, -4.48453039e-02, -9.67841933e-03,\n",
              "       -1.93786676e-01, -1.12130115e-01, -6.71016218e-02, -4.96797340e-02,\n",
              "       -9.31573008e-02, -1.61293423e-01, -7.02485010e-02, -5.85123230e-02,\n",
              "       -1.16985572e-01, -9.64619145e-02, -2.94726271e-01, -8.36242010e-02,\n",
              "       -9.41025588e-02, -1.55523924e-01, -8.47525692e-02, -9.61789036e-02,\n",
              "       -1.04675226e-01, -1.72516390e-01, -6.47471703e-02, -7.38146430e-02,\n",
              "       -1.18387971e-01, -7.07277918e-02, -7.01522576e-02, -9.63912368e-02,\n",
              "       -5.47061821e-02, -7.52666882e-02, -8.03154426e-02, -6.82983760e-02,\n",
              "       -7.53565325e-02, -7.74822547e-02, -7.22041212e-01, -1.73787064e-01,\n",
              "       -1.63118081e-01, -7.15825885e-02, -7.78310286e-02, -1.35886976e-01,\n",
              "       -6.01027316e-02, -1.38418570e-01,  7.18805093e+00, -1.12922723e-01,\n",
              "       -8.32990817e-02, -1.11823845e-01, -5.95395372e-02, -2.23380513e-01,\n",
              "       -3.69684913e-02, -7.92966156e-02, -3.92571157e-02, -1.18620181e-01,\n",
              "       -2.23809354e-01, -1.33414793e-01, -1.08589973e-01, -6.57810211e-02,\n",
              "       -1.49927358e-01, -2.48169089e-02, -2.73836830e-02])"
            ]
          },
          "metadata": {
            "tags": []
          },
          "execution_count": 277
        }
      ]
    },
    {
      "cell_type": "code",
      "metadata": {
        "colab": {
          "base_uri": "https://localhost:8080/"
        },
        "id": "bpvJR-QL3aAG",
        "outputId": "33073d46-3980-4c68-fe5d-feddeda6236e"
      },
      "source": [
        "  model = tf.keras.models.Sequential()\n",
        "  model.add(tf.keras.layers.Lambda(lambda x: (x-mean)/(sd+0.00001)))\n",
        "  model.add(tf.keras.layers.Dense(128, input_dim=X_train.shape[1], activation='relu'))\n",
        "  model.add(tf.keras.layers.Dense(128, activation='relu'))\n",
        "  model.add(tf.keras.layers.Dense(64, activation='relu'))\n",
        "  model.add(tf.keras.layers.Dense(64, activation='relu'))\n",
        "  model.add(tf.keras.layers.Dense(32, activation='relu'))\n",
        "  model.add(tf.keras.layers.Dense(32, activation='relu'))\n",
        "  model.add(tf.keras.layers.Dense(1, activation='sigmoid'))\n",
        "\n",
        "model.compile(loss='binary_crossentropy', optimizer='adam', metrics=['accuracy'])\n",
        "model.fit(X_train, y_train, epochs=50, batch_size=256, validation_split=0.1)"
      ],
      "execution_count": null,
      "outputs": [
        {
          "output_type": "stream",
          "text": [
            "Epoch 1/50\n",
            "263/263 [==============================] - 2s 4ms/step - loss: 0.5177 - accuracy: 0.7545 - val_loss: 0.4429 - val_accuracy: 0.7877\n",
            "Epoch 2/50\n",
            "263/263 [==============================] - 1s 3ms/step - loss: 0.4289 - accuracy: 0.7952 - val_loss: 0.4361 - val_accuracy: 0.7929\n",
            "Epoch 3/50\n",
            "263/263 [==============================] - 1s 3ms/step - loss: 0.4279 - accuracy: 0.7954 - val_loss: 0.4344 - val_accuracy: 0.7936\n",
            "Epoch 4/50\n",
            "263/263 [==============================] - 1s 3ms/step - loss: 0.4219 - accuracy: 0.7998 - val_loss: 0.4363 - val_accuracy: 0.7960\n",
            "Epoch 5/50\n",
            "263/263 [==============================] - 1s 3ms/step - loss: 0.4217 - accuracy: 0.7981 - val_loss: 0.4364 - val_accuracy: 0.7931\n",
            "Epoch 6/50\n",
            "263/263 [==============================] - 1s 3ms/step - loss: 0.4194 - accuracy: 0.8007 - val_loss: 0.4360 - val_accuracy: 0.7953\n",
            "Epoch 7/50\n",
            "263/263 [==============================] - 1s 3ms/step - loss: 0.4153 - accuracy: 0.8029 - val_loss: 0.4357 - val_accuracy: 0.7958\n",
            "Epoch 8/50\n",
            "263/263 [==============================] - 1s 3ms/step - loss: 0.4149 - accuracy: 0.8040 - val_loss: 0.4355 - val_accuracy: 0.7966\n",
            "Epoch 9/50\n",
            "263/263 [==============================] - 1s 3ms/step - loss: 0.4173 - accuracy: 0.8004 - val_loss: 0.4361 - val_accuracy: 0.7953\n",
            "Epoch 10/50\n",
            "263/263 [==============================] - 1s 3ms/step - loss: 0.4140 - accuracy: 0.8032 - val_loss: 0.4437 - val_accuracy: 0.7942\n",
            "Epoch 11/50\n",
            "263/263 [==============================] - 1s 3ms/step - loss: 0.4123 - accuracy: 0.8045 - val_loss: 0.4400 - val_accuracy: 0.7968\n",
            "Epoch 12/50\n",
            "263/263 [==============================] - 1s 3ms/step - loss: 0.4119 - accuracy: 0.8037 - val_loss: 0.4353 - val_accuracy: 0.7964\n",
            "Epoch 13/50\n",
            "263/263 [==============================] - 1s 3ms/step - loss: 0.4091 - accuracy: 0.8062 - val_loss: 0.4391 - val_accuracy: 0.7934\n",
            "Epoch 14/50\n",
            "263/263 [==============================] - 1s 3ms/step - loss: 0.4087 - accuracy: 0.8052 - val_loss: 0.4387 - val_accuracy: 0.7958\n",
            "Epoch 15/50\n",
            "263/263 [==============================] - 1s 3ms/step - loss: 0.4079 - accuracy: 0.8060 - val_loss: 0.4413 - val_accuracy: 0.7919\n",
            "Epoch 16/50\n",
            "263/263 [==============================] - 1s 3ms/step - loss: 0.4061 - accuracy: 0.8078 - val_loss: 0.4366 - val_accuracy: 0.7945\n",
            "Epoch 17/50\n",
            "263/263 [==============================] - 1s 3ms/step - loss: 0.4084 - accuracy: 0.8046 - val_loss: 0.4456 - val_accuracy: 0.7965\n",
            "Epoch 18/50\n",
            "263/263 [==============================] - 1s 3ms/step - loss: 0.4039 - accuracy: 0.8092 - val_loss: 0.4409 - val_accuracy: 0.7960\n",
            "Epoch 19/50\n",
            "263/263 [==============================] - 1s 3ms/step - loss: 0.4037 - accuracy: 0.8078 - val_loss: 0.4437 - val_accuracy: 0.7925\n",
            "Epoch 20/50\n",
            "263/263 [==============================] - 1s 3ms/step - loss: 0.4026 - accuracy: 0.8080 - val_loss: 0.4460 - val_accuracy: 0.7945\n",
            "Epoch 21/50\n",
            "263/263 [==============================] - 1s 3ms/step - loss: 0.4009 - accuracy: 0.8089 - val_loss: 0.4385 - val_accuracy: 0.7922\n",
            "Epoch 22/50\n",
            "263/263 [==============================] - 1s 3ms/step - loss: 0.4026 - accuracy: 0.8076 - val_loss: 0.4396 - val_accuracy: 0.7925\n",
            "Epoch 23/50\n",
            "263/263 [==============================] - 1s 3ms/step - loss: 0.3989 - accuracy: 0.8125 - val_loss: 0.4459 - val_accuracy: 0.7954\n",
            "Epoch 24/50\n",
            "263/263 [==============================] - 1s 3ms/step - loss: 0.4011 - accuracy: 0.8093 - val_loss: 0.4509 - val_accuracy: 0.7909\n",
            "Epoch 25/50\n",
            "263/263 [==============================] - 1s 3ms/step - loss: 0.3972 - accuracy: 0.8114 - val_loss: 0.4537 - val_accuracy: 0.7914\n",
            "Epoch 26/50\n",
            "263/263 [==============================] - 1s 4ms/step - loss: 0.3948 - accuracy: 0.8123 - val_loss: 0.4473 - val_accuracy: 0.7949\n",
            "Epoch 27/50\n",
            "263/263 [==============================] - 1s 3ms/step - loss: 0.3938 - accuracy: 0.8142 - val_loss: 0.4555 - val_accuracy: 0.7941\n",
            "Epoch 28/50\n",
            "263/263 [==============================] - 1s 3ms/step - loss: 0.3897 - accuracy: 0.8162 - val_loss: 0.4482 - val_accuracy: 0.7910\n",
            "Epoch 29/50\n",
            "263/263 [==============================] - 1s 3ms/step - loss: 0.3881 - accuracy: 0.8167 - val_loss: 0.4539 - val_accuracy: 0.7940\n",
            "Epoch 30/50\n",
            "263/263 [==============================] - 1s 3ms/step - loss: 0.3874 - accuracy: 0.8150 - val_loss: 0.4518 - val_accuracy: 0.7926\n",
            "Epoch 31/50\n",
            "263/263 [==============================] - 1s 3ms/step - loss: 0.3889 - accuracy: 0.8155 - val_loss: 0.4545 - val_accuracy: 0.7925\n",
            "Epoch 32/50\n",
            "263/263 [==============================] - 1s 3ms/step - loss: 0.3876 - accuracy: 0.8166 - val_loss: 0.4563 - val_accuracy: 0.7894\n",
            "Epoch 33/50\n",
            "263/263 [==============================] - 1s 3ms/step - loss: 0.3858 - accuracy: 0.8160 - val_loss: 0.4589 - val_accuracy: 0.7922\n",
            "Epoch 34/50\n",
            "263/263 [==============================] - 1s 3ms/step - loss: 0.3845 - accuracy: 0.8169 - val_loss: 0.4724 - val_accuracy: 0.7907\n",
            "Epoch 35/50\n",
            "263/263 [==============================] - 1s 3ms/step - loss: 0.3848 - accuracy: 0.8169 - val_loss: 0.4748 - val_accuracy: 0.7889\n",
            "Epoch 36/50\n",
            "263/263 [==============================] - 1s 3ms/step - loss: 0.3831 - accuracy: 0.8190 - val_loss: 0.4706 - val_accuracy: 0.7894\n",
            "Epoch 37/50\n",
            "263/263 [==============================] - 1s 3ms/step - loss: 0.3818 - accuracy: 0.8178 - val_loss: 0.4813 - val_accuracy: 0.7936\n",
            "Epoch 38/50\n",
            "263/263 [==============================] - 1s 3ms/step - loss: 0.3749 - accuracy: 0.8219 - val_loss: 0.4877 - val_accuracy: 0.7901\n",
            "Epoch 39/50\n",
            "263/263 [==============================] - 1s 3ms/step - loss: 0.3771 - accuracy: 0.8199 - val_loss: 0.4768 - val_accuracy: 0.7886\n",
            "Epoch 40/50\n",
            "263/263 [==============================] - 1s 3ms/step - loss: 0.3739 - accuracy: 0.8231 - val_loss: 0.4824 - val_accuracy: 0.7870\n",
            "Epoch 41/50\n",
            "263/263 [==============================] - 1s 3ms/step - loss: 0.3736 - accuracy: 0.8217 - val_loss: 0.4734 - val_accuracy: 0.7877\n",
            "Epoch 42/50\n",
            "263/263 [==============================] - 1s 3ms/step - loss: 0.3743 - accuracy: 0.8230 - val_loss: 0.4896 - val_accuracy: 0.7866\n",
            "Epoch 43/50\n",
            "263/263 [==============================] - 1s 3ms/step - loss: 0.3746 - accuracy: 0.8204 - val_loss: 0.5018 - val_accuracy: 0.7851\n",
            "Epoch 44/50\n",
            "263/263 [==============================] - 1s 3ms/step - loss: 0.3661 - accuracy: 0.8266 - val_loss: 0.4929 - val_accuracy: 0.7891\n",
            "Epoch 45/50\n",
            "263/263 [==============================] - 1s 3ms/step - loss: 0.3693 - accuracy: 0.8249 - val_loss: 0.5020 - val_accuracy: 0.7903\n",
            "Epoch 46/50\n",
            "263/263 [==============================] - 1s 3ms/step - loss: 0.3687 - accuracy: 0.8247 - val_loss: 0.5241 - val_accuracy: 0.7858\n",
            "Epoch 47/50\n",
            "263/263 [==============================] - 1s 3ms/step - loss: 0.3663 - accuracy: 0.8259 - val_loss: 0.4878 - val_accuracy: 0.7890\n",
            "Epoch 48/50\n",
            "263/263 [==============================] - 1s 3ms/step - loss: 0.3665 - accuracy: 0.8247 - val_loss: 0.5088 - val_accuracy: 0.7858\n",
            "Epoch 49/50\n",
            "263/263 [==============================] - 1s 3ms/step - loss: 0.3677 - accuracy: 0.8249 - val_loss: 0.5186 - val_accuracy: 0.7867\n",
            "Epoch 50/50\n",
            "263/263 [==============================] - 1s 3ms/step - loss: 0.3646 - accuracy: 0.8254 - val_loss: 0.5353 - val_accuracy: 0.7866\n"
          ],
          "name": "stdout"
        },
        {
          "output_type": "execute_result",
          "data": {
            "text/plain": [
              "<tensorflow.python.keras.callbacks.History at 0x7ff5888b8bd0>"
            ]
          },
          "metadata": {
            "tags": []
          },
          "execution_count": 280
        }
      ]
    },
    {
      "cell_type": "code",
      "metadata": {
        "id": "ieOH_cJ-8Qfp"
      },
      "source": [
        "model.save(\"model.h5\")"
      ],
      "execution_count": null,
      "outputs": []
    },
    {
      "cell_type": "markdown",
      "metadata": {
        "id": "KN4PbzStEmSe"
      },
      "source": [
        "## Logistic Regression"
      ]
    },
    {
      "cell_type": "code",
      "metadata": {
        "colab": {
          "base_uri": "https://localhost:8080/"
        },
        "id": "hFVHseFuElfS",
        "outputId": "1e4be9b3-6a85-4a70-8792-a9638d324ae1"
      },
      "source": [
        "lr = LogisticRegression()\n",
        "lr.fit(X_train, y_train)\n",
        "lr.score(X_test, y_test)"
      ],
      "execution_count": null,
      "outputs": [
        {
          "output_type": "execute_result",
          "data": {
            "text/plain": [
              "0.5863305502033825"
            ]
          },
          "metadata": {
            "tags": []
          },
          "execution_count": 282
        }
      ]
    },
    {
      "cell_type": "markdown",
      "metadata": {
        "id": "TLo1H9qcEo7X"
      },
      "source": [
        "## Bibliografia e link utili\n",
        " - [Tensorflow Callbacks Documentation](https://www.tensorflow.org/api_docs/python/tf/keras/callbacks/Callback)\n",
        " - [Tensorboard documentation](https://www.tensorflow.org/tensorboard)\n",
        " - [Hyperparameter Tuning with the HParams Dashboard](https://www.tensorflow.org/tensorboard/hyperparameter_tuning_with_hparams)\n",
        " - "
      ]
    },
    {
      "cell_type": "code",
      "metadata": {
        "id": "bsB877IkgcoU"
      },
      "source": [
        ""
      ],
      "execution_count": null,
      "outputs": []
    }
  ]
}