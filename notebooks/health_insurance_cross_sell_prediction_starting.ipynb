{
  "nbformat": 4,
  "nbformat_minor": 0,
  "metadata": {
    "colab": {
      "name": "health_insurance_cross_sell_prediction_starting.ipynb",
      "provenance": [],
      "collapsed_sections": []
    },
    "kernelspec": {
      "name": "python3",
      "display_name": "Python 3"
    },
    "language_info": {
      "name": "python"
    },
    "accelerator": "GPU"
  },
  "cells": [
    {
      "cell_type": "markdown",
      "metadata": {
        "id": "nTEG8yW5DLIf"
      },
      "source": [
        "# Predizione di opportunità di Cross Sell di assicurazioni\n",
        "\n",
        "Il cliente è una compagnia di assicurazioni che ha fornito un'assicurazione sanitaria ai suoi clienti, adesso hanno bisogno del tuo aiuto per costruire un modello predittivo in grado di prevedere se gli assicurati dell'anno passato potrebbero essere interessati ad acquistare anche un'assicurazione per il proprio veicolo.\n",
        "\n",
        "Il dataset è composto dalle seguenti proprietà:\n",
        "- **id**: id univoco dell'acquirente.\n",
        "- **Gender**: sesso dell'acquirente.\n",
        "- **Age**: età dell'acquirente.\n",
        "- **Driving_License**: 1 se l'utente ha la patente di guida, 0 altrimenti.\n",
        "- **Region_Code**: codice univoco della regione dell'acquirente.\n",
        "- **Previously_Insured**: 1 se l'utente ha già un veicolo assicurato, 0 altrimenti.\n",
        "- **Vehicle_Age**: età del veicolo\n",
        "- **Vehicle_Damage**: 1 se l'utente ha danneggiato il veicolo in passato, 0 altrimenti.\n",
        "- **Annual_Premium**: la cifra che l'utente deve pagare come premio durante l'anno.\n",
        "- **Policy_Sales_Channel**: codice anonimizzato del canale utilizzato per la proposta (es. per email, per telefono, di persona, ecc...)\n",
        "- **Vintage**: numero di giorni dalla quale l'utente è cliente dell'azienda.\n",
        "- **Response**: 1 se l'acquirente ha risposto positivametne alla proposta di vendità, 0 altrimenti.\n",
        "\n",
        "L'obiettivo del modello è prevedere il valore di **Response** in base al valore delle altre proprietà"
      ]
    },
    {
      "cell_type": "markdown",
      "metadata": {
        "id": "RiBeqqy_KxCl"
      },
      "source": [
        "## Dipendenze"
      ]
    },
    {
      "cell_type": "code",
      "metadata": {
        "id": "yWgqUWkSKvsZ"
      },
      "source": [
        "import numpy as np\n",
        "import pandas as pd\n",
        "from sklearn.model_selection import train_test_split\n",
        "from sklearn.preprocessing import StandardScaler\n",
        "import tensorflow as tf\n",
        "from sklearn.feature_selection import mutual_info_classif\n",
        "from tensorboard.plugins.hparams import api as hp\n",
        "from tensorflow.keras.callbacks import Callback\n",
        "from tensorflow.keras.models import load_model\n",
        "import matplotlib.pyplot as plt\n",
        "from sklearn.metrics import confusion_matrix\n",
        "from sklearn.linear_model import LogisticRegression\n",
        "import seaborn as sns\n",
        "from datetime import datetime"
      ],
      "execution_count": null,
      "outputs": []
    },
    {
      "cell_type": "code",
      "metadata": {
        "id": "u0eejrg0OcJT"
      },
      "source": [
        "pd.set_option('display.max_rows', 300)\n",
        "plt.rcParams[\"figure.figsize\"] = (60,15)\n",
        "plt.rcParams['font.size'] = 14"
      ],
      "execution_count": null,
      "outputs": []
    },
    {
      "cell_type": "markdown",
      "metadata": {
        "id": "ONa2zi3BKnLM"
      },
      "source": [
        "## Scarichiamo il Dataset\n",
        "Il dataset è disponibile su Kaggle a [questo indirizzo](https://www.kaggle.com/anmolkumar/health-insurance-cross-sell-prediction). Per scaricarlo usiamo direttamente le API di Kaggle. Creiamo il file json di autenticazione con il nostro nome utente Kaggle e la chiave."
      ]
    },
    {
      "cell_type": "code",
      "metadata": {
        "id": "8IOtg-OrJHMp",
        "colab": {
          "base_uri": "https://localhost:8080/"
        },
        "outputId": "43016eee-062a-482f-f042-4f30278302f7"
      },
      "source": [
        "!mkdir ~/.kaggle/\n",
        "!echo '{\"username\":\"guizard\",\"key\":\"9b4890694553490c6c688d77c3048922\"}' > ~/.kaggle/kaggle.json\n",
        "!chmod 600 ~/.kaggle/kaggle.json"
      ],
      "execution_count": null,
      "outputs": [
        {
          "output_type": "stream",
          "text": [
            "mkdir: cannot create directory ‘/root/.kaggle/’: File exists\n"
          ],
          "name": "stdout"
        }
      ]
    },
    {
      "cell_type": "markdown",
      "metadata": {
        "id": "nmZnrE3HHQIu"
      },
      "source": [
        "Ora scarichiamo il dataset"
      ]
    },
    {
      "cell_type": "code",
      "metadata": {
        "colab": {
          "base_uri": "https://localhost:8080/"
        },
        "id": "vUIkqMDqItnJ",
        "outputId": "cc858c7e-1125-4e4d-a745-07a18f0794ce"
      },
      "source": [
        "!kaggle datasets download anmolkumar/health-insurance-cross-sell-prediction"
      ],
      "execution_count": null,
      "outputs": [
        {
          "output_type": "stream",
          "text": [
            "health-insurance-cross-sell-prediction.zip: Skipping, found more recently modified local copy (use --force to force download)\n"
          ],
          "name": "stdout"
        }
      ]
    },
    {
      "cell_type": "markdown",
      "metadata": {
        "id": "B9ddSmZhHS06"
      },
      "source": [
        "ed estraiamo lo zip scaricato"
      ]
    },
    {
      "cell_type": "code",
      "metadata": {
        "colab": {
          "base_uri": "https://localhost:8080/"
        },
        "id": "wr87jfP4o22a",
        "outputId": "50422297-e805-47ad-ffe2-ea41d2ac2dbb"
      },
      "source": [
        "!unzip health-insurance-cross-sell-prediction.zip\n",
        "!ls"
      ],
      "execution_count": null,
      "outputs": [
        {
          "output_type": "stream",
          "text": [
            "Archive:  health-insurance-cross-sell-prediction.zip\n",
            "replace sample_submission.csv? [y]es, [n]o, [A]ll, [N]one, [r]ename: health-insurance-cross-sell-prediction.zip  sample_submission.csv  train.csv\n",
            "sample_data\t\t\t\t    test.csv\n"
          ],
          "name": "stdout"
        }
      ]
    }
  ]
}